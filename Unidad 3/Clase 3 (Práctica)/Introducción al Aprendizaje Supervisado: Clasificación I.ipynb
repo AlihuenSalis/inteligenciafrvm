{
 "cells": [
  {
   "cell_type": "markdown",
   "metadata": {},
   "source": [
    "# Introducción al ML: Aprendizaje Supervisado - Clasificación (Parte I)\n",
    "\n",
    "* Vista general del Aprendizaje Supervisado\n",
    "* Problemas de Clasificación\n",
    "* k-Nearest Neighbors\n",
    "* Entrenamiento y test de un modelo\n",
    "* Validación cruzada\n",
    "* Ajuste de Híper-parámetros\n",
    "* Balance entre Sesgo y Varianza\n",
    "\n",
    "\n",
    "\n",
    "5to año - Ingeniería en Sistemas de Información\n",
    "\n",
    "UTN - Facultad Regional Villa María"
   ]
  },
  {
   "cell_type": "markdown",
   "metadata": {},
   "source": [
    "*\"We are drowning in information and starving for knowledge.\"*\n",
    "\n",
    "                                        –Rutherford D. Roger\n"
   ]
  },
  {
   "cell_type": "markdown",
   "metadata": {},
   "source": [
    "## Introducción al Aprendizaje Supervisado\n",
    "\n",
    "Objetivo de máxima: predecir salidas $y$ a partir de una matriz de entrada $X$. En donde\n",
    "\n",
    "    \n",
    "$X = \n",
    " \\begin{pmatrix}\n",
    "  x_{1,1} & x_{1,2} & \\cdots & x_{1,p} \\\\\n",
    "  x_{2,1} & x_{2,2} & \\cdots & x_{2,p} \\\\\n",
    "  \\vdots  & \\vdots  & \\ddots & \\vdots  \\\\\n",
    "  x_{n,1} & x_{n,2} & \\cdots & x_{n,p} \n",
    " \\end{pmatrix}\n",
    "$\n",
    "\n",
    "\n",
    "es una matriz de entradas de orden $n \\times p$, donde $n$ es la **cantidad de observaciones** (representando cada fila a una observación individual), mientras que $p$ es la **cantidad de predictores**. En otras palabras, $X$ es una matriz de $n$ entradas donde cada una tiene $p$ predictores. \n",
    "\n",
    "Por otra parte,\n",
    "\n",
    "$y = \n",
    " \\begin{pmatrix}\n",
    "  y_{1} \\\\\n",
    "  y_{2} \\\\\n",
    "  \\vdots  \\\\\n",
    "  y_{n}  \n",
    " \\end{pmatrix}$\n",
    "\n",
    "es un vector de orden $n \\times 1$ que representa las salidas observadas asociadas a cada fila de entradas. De esta manera, $y_i$ es un escalar de salida observada a partir del vector de entrada observada $X_i$, donde\n",
    "\n",
    "$X_i = \n",
    " \\begin{pmatrix}\n",
    "  x_{i,1} & x_{i,2} & \\cdots & x_{i,p}\n",
    " \\end{pmatrix}$\n"
   ]
  },
  {
   "cell_type": "markdown",
   "metadata": {},
   "source": [
    "Ejemplo (reducido a partir de https://archive.ics.uci.edu/ml/datasets/Mushroom):\n",
    "\n",
    "En base a nuestro (pequeño) conjunto de datos, tenemos que determinar si un hongo es o no venenoso. Contamos con 2 predictores: el predictor 1 es la forma del sombrero del hongo mientras que el predictor 2 es el color del sombrero. Por otra parte, la salida $y_i \\in \\{venenoso, comestible\\}$. Contamos con tres observaciones\n",
    "\n",
    "$X = \n",
    " \\begin{pmatrix}\n",
    "  \\text{convexa} & \\text{marrón} \\\\\n",
    "  \\text{convexa} & \\text{blanco} \\\\\n",
    "  \\text{campana} & \\text{blanco} \n",
    " \\end{pmatrix}\n",
    "$\n",
    "\n",
    "\n",
    "$y = \n",
    " \\begin{pmatrix}\n",
    "  \\text{venenoso} \\\\\n",
    "  \\text{comestible} \\\\\n",
    "  \\text{comestible}  \n",
    " \\end{pmatrix}$\n",
    " \n",
    "Dado nuestro conjunto de datos, queremos encontrar un modelo que pueda aprender cuándo un hongo es venenoso, para poder **generalizarlo** a hongos no vistos con anterioridad."
   ]
  },
  {
   "cell_type": "markdown",
   "metadata": {},
   "source": [
    "Vista general:\n",
    "    \n",
    "* Dado un conjunto de datos, existen un conjunto de variables llamado predictores (_**features** / inputs / predictors / independent variables_), los cuales pueden ser medidos.\n",
    "\n",
    "* Los mismos tienen influencia sobre otro conjunto de una o más variables llamadas variables de respuesta (_**response** / outputs / dependent / target variables_).\n",
    "\n",
    "* El **objetivo** de este tipo de aprendizaje es utilizar las entradas para poder **predecir** los valores de las variables de respuesta, de modo que nuestras predicciones $\\hat{y}$ (el \"sombrero\", $\\hat{}$, denota estimación) sean lo más cercana posible a los valores verdaderos observados $y = f(X) + \\epsilon$, donde $f(X)$ es la desconocida **función objetivo**."
   ]
  },
  {
   "cell_type": "markdown",
   "metadata": {},
   "source": [
    "* En el aprendizaje supervisado, contamos con un dataset $D = \\{(X_1,y_1), (X_2,y_2),..., (X_n,y_n)\\}$ compuesto tanto por los features de entrada $X \\in \\mathbb{R}^D$ como por las salidas $y \\in \\mathbb{R}$ o bien $y \\in \\{c_1, c_2, ..., c_n\\}$ dependiendo de si se trata de un problema de **regresión** o de **clasificación**, respectivamente.\n",
    "\n",
    "* Se lo considera como \"supervisado\" porque el agente que aprende cuenta a priori con ejemplos de comportamiento deseado. Tras **entrenar** con tales ejemplos, el agente aprende a generalizar su conocimiento de tal modo de generar buenas predicciones sobre datos no observados."
   ]
  },
  {
   "cell_type": "markdown",
   "metadata": {},
   "source": [
    "* A partir de $D$, se distinguen el subconjunto de **datos de entrenamiento**, utilizados para adaptar el modelo y el subconjunto de **datos de test**, empleados para testear la capacidad de generalización del modelo para salidas no utilizadas en el entrenamiento."
   ]
  },
  {
   "cell_type": "markdown",
   "metadata": {},
   "source": [
    "![](images/supervised_workflow.svg)"
   ]
  },
  {
   "cell_type": "markdown",
   "metadata": {},
   "source": [
    "Algunos ejemplos:\n",
    "\n",
    "* Predecir el riesgo de una determinada enfermedad.\n",
    "* Identificar una persona en una fotografía.\n",
    "* Predecir si un correo es o no spam.\n",
    "* Predecir el costo de una casa en base a sus características."
   ]
  },
  {
   "cell_type": "markdown",
   "metadata": {},
   "source": [
    "El aprendizaje supervisado se divide en dos categorías: regresión y clasificación.\n",
    "\n",
    "* En problemas de regresión, las salidas son variables continuas y ordenadas. En otras palabras, una predicción $y=14.7$ es mayor que una predicción $y=12.5$ (esto no implica que la primera predicción sea más precisa que la segunda).\n",
    "* En problemas de clasificación, por su parte, las salidas son variables nominales discretas y no ordenadas. Es decir que si las salidas posibles son \"rojo\" y \"naranja\", no es posible asumir un orden entre ellas como \"rojo\" > \"naranja\"."
   ]
  },
  {
   "cell_type": "markdown",
   "metadata": {},
   "source": [
    "Se describen a continuación dos librerías principales de python para estos problemas"
   ]
  },
  {
   "cell_type": "markdown",
   "metadata": {},
   "source": [
    "### sci-kit learn\n",
    "\n",
    "Es una librería que contiene un conjunto de algoritmos de ML de regresión, clasificación, clustering, etc. así como utilidades como sets de datos de ejemplo.\n",
    "\n",
    "sci-kit learn intenta definir una interfaz común para todos los algoritmos. El método común de la gran mayoría de los estimadores es fit(), el cual adapta los datos de entrenamiento al modelo elegido. Dependiendo de la naturaleza de cada algoritmo, se definen distintos métodos comunes para cada uno de ellos.\n",
    "\n",
    "Los datos en sci-kit learn, en la gran mayoría de los casos, se asumen como un array de dos dimensiones, de forma X=[n_ejemplos, n_características]. Cada ejemplo es un ítem a ser procesado (ejemplo, clasificado), pudiendo ser algo tan simple como una fila de excel a imágenes o videos.\n",
    "\n",
    "Por su parte, las características, cuya cantidad se establece a-priori, se usan para describir cada ítem de forma cuantitativa. Normalmente son representadas por valores reales, aunque también puede tratarse de valores booleanos o discretos."
   ]
  },
  {
   "cell_type": "markdown",
   "metadata": {},
   "source": [
    "Para el aprendizaje supervisado, scikit-learn provee la siguiente interfaz común de métodos\n",
    "\n",
    ">   + `model.predict()` : given a trained model, predict the label of a new set of data.\n",
    "    This method accepts one argument, the new data `X_new` (e.g. `model.predict(X_new)`),\n",
    "    and returns the learned label for each object in the array.\n",
    "  + `model.predict_proba()` : For classification problems, some estimators also provide\n",
    "    this method, which returns the probability that a new observation has each categorical label.\n",
    "    In this case, the label with the highest probability is returned by `model.predict()`.\n",
    "  + `model.decision_function()` : For classification problems, some estimators provide an uncertainty estimate that is not a probability. For binary classification, a decision_function >= 0 means the positive class will be predicted, while < 0 means the negative class.\n",
    "  + `model.score()` : for classification or regression problems, most (all?) estimators implement\n",
    "    a score method.  Scores are between 0 and 1, with a larger score indicating a better fit. For classifiers, the `score` method computes the prediction accuracy. For regressors, `score` computes the coefficient of determination (R<sup>2</sup>) of the prediction.\n",
    "  + `model.transform()` : For feature selection algorithms, this will reduce the dataset to the selected features. For some classification and regression models such as some linear models and random forests, this method reduces the dataset to the most informative features. These classification and regression models can therefore also be used as feature selection methods.\n"
   ]
  },
  {
   "cell_type": "markdown",
   "metadata": {},
   "source": [
    "### sci-py\n",
    "\n",
    "sci-py es una colección de librerías y algoritmos importante para machine learning. Normalmente el paquete a utilizar debe importarse por separado según necesidad. Algunos ejemplos:\n",
    "\n",
    "     cluster                      : Vector Quantization / Kmeans\n",
    "     fftpack                      : Discrete Fourier Transform algorithms\n",
    "     integrate                    : Integration routines\n",
    "     interpolate                  : Interpolation Tools\n",
    "     io                           : Data input and output\n",
    "     lib                          : Python wrappers to external libraries\n",
    "     lib.blas                     : Wrappers to BLAS library\n",
    "     lib.lapack                   : Wrappers to LAPACK library\n",
    "     linalg                       : Linear algebra routines\n",
    "     misc                         : Various utilities that don't have another home.\n",
    "     ndimage                      : n-dimensional image package\n",
    "     odr                          : Orthogonal Distance Regression\n",
    "     optimize                     : Optimization Tools\n",
    "     signal                       : Signal Processing Tools\n",
    "     sparse                       : Sparse Matrices\n",
    "     sparse.linalg                : Sparse Linear Algebra\n",
    "     sparse.linalg.dsolve         : Linear Solvers\n",
    "     sparse.linalg.dsolve.umfpack : :Interface to the UMFPACK library:\n",
    "     sparse.linalg.eigen          : Sparse Eigenvalue Solvers\n",
    "     sparse.linalg.eigen.arpack   : Eigenvalue solver using iterative methods.\n",
    "     sparse.linalg.eigen.lobpcg   : Locally Optimal Block Preconditioned\n",
    "                                      Conjugate Gradient Method (LOBPCG)     \n",
    "     spatial                      : Spatial data structures and algorithms\n",
    "     special                      : Airy Functions\n",
    "\n",
    "     stats                        : Statistical Functions                     "
   ]
  },
  {
   "cell_type": "code",
   "execution_count": 1,
   "metadata": {},
   "outputs": [
    {
     "name": "stdout",
     "output_type": "stream",
     "text": [
      "[-0.71239066  0.75376638 -0.04450308  0.45181234  1.34510171  0.53233789\n",
      "  1.3501879   0.86121137  1.47868574 -1.04537713]\n",
      "pdf = 0.398942280401\n",
      "cdf = 0.5\n"
     ]
    }
   ],
   "source": [
    "# ejemplo: distribución normal con media=0 y varianza=1\n",
    "import numpy as np\n",
    "from scipy import stats\n",
    "np.random.seed(13) # semilla aleatoria: muy útil para replicar experimentos\n",
    "dist = stats.norm(0,1)\n",
    "r = dist.rvs(10) # diez muestras aleatorias\n",
    "p = dist.pdf(0) # pdf en x=0\n",
    "c = dist.cdf(0) # cdf en x=0\n",
    "print(r)\n",
    "print('pdf =',p)\n",
    "print('cdf =',c)"
   ]
  },
  {
   "cell_type": "markdown",
   "metadata": {},
   "source": [
    "## Problemas de Clasificación\n",
    "\n",
    "* En los problemas de clasificación, la respuesta es **discreta** y **nominal**, en el sentido de que la misma es una categoria $c_i \\in \\{C_1, C_2, ..., C_n\\}$, en donde no podemos asumir en ningún caso que $c_i > c_j$.\n",
    "\n",
    "* Al no existir un ordenamiento entre las clases, no es posible calcular una distancia entre $y$ e $\\hat{y}$, tal como sí es posible en el caso de la regresión. Entonces, medidas como el error cuadrático medio utilizado en la regresión, $$MSE = \\frac{1}{n} \\sum^{n}_{i=1} (\\hat{y}_i - y_i)^2$$ no resultan una buenas para entrenar o evaluar un clasificador."
   ]
  },
  {
   "cell_type": "markdown",
   "metadata": {},
   "source": [
    "* Para medir la exactitud de un clasificador, la medida más común es el **error rate**, dado por\n",
    "$$\\frac{1}{n} \\sum_{i=1}^n I(y_i \\neq \\hat{y}_i)$$\n",
    "donde $I(y_i \\neq \\hat{y}_i) = 1$ si nuestra predicción difiere de la salida real, mientras que $I(y_i \\neq \\hat{y}_i) = 0$ si nuestro modelo predijo correctamente la salida para cada observación $i$."
   ]
  },
  {
   "cell_type": "markdown",
   "metadata": {},
   "source": [
    "Aclaración sobre la notación utilizada en las clases: el criterio utilizado para los nombres es el de mantener los nombres originales (en inglés) en la medida de lo posible. Esto se debe a que no existe amplia bibliografía en español sobre los temas aquí presentados, por lo tanto preferimos no traducir la mayoría de los términos, puesto que entendemos podría dificultar su posterior consulta en la bibliografía. Para aquellos términos que han sido traducidos, se aclara entre paréntesis su correspondiente término en inglés."
   ]
  },
  {
   "cell_type": "markdown",
   "metadata": {},
   "source": [
    "### k Nearest-Neighbors Classifier\n",
    "\n",
    "Un método muy simple y sin embargo muy efectivo para realizar clasificaciones es KNN: dadas $n$ observaciones en el conjunto de entrenamiento y un punto de test $X_0$, \n",
    "\n",
    "$$P(y = j \\mid X = X_0) = \\frac{1}{k} \\sum_{i \\in N_0} I(y_i = j)$$\n",
    "\n",
    "donde $N_0$ es un *neighbourhood* (\"vecindario\") de $X_0$ representado por los $k$ puntos más cercanos a dicho punto $X_0$.\n",
    "\n",
    "* kNN es un método **no paramétrico**, en el sentido de que no asume que las muestras provengan de una distribución probabilística parametrizada (por ejemplo con parámetros $\\mu$ y $\\sigma^2$).\n",
    "\n",
    "* kNN también puede utilizarse para regresiones, en donde el valor de salida es un promedio entre los valores de las $k$ observaciones más cercanas."
   ]
  },
  {
   "cell_type": "markdown",
   "metadata": {},
   "source": [
    "Si $K=1$, este clasiicador suele llamarse simplemente \"Nearest-Neighbor\"."
   ]
  },
  {
   "cell_type": "markdown",
   "metadata": {},
   "source": [
    "Vamos a inicializar nuestro entorno de trabajo en el Dataset Iris, tras presentarlo:"
   ]
  },
  {
   "cell_type": "markdown",
   "metadata": {},
   "source": [
    "### Dataset Iris\n",
    "\n",
    "\"Iris\" es un dataset que sirve como \"Hello World\" de ML. Consiste en un conjunto de ejemplos que contiene tres flores de Iris: setosa, virginica y versicolor. Las mismas están distribuídas en 50 ejemplos de cada flor, y sus características indican el largo y ancho tanto de su sépalo como de su pétalo, y también se especifica de qué clase de Iris se trata (setosa, virgínica o versicolor)."
   ]
  },
  {
   "cell_type": "code",
   "execution_count": 2,
   "metadata": {},
   "outputs": [
    {
     "data": {
      "image/png": "[encoded data removed]",
      "text/plain": [
       "<matplotlib.figure.Figure at 0x7f53ced73b70>"
      ]
     },
     "metadata": {},
     "output_type": "display_data"
    }
   ],
   "source": [
    "import matplotlib.pyplot as plt\n",
    "from sklearn.datasets import load_iris\n",
    "\n",
    "iris = load_iris()\n",
    "\n",
    "X, y = iris.data, iris.target\n",
    "\n",
    "# visualizamos cómo se relacionan el largo y el ancho del sépalo de las distintas flores\n",
    "plt.scatter(X[:,0], X[:,1]) \n",
    "plt.xlabel('Largo del sépalo')  # xlabel le da un nombre al eje de las x\n",
    "plt.ylabel('Ancho del sépalo')  # ylabel le da un nombre al eje de las y\n",
    "plt.show()"
   ]
  },
  {
   "cell_type": "code",
   "execution_count": 3,
   "metadata": {
    "collapsed": false,
    "scrolled": true
   },
   "outputs": [],
   "source": [
    "import matplotlib.pyplot as plt\n",
    "from sklearn.datasets import load_iris\n",
    "from sklearn import neighbors\n",
    "\n",
    "# tomamos los primeros dos features para mostrarlos mejor gráficamente (el largo y el ancho del sépalo)\n",
    "# (por eso el iris.data[:, :2])\n",
    "X = iris.data[:, :2]\n",
    "y = iris.target"
   ]
  },
  {
   "cell_type": "markdown",
   "metadata": {},
   "source": [
    "Ahora vamos a graficar los puntos del dataset para el largo y ancho del sépalo"
   ]
  },
  {
   "cell_type": "code",
   "execution_count": 4,
   "metadata": {},
   "outputs": [
    {
     "name": "stdout",
     "output_type": "stream",
     "text": [
      "['setosa' 'versicolor' 'virginica']\n",
      "['sepal length (cm)', 'sepal width (cm)', 'petal length (cm)', 'petal width (cm)']\n"
     ]
    }
   ],
   "source": [
    "# en primer lugar, vamos a ver las tres salidas posibles y los nombres de los features que elegimos\n",
    "\n",
    "print(iris.target_names)\n",
    "print(iris.feature_names)"
   ]
  },
  {
   "cell_type": "code",
   "execution_count": 5,
   "metadata": {},
   "outputs": [
    {
     "name": "stdout",
     "output_type": "stream",
     "text": [
      "[ 5.1  4.9  4.7  4.6  5.   5.4  4.6  5.   4.4  4.9  5.4  4.8  4.8  4.3  5.8\n",
      "  5.7  5.4  5.1  5.7  5.1  5.4  5.1  4.6  5.1  4.8  5.   5.   5.2  5.2  4.7\n",
      "  4.8  5.4  5.2  5.5  4.9  5.   5.5  4.9  4.4  5.1  5.   4.5  4.4  5.   5.1\n",
      "  4.8  5.1  4.6  5.3  5. ]\n"
     ]
    }
   ],
   "source": [
    "# tras esto, vamos a seleccionar todos los puntos asociados a cada una de las salidas.\n",
    "# Para ello vamos a restringir la matriz de entradas X a cada una de las entradas y\n",
    "# salidas que nos interesan\n",
    "\n",
    "# y==0 restringe X a aquellas filas asociadas con la salida 0, mientras que el 0 detrás\n",
    "# de la \",\" restringe X a la columna 0\n",
    "X_setosa_largo_sepalo = X[y==0, 0]\n",
    "print(X_setosa_largo_sepalo)"
   ]
  },
  {
   "cell_type": "code",
   "execution_count": 6,
   "metadata": {},
   "outputs": [],
   "source": [
    "# hacemos esto mismo para las demás combinaciones\n",
    "X_setosa_ancho_sepalo = X[y==0, 1]\n",
    "X_virginica_largo_sepalo = X[y==1, 0]\n",
    "X_virginica_ancho_sepalo = X[y==1, 1]\n",
    "X_versicolor_largo_sepalo = X[y==2, 0]\n",
    "X_versicolor_ancho_sepalo = X[y==2, 1]"
   ]
  },
  {
   "cell_type": "markdown",
   "metadata": {},
   "source": [
    "Para nuestros fines, el módulo *pyplot* de matplotlib funciona (simplificadamente) de la siguiente manera:\n",
    "\n",
    "1. En las primeras líneas de código se establecen los puntos, líneas o figuras que se desean graficar, como así también pueden establecerse extensiones para el gráfico (por ejemplo, darle un nombre a los ejes). Normalmente sigue el formato (para trazar curvas)\n",
    "\n",
    "        plt.plot(x, y)\n",
    "    \n",
    "    (las variables $x$ e $y$ aquí mencionadas hacen referencia a posiciones en el eje cartesiano, no confundir con $X$ e $y$ del dataset)\n",
    "    o bien, simplemente para graficar puntos,\n",
    "    \n",
    "        plt.scatter(x, y)\n",
    "        \n",
    "    en donde se determina que se realizará un gráfico tomando en cuenta la posición (x, y).\n",
    "\n",
    "    Por ejemplo, el código\n",
    "\n",
    "        plt.scatter(1, 2.5)\n",
    "        \n",
    "    indica que se introduce un punto en la posición $x=1$, $y=2.5$) de los ejes cartesianos.\n",
    "    Lo más cómodo es pasar vectores de puntos $X$ e $Y$, de tal forma que grafique cada par $(x_i, y_i)$.\n",
    "\n",
    "2. El gráfico deja de recibir entradas tras leer la línea \"plt.show()\", en donde se muestra el gráfico de acuerdo a los puntos, líneas o figuras establecidas anteriormente. "
   ]
  },
  {
   "cell_type": "code",
   "execution_count": 7,
   "metadata": {},
   "outputs": [
    {
     "data": {
      "image/png": "[encoded data removed]",
      "text/plain": [
       "<matplotlib.figure.Figure at 0x7f53c63cf1d0>"
      ]
     },
     "metadata": {},
     "output_type": "display_data"
    }
   ],
   "source": [
    "# graficamos de acuerdo a la distribución de los puntos\n",
    "\n",
    "plt.scatter(X_setosa_largo_sepalo, X_setosa_ancho_sepalo, label=iris.target_names[0], color='orange')\n",
    "plt.scatter(X_virginica_largo_sepalo, X_virginica_ancho_sepalo, label=iris.target_names[1], color='blue')\n",
    "plt.scatter(X_versicolor_largo_sepalo, X_versicolor_ancho_sepalo, label=iris.target_names[2], color='green')\n",
    "\n",
    "# legend coloca una caja con las leyendas correspondientes a los puntos del gráfico\n",
    "plt.legend(loc='best', numpoints=1) \n",
    "plt.xlabel('Largo del sépalo')\n",
    "plt.ylabel('Ancho del sépalo')\n",
    "\n",
    "plt.show()"
   ]
  },
  {
   "cell_type": "markdown",
   "metadata": {},
   "source": [
    "Notar que es también posible graficar utilizando directamente las restricciones sobre la matriz de datos $X$:"
   ]
  },
  {
   "cell_type": "code",
   "execution_count": 8,
   "metadata": {},
   "outputs": [
    {
     "data": {
      "image/png": "[encoded data removed]",
      "text/plain": [
       "<matplotlib.figure.Figure at 0x7f53c636d588>"
      ]
     },
     "metadata": {},
     "output_type": "display_data"
    }
   ],
   "source": [
    "plt.scatter(X[y==0, 0], X[y==0, 1], label=iris.target_names[0], color='orange')\n",
    "plt.scatter(X[y==1, 0], X[y==1, 1], label=iris.target_names[1], color='blue')\n",
    "plt.scatter(X[y==2, 0], X[y==2, 1], label=iris.target_names[2], color='green')\n",
    "\n",
    "plt.legend(loc='best', numpoints=1)\n",
    "plt.xlabel('Largo del sépalo')\n",
    "plt.ylabel('Ancho del sépalo')\n",
    "\n",
    "plt.show()"
   ]
  },
  {
   "cell_type": "markdown",
   "metadata": {},
   "source": [
    "Veamos cómo se ve un clasificador NN \"artesanal\", es decir un KNN donde K=1 (basado en http://cs231n.github.io/classification/). Para ello tenemos que definir, a priori, qué consideramos como distancia entre dos vectores $X_i$ y $X_j$, debido a que los mismos poseen varias columnas (predictores). Para empezar, vamos a utilizar la **distancia L1**, dada por\n",
    "\n",
    "$$d_{L1}(X_i, X_j) = \\sum_p \\big| I_{ip} - I_{jp} \\big|$$"
   ]
  },
  {
   "cell_type": "code",
   "execution_count": 9,
   "metadata": {
    "collapsed": false
   },
   "outputs": [],
   "source": [
    "class ClasificadorNN(object):  # <object> en [...]_NN(object) indica que hereda de la clase object\n",
    "\n",
    "    # <self> indica referencia a un objeto concreto de la clase\n",
    "    def __init__(self):\n",
    "        # inicializamos ambos atributos X e y arbitrariamente\n",
    "        self.X = []\n",
    "        self.y = []\n",
    "\n",
    "    def fit(self, X_train, y_train):\n",
    "        # para el caso de KNN, nuestro entrenamiento sólo consiste en recordar los datos\n",
    "        # (X, y) de entrenamiento\n",
    "        self.X = X_train\n",
    "        self.y = y_train\n",
    "\n",
    "    def predict(self, X_test):\n",
    "        # inicializamos nuestra variable de salida, y_hat, con un tamaño igual a la\n",
    "        # cantidad de filas\n",
    "        y_hat = np.zeros(X_test.shape[0])\n",
    "\n",
    "        for i in range(X_test.shape[0]):  # vamos a iterar sobre todas las filas de datos\n",
    "            vector_distancia = np.abs(self.X - X_test[i, :])\n",
    "            suma_distancias = np.sum(vector_distancia, axis=1)\n",
    "            indice_punto_mas_cercano = np.argmin(suma_distancias)\n",
    "            y_hat[i] = self.y[indice_punto_mas_cercano]\n",
    "\n",
    "        return y_hat"
   ]
  },
  {
   "cell_type": "markdown",
   "metadata": {},
   "source": [
    "Antes de continuar, vamos a dividir nuestro conjunto de datos en entrenamiento y test"
   ]
  },
  {
   "cell_type": "markdown",
   "metadata": {},
   "source": [
    "![](images/train_test_split.svg)"
   ]
  },
  {
   "cell_type": "markdown",
   "metadata": {},
   "source": [
    "* Al conjunto de entrenamiento lo utilizaremos para **entrenar el modelo**, haciendo que aprenda patrones o características en los datos para que pueda aprender a generalizar a casos no vistos. La diferencia entre las observaciones en el conjunto de entrenamiento y las predicciones de nuestro modelo está expresada por el **error de entrenamiento**, y es una de las medidas que determinan qué tan bien está entrenado nuestro modelo.\n",
    "\n",
    "* Por otra parte, al conjunto de test lo vamos a utilizar para **evaluar la capacidad de generalización del modelo**, observando cómo el mismo predice salidas a partir de entradas que no utilizó para entrenar. Similarmente, la diferencia entre las observaciones en el conjunto de test y las predicciones de nuestro modelo está expresada por el **error de test**, y es una de las medidas que nos dice qué tan bien está generalizando nuestro modelo."
   ]
  },
  {
   "cell_type": "code",
   "execution_count": 10,
   "metadata": {
    "collapsed": false
   },
   "outputs": [],
   "source": [
    "# Vamos a usar un conjunto de entrenamiento de 70% (105/150) y uno de test de 30% (45/150)\n",
    "\n",
    "X_train = X[0:105]\n",
    "X_test = X[105:150]\n",
    "y_train = y[0:105]\n",
    "y_test = y[105:150]"
   ]
  },
  {
   "cell_type": "code",
   "execution_count": 11,
   "metadata": {
    "collapsed": false,
    "scrolled": true
   },
   "outputs": [
    {
     "data": {
      "image/png": "[encoded data removed]",
      "text/plain": [
       "<matplotlib.figure.Figure at 0x7f53f413f8d0>"
      ]
     },
     "metadata": {},
     "output_type": "display_data"
    }
   ],
   "source": [
    "# Instanciamos nuestro clasificador\n",
    "\n",
    "clf = ClasificadorNN()\n",
    "clf.fit(X_train, y_train)\n",
    "y_hat = clf.predict(X_test)\n",
    "\n",
    "\n",
    "# Graficamos los resultados\n",
    "\n",
    "plt.scatter(X_test[y_test==0, 0], X_test[y_test==0, 1], label=iris.target_names[0], color='orange')\n",
    "plt.scatter(X_test[y_test==1, 0], X_test[y_test==1, 1], label=iris.target_names[1], color='blue')\n",
    "plt.scatter(X_test[y_test==2, 0], X_test[y_test==2, 1], label=iris.target_names[2], color='green')\n",
    "plt.scatter(X_test[y_test!=y_hat, 0], X_test[y_test!=y_hat, 1],\n",
    "                   label='clasif. incorrecta', c='black') # Agregamos las malas predicciones\n",
    "\n",
    "plt.legend(loc='best', numpoints=1)\n",
    "plt.xlabel('Largo del sépalo')\n",
    "plt.ylabel('Ancho del sépalo')\n",
    "\n",
    "plt.show()"
   ]
  },
  {
   "cell_type": "code",
   "execution_count": 12,
   "metadata": {
    "collapsed": false
   },
   "outputs": [
    {
     "name": "stdout",
     "output_type": "stream",
     "text": [
      "Porcentaje de aciertos:  0.24444444444444444\n"
     ]
    }
   ],
   "source": [
    "# ¿tantos incorrectos?\n",
    "\n",
    "print('Porcentaje de aciertos: ', len(y_test[y_test==y_hat])/len(y_test))\n",
    "# estamos obteniendo el porcentaje (o tasa de aciertos) al dividir la cantidad de ocurrencias del\n",
    "# conjunto y_test en donde los elementos coinciden con y_hat sobre la cantidad de ocurrencias de y_test"
   ]
  },
  {
   "cell_type": "markdown",
   "metadata": {},
   "source": [
    "¿Por qué clasifica tan mal?\n",
    "\n",
    "* Porque estamos tomando los datos de entrenamiento y test con **índices arbitrarios**, por ejemplo\n",
    "\n",
    "        y_train = y[0:105]"
   ]
  },
  {
   "cell_type": "code",
   "execution_count": 13,
   "metadata": {
    "collapsed": false
   },
   "outputs": [
    {
     "name": "stdout",
     "output_type": "stream",
     "text": [
      "[0 0 0 0 0 0 0 0 0 0 0 0 0 0 0 0 0 0 0 0 0 0 0 0 0 0 0 0 0 0 0 0 0 0 0 0 0\n",
      " 0 0 0 0 0 0 0 0 0 0 0 0 0 1 1 1 1 1 1 1 1 1 1 1 1 1 1 1 1 1 1 1 1 1 1 1 1\n",
      " 1 1 1 1 1 1 1 1 1 1 1 1 1 1 1 1 1 1 1 1 1 1 1 1 1 1 2 2 2 2 2]\n"
     ]
    }
   ],
   "source": [
    "# veamos más detalladamente...\n",
    "\n",
    "print(y_train)"
   ]
  },
  {
   "cell_type": "code",
   "execution_count": 14,
   "metadata": {
    "collapsed": false,
    "scrolled": true
   },
   "outputs": [
    {
     "name": "stdout",
     "output_type": "stream",
     "text": [
      "[2 2 2 2 2 2 2 2 2 2 2 2 2 2 2 2 2 2 2 2 2 2 2 2 2 2 2 2 2 2 2 2 2 2 2 2 2\n",
      " 2 2 2 2 2 2 2 2]\n"
     ]
    }
   ],
   "source": [
    "print(y_test)"
   ]
  },
  {
   "cell_type": "markdown",
   "metadata": {},
   "source": [
    "* Casi no tiene ejemplos de entrenamiento para la clase \"virginica\", mientras que el conjunto de test abarca toda esa clase...\n",
    "* Este es un **error grave** al preparar los datos para su entrenamiento en un modelo, porque los datos están previamente ordenados de acuerdo a algún criterio."
   ]
  },
  {
   "cell_type": "markdown",
   "metadata": {},
   "source": [
    "¿Solución?\n",
    "\n",
    "* Mezclar los datos para que su orden sea aleatorio.\n",
    "* Afortunadamente scikit\\_learn nos provee con un método justo para hacer eso..."
   ]
  },
  {
   "cell_type": "code",
   "execution_count": 15,
   "metadata": {
    "collapsed": false
   },
   "outputs": [
    {
     "name": "stdout",
     "output_type": "stream",
     "text": [
      "[1 2 0 1 0 1 1 1 0 1 1 2 1 0 0 2 1 0 0 0 2 2 2 0 1 0 1 1 1 2 1 1 2 2 2 0 2\n",
      " 2 2 2 0 0 1 0 1]\n"
     ]
    }
   ],
   "source": [
    "from sklearn.model_selection import train_test_split\n",
    "\n",
    "# Dividimos el conjunto en train, test\n",
    "X_train, X_test, y_train, y_test = train_test_split(X, y, random_state=10, test_size=0.3)\n",
    "\n",
    "# vemos los resultados...\n",
    "print(y_test)"
   ]
  },
  {
   "cell_type": "code",
   "execution_count": 16,
   "metadata": {
    "collapsed": false,
    "scrolled": false
   },
   "outputs": [
    {
     "data": {
      "image/png": "[encoded data removed]",
      "text/plain": [
       "<matplotlib.figure.Figure at 0x7f53c61c2160>"
      ]
     },
     "metadata": {},
     "output_type": "display_data"
    }
   ],
   "source": [
    "#Probamos nuevamente...\n",
    " \n",
    "clf.fit(X_train, y_train)\n",
    "y_hat = clf.predict(X_test)\n",
    "\n",
    "# Graficamos los resultados\n",
    "\n",
    "plt.scatter(X_test[y_test==0, 0], X_test[y_test==0, 1], label=iris.target_names[0], color='orange')\n",
    "plt.scatter(X_test[y_test==1, 0], X_test[y_test==1, 1], label=iris.target_names[1], color='blue')\n",
    "plt.scatter(X_test[y_test==2, 0], X_test[y_test==2, 1], label=iris.target_names[2], color='green')\n",
    "plt.scatter(X_test[y_test!=y_hat, 0], X_test[y_test!=y_hat, 1],\n",
    "                   label='clasif. incorrecta', c='black') # Agregamos las malas predicciones\n",
    "\n",
    "plt.legend(loc='best', numpoints=1)\n",
    "plt.xlabel('Largo del sépalo')\n",
    "plt.ylabel('Ancho del sépalo')\n",
    "\n",
    "plt.show()"
   ]
  },
  {
   "cell_type": "code",
   "execution_count": 17,
   "metadata": {
    "collapsed": false
   },
   "outputs": [
    {
     "name": "stdout",
     "output_type": "stream",
     "text": [
      "Porcentaje de aciertos:  0.7111111111111111\n"
     ]
    }
   ],
   "source": [
    "# veamos ahora...\n",
    "\n",
    "print('Porcentaje de aciertos: ', len(y_test[y_test==y_hat])/len(y_test))"
   ]
  },
  {
   "cell_type": "markdown",
   "metadata": {},
   "source": [
    "scikit-learn ofrece herramientas muy similares al clasificador que implementamos. Veamos cómo podemos implementar un clasificador NN utilizando la librería a alto nivel de scikit-learn."
   ]
  },
  {
   "cell_type": "code",
   "execution_count": 18,
   "metadata": {
    "collapsed": false,
    "scrolled": true
   },
   "outputs": [
    {
     "data": {
      "image/png": "[encoded data removed]",
      "text/plain": [
       "<matplotlib.figure.Figure at 0x7f53f86280f0>"
      ]
     },
     "metadata": {},
     "output_type": "display_data"
    }
   ],
   "source": [
    "# Instanciamos nuestro clasificador\n",
    "clf_sk = neighbors.KNeighborsClassifier(n_neighbors=1)\n",
    "\n",
    "clf_sk.fit(X_train,y_train)\n",
    "y_hat = clf_sk.predict(X_test)\n",
    "\n",
    "plt.scatter(X_test[y_test==0, 0], X_test[y_test==0, 1], label=iris.target_names[0], color='orange')\n",
    "plt.scatter(X_test[y_test==1, 0], X_test[y_test==1, 1], label=iris.target_names[1], color='blue')\n",
    "plt.scatter(X_test[y_test==2, 0], X_test[y_test==2, 1], label=iris.target_names[2], color='green')\n",
    "plt.scatter(X_test[y_test!=y_hat, 0], X_test[y_test!=y_hat, 1],\n",
    "                   label='clasif. incorrecta', c='black') # Agregamos las malas predicciones\n",
    "\n",
    "plt.legend(loc='best', numpoints=1)\n",
    "plt.xlabel('Largo del sépalo')\n",
    "plt.ylabel('Ancho del sépalo')\n",
    "\n",
    "plt.show()"
   ]
  },
  {
   "cell_type": "code",
   "execution_count": 19,
   "metadata": {
    "collapsed": false
   },
   "outputs": [
    {
     "name": "stdout",
     "output_type": "stream",
     "text": [
      "Tasa de aciertos:  0.7555555555555555\n"
     ]
    }
   ],
   "source": [
    "print('Tasa de aciertos: ', len(y_test[y_test==y_hat])/len(y_test))"
   ]
  },
  {
   "cell_type": "markdown",
   "metadata": {},
   "source": [
    "También podemos obtener esta misma tasa a partir de los métodos de scikit-learn, lo cual nos ahorra el tener que hacerlo a mano."
   ]
  },
  {
   "cell_type": "code",
   "execution_count": 20,
   "metadata": {},
   "outputs": [
    {
     "name": "stdout",
     "output_type": "stream",
     "text": [
      "Tasa de aciertos:  0.755555555556\n"
     ]
    }
   ],
   "source": [
    "from sklearn.metrics import accuracy_score\n",
    "\n",
    "print('Tasa de aciertos: ', accuracy_score(y_true=y_test, y_pred=y_hat))"
   ]
  },
  {
   "cell_type": "markdown",
   "metadata": {},
   "source": [
    "## Validación cruzada\n",
    "\n",
    "Nuestra mejora en la tasa de aciertos se debió a que reordenamos el conjunto de datos aleatoriamente. Ahora bien, ¿qué sucedería si tenemos realmente muy mala suerte en el ordenamiento de los datos y volviéramos a tener un conjunto parecido al primero? ¿Y si en cambio tenemos muy buena suerte y el porcentaje de aciertos alcanzado es mucho mayor porque las predicciones mas difíciles estaban en el conjunto de entrenamiento?\n",
    "\n",
    "* **Validación cruzada**: los datos son repetidamente separados en pares no superpuestos de entrenamiento y test, donde se ajusta un modelo separado para cada uno de dichos pares y se promedian los resultados.\n",
    "\n",
    "* El método más común de validación cruzada es *k-folds*, donde los datos son separados en *k* pliegues (folds, normalmente son 5 o 10), donde para cada iteración se usa uno de los pliegues como conjunto de test y el resto como conjunto de entrenamiento, siendo la salida el promedio de los errores de todas las iteraciones.\n",
    "\n",
    "* Este método asegura que todos los datos sean incluidos en el conjunto de test al menos una vez.\n",
    "\n",
    "* Desventaja: aumenta muy considerablemente el costo computacional, haciendo que este método sea muy costoso para datasets grandes.\n",
    "\n",
    "![](images/k-fold_cross_validation.png)\n",
    "\n"
   ]
  },
  {
   "cell_type": "markdown",
   "metadata": {},
   "source": [
    "## Ajuste de Híper-parámetros\n",
    "\n",
    "Ahora que sabemos cómo evaluar un modelo, vamos a ver el que es uno de los temas más complejos en ML: el ajuste de los híper-parámetros.\n",
    "\n",
    "* Quitando el caso de kNN, casi todo modelo internamente relaciona las entradas con las salidas por medio de **parámetros** que, dicho informalmente, expresan características del mismo.\n",
    "\n",
    "* Es en los parámetros que el modelo \"guarda su aprendizaje\" tras el entrenamiento, el cual suele consistir en ajustar iterativamente tales parámetros hasta que los mismos se estabilicen o alcancen alguna métrica.\n",
    "\n",
    "* Por ejemplo, en una regresión lineal donde $\\hat{y} = ax + b$, los parámetros son $a$ y $b$."
   ]
  },
  {
   "cell_type": "markdown",
   "metadata": {},
   "source": [
    "* Ahora bien, existen características que definen al modelo pero no son modificadas en el entrenamiento sino que se ubican en un nivel más alto de abstracción que los parámetros. Tales se conocen como **híper-parámetros**, y se denotan por $\\theta = (\\theta_1, \\theta_2, \\dots)$.\n",
    "\n",
    "* Los híper-parámetros son cruciales en el aprendizaje de un modelo, porque afectan cómo el mismo se desempeña y entrena.\n",
    "\n",
    "* Pueden ir desde un nivel bajo de abstracción, por ejemplo $\\theta$ puede representar la cantidad $k$ de vecinos en un algoritmo kNN, escalar más en la abstracción y representar la fórmula de distancia entre dos vectores, o bien escalar mucho más y representar qué modelo se utiliza (en ese caso tal híper-parámetro se suele denotar como $M$)."
   ]
  },
  {
   "cell_type": "markdown",
   "metadata": {},
   "source": [
    "* Es en el ajuste de híper-parámetros uno de los puntos principales donde ML es más un arte que una ciencia.\n",
    "\n",
    "* Muchas veces los $\\theta$ son establecidos por \"decisiones de diseño\" (ejemplo: \"vamos a utilizar el siguiente modelo por su capacidad de explicar sus predicciones\"); otras veces son establecidos a mano por prueba y error, y otras veces son ajustados a partir de algún método.\n",
    "\n",
    "* Vamos a ver una forma de ajustarlos: separar un subconjunto del conjunto de entrenamiento para validación del modelo y utilizar Grid Search."
   ]
  },
  {
   "cell_type": "markdown",
   "metadata": {},
   "source": [
    "![](images/cross-validation_and_hyperparams.jpeg)\n",
    "\n",
    "Fuente: curso Convolutional Neural Networks for Visual Recognition (2016)\n",
    "\n",
    "* Vamos a usar el fold amarillo para ajustar los híper-parámetros (en la siguiente sección veremos por qué).\n",
    "* Una vez determinados los mejores híper-parámetros, el conjunto de test debe entonces utilizarse una única vez para ver el resultado final de nuestro predictor.\n"
   ]
  },
  {
   "cell_type": "markdown",
   "metadata": {},
   "source": [
    "## Repaso: equilibrio entre sesgo y varianza (_bias/variance tradeoff_)\n",
    "\n",
    "En aprendizaje supervisado, al elegir un modelo o sus híper-parámetros, existe un balance entre dos tipos de errores a minimizar: por un lado está el **error de sesgo**, que ocurre por la diferencia entre la realidad y las asunciones que tomamos con nuestro modelo y sus híper-parámetros. Un error alto de sesgo produce lo que se denomina **underfitting**.\n",
    "\n",
    "Por otra parte está el **error de varianza**, el cual ocurre cuando el modelo se ajusta a las pequeñas fluctuaciones en el conjunto de datos ocasionadas por el ruido o la estocacidad inherente al generar los datos.\n",
    "\n",
    "* Tales errores son contrapuestos y dependen de la **flexibilidad del modelo** como puede verse en la figura.\n",
    "\n",
    "![](images/bias_variance_tradeoff.png)\n",
    "\n",
    "(Fuente: Hastie et. al. - An Introduction to Statistical Learning with Applications in R (2013))\n"
   ]
  },
  {
   "cell_type": "markdown",
   "metadata": {},
   "source": [
    "Ejemplo de underfitting:\n",
    "\n",
    "![](images/underfitting.png)"
   ]
  },
  {
   "cell_type": "markdown",
   "metadata": {},
   "source": [
    "En la práctica, el overfitting suele ser mucho más problemático que el underfitting. Esto es debido a que hoy en día se dispone de modelos que son capaces de ser muy flexibles, por lo que el underfitting es fácilmente resuelto. El problema mayor es el overfitting. Ejemplos (fuente: https://ml.berkeley.edu/blog/2017/07/13/tutorial-4/):"
   ]
  },
  {
   "cell_type": "markdown",
   "metadata": {},
   "source": [
    "![](images/overfitting.png)"
   ]
  },
  {
   "cell_type": "markdown",
   "metadata": {},
   "source": [
    "![](images/doger_fitting_1.jpg)"
   ]
  },
  {
   "cell_type": "markdown",
   "metadata": {},
   "source": [
    "![](images/doger_fitting_2.jpg)\n",
    "\n"
   ]
  },
  {
   "cell_type": "markdown",
   "metadata": {},
   "source": [
    "Lo cual ha tenido consecuencias catastróficas. Ejemplo: criterio de construcción de la planta nuclear de Japón (300 vs. 13000 años):\n",
    "\n",
    "![](images/earthquake-fit-analysis.png)"
   ]
  },
  {
   "cell_type": "markdown",
   "metadata": {},
   "source": [
    "## Trabajo Práctico 3 - Parte I\n",
    "\n",
    "### Ejercicios básicos\n",
    "\n",
    "1. Modificar la fórmula de distancia en el algoritmo NN para que el mismo implemente la distancia Euclideana, es decir\n",
    "$$d_{L2}(X_i, X_j) = \\sum_p \\sqrt{(I_{ip} - I_{jp})^2}$$\n",
    "\n",
    "2. Comparar el resultado de la predicción con el algoritmo NN original. ¿Cambia la predicción realizada? ¿Por qué? Justifique brevemente.\n",
    "\n",
    "3. Tomando como base los gráficos donde se muestran los errores de acierto, graficar los resultados de la clasificación para los features Largo y Ancho del Pétalo. Este nuevo gráfico debe colorear aquellos puntos que fueron correctamente clasificados de color verde (sin importar a qué clase pertenece), mientras que aquellos puntos que fueron mal clasificados debe colorearlos de rojo (también independientemente de la clase).\n",
    "\n",
    "### Ejercicios complementarios\n",
    "\n",
    "1. Tomando el clasificador kNN de alto nivel de scikit-learn, hacer un k-folds con 5 pliegues para obtener la tasa de aciertos promedio (al final del notebook se pone una plantilla para k-folds). Mostrar en pantalla la tasa de acierto de cada pliegue, junto con el promedio de los 5 pliegues. ¿Es considerable la diferencia entre los aciertos de los 5 pliegues? Justifique brevemente el motivo de su respuesta.\n",
    "\n",
    "2. Dentro de cada pliegue optimizar el híper-parámetro $k$ de kNN haciendo un grid-search desde $k=1$ hasta $k=20$ (recordar que la optimización de los híper-parámetros debe hacerse considerando la tasa de aciertos de cada $k$ con al conjunto de validación en cada uno de los folds). Guardar el $k$ que maximiza la tasa de aciertos sobre el conjunto de validación en cada pliegue y mostrarlo en pantalla.\n",
    "\n",
    "3. Utilizando el $k$ que maximiza la tasa de aciertos del conjunto de validación, entrenar el modelo con tal $k$ y con todo el conjunto de entrenamiento y determinar cuál es la tasa de aciertos al predecir los X del conjunto de test.\n",
    "\n",
    "\n",
    "### Ejercicios extra\n",
    "\n",
    "1. Modificar el clasificador NN artesanal de este notebook para hacerlo kNN. Dado un conjunto de test fijo, realizar la optimización del híper-parámetro $k$ desde $k=1$ hasta $k=20$. Mostrar en pantalla el mejor $k$ y la tasa de aciertos promedio del conjunto de validación del algoritmo kNN para el mismo.\n",
    "\n",
    "2. Probar cómo generaliza el conjunto de test el modelo entrenado con el mejor $k$.\n",
    "\n",
    "**Fecha de entrega Parte I: 02/05/2018 23:55 **.\n",
    "\n",
    "Recordatorio: la resolución de los ejercicios es **individual**. Está permitida la reutilización del código del notebook (por ejemplo para confeccionar gráficos)."
   ]
  },
  {
   "cell_type": "code",
   "execution_count": 23,
   "metadata": {},
   "outputs": [],
   "source": [
    "# Plantilla inicial de ejemplo para KFolds\n",
    "\n",
    "from sklearn.model_selection import KFold\n",
    "\n",
    "kf = KFold(n_splits=5, shuffle=True,random_state=40)\n",
    "\n",
    "# El siguiente for nos abstrae de tener que manejar explícitamente los subíndices de los folds\n",
    "for train_index, validation_index in kf.split(X_train):\n",
    "    X_train, X_validation = X_train[train_index], X_train[validation_index]\n",
    "    y_train, y_validation = y_train[train_index], y_train[validation_index]\n",
    "    \n",
    "    # TODO Implementar código de entrenamiento/validación de híper-parámetros desde aquí"
   ]
  },
  {
   "cell_type": "code",
   "execution_count": null,
   "metadata": {},
   "outputs": [],
   "source": []
  }
 ],
 "metadata": {
  "anaconda-cloud": {},
  "kernelspec": {
   "display_name": "Python 3",
   "language": "python",
   "name": "python3"
  },
  "language_info": {
   "codemirror_mode": {
    "name": "ipython",
    "version": 3
   },
   "file_extension": ".py",
   "mimetype": "text/x-python",
   "name": "python",
   "nbconvert_exporter": "python",
   "pygments_lexer": "ipython3",
   "version": "3.6.0"
  }
 },
 "nbformat": 4,
 "nbformat_minor": 2
}
