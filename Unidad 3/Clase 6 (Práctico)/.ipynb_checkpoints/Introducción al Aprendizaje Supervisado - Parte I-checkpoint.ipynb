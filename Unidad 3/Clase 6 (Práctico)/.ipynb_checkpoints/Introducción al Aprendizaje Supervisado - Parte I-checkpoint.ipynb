{
 "cells": [
  {
   "cell_type": "markdown",
   "metadata": {},
   "source": [
    "# Introducción al Aprendizaje Supervisado - Clasificación (Parte I)\n",
    "\n",
    "* Vista general del Aprendizaje Supervisado\n",
    "* Problemas de Clasificación\n",
    "* k-Nearest Neighbor\n",
    "* Entrenamiento y Test de un modelo\n",
    "\n",
    "\n",
    "5to año - Ingeniería en Sistemas de Información\n",
    "\n",
    "UTN - Facultad Regional Villa María"
   ]
  },
  {
   "cell_type": "markdown",
   "metadata": {},
   "source": [
    "*\"We are drowning in information and starving for knowledge.\"*\n",
    "\n",
    "                                        –Rutherford D. Roger\n"
   ]
  },
  {
   "cell_type": "markdown",
   "metadata": {},
   "source": [
    "## Introducción al Aprendizaje Supervisado\n",
    "\n",
    "Objetivo de máxima: predecir salidas $y$ a partir de una matriz de entrada $X$. En donde\n",
    "\n",
    "    \n",
    "$X = \n",
    " \\begin{pmatrix}\n",
    "  x_{1,1} & x_{1,2} & \\cdots & x_{1,p} \\\\\n",
    "  x_{2,1} & x_{2,2} & \\cdots & x_{2,p} \\\\\n",
    "  \\vdots  & \\vdots  & \\ddots & \\vdots  \\\\\n",
    "  x_{n,1} & x_{n,2} & \\cdots & x_{n,p} \n",
    " \\end{pmatrix}\n",
    "$\n",
    "\n",
    "\n",
    "es una matriz de entradas de orden $n \\times p$, donde $n$ es la **cantidad de observaciones** (representando cada fila a una observación individual), mientras que $p$ es la **cantidad de predictores**. En otras palabras, $X$ es una matriz de $n$ entradas donde cada una tiene $p$ predictores. \n",
    "\n",
    "Por otra parte,\n",
    "\n",
    "$y = \n",
    " \\begin{pmatrix}\n",
    "  y_{1} \\\\\n",
    "  y_{2} \\\\\n",
    "  \\vdots  \\\\\n",
    "  y_{n}  \n",
    " \\end{pmatrix}$\n",
    "\n",
    "es un vector de orden $n \\times 1$ que representa las salidas observadas asociadas a cada fila de entradas. De esta manera, $y_i$ es un escalar de salida observada a partir del vector de entrada observada $X_i$, donde\n",
    "\n",
    "$X_i = \n",
    " \\begin{pmatrix}\n",
    "  x_{i,1} & x_{i,2} & \\cdots & x_{i,p}\n",
    " \\end{pmatrix}$\n"
   ]
  },
  {
   "cell_type": "markdown",
   "metadata": {},
   "source": [
    "Ejemplo (reducido a partir de https://archive.ics.uci.edu/ml/datasets/Mushroom):\n",
    "\n",
    "En base a nuestro (pequeño) conjunto de datos, tenemos que determinar si un hongo es o no venenoso. Contamos con 2 predictores: el predictor 1 es la forma del sombrero del hongo mientras que el predictor 2 es el color del sombrero. Por otra parte, la salida $y_i \\in \\{venenoso, comestible\\}$. Contamos con tres observaciones\n",
    "\n",
    "$X = \n",
    " \\begin{pmatrix}\n",
    "  \\text{convexa} & \\text{marrón} \\\\\n",
    "  \\text{convexa} & \\text{blanco} \\\\\n",
    "  \\text{campana} & \\text{blanco} \n",
    " \\end{pmatrix}\n",
    "$\n",
    "\n",
    "\n",
    "$y = \n",
    " \\begin{pmatrix}\n",
    "  \\text{venenoso} \\\\\n",
    "  \\text{comestible} \\\\\n",
    "  \\text{comestible}  \n",
    " \\end{pmatrix}$\n",
    " \n",
    "dado nuestro conjunto de datos, queremos encontrar un modelo que pueda aprender cuándo un hongo es venenoso, para poder **generalizarlo** a hongos no vistos con anterioridad."
   ]
  },
  {
   "cell_type": "markdown",
   "metadata": {},
   "source": [
    "Vista general:\n",
    "    \n",
    "* Dado un conjunto de datos, existen un conjunto de variables llamado predictores (_**features** / inputs / predictors / independent variables_), los cuales pueden ser medidos.\n",
    "\n",
    "* Los mismos tienen influencia sobre otro conjunto de una o más variables llamadas variables de respuesta (_**response** / outputs / dependent / target variables_).\n",
    "\n",
    "* El **objetivo** de este tipo de aprendizaje es utilizar las entradas para poder **predecir** los valores de las variables de respuesta, de modo que nuestras predicciones $\\hat{y}$ sean lo más cercana posible a los valores verdaderos observados $y = f(X) + \\epsilon$, donde $f(X)$ es la desconocida **función objetivo**."
   ]
  },
  {
   "cell_type": "markdown",
   "metadata": {},
   "source": [
    "* En el aprendizaje supervisado, contamos con un dataset $D = \\{(X_1,y_1), (X_2,y_2),..., (X_n,y_n)\\}$ compuesto tanto por los features de entrada $X \\in \\mathbb{R}^D$ como por las salidas $y \\in \\mathbb{R}$ o bien $y \\in \\{c_1, c_2, ..., c_n\\}$ dependiendo de si se trata de un problema de **regresión** o de **clasificación**, respectivamente.\n",
    "\n",
    "* Se lo considera como supervisado puesto que el agente que aprende cuenta a priori con ejemplos de comportamiento deseado. Tras **entrenar** con tales ejemplos, el agente aprende a generalizar su conocimiento de tal modo de generar buenas predicciones sobre datos no observados."
   ]
  },
  {
   "cell_type": "markdown",
   "metadata": {},
   "source": [
    "* A partir de $D$, se distinguen el subconjunto de **datos de entrenamiento**, utilizados para adaptar el modelo y el subconjunto de **datos de test**, empleados para validar la capacidad de generalización del modelo para salidas no utilizadas en el entrenamiento."
   ]
  },
  {
   "cell_type": "markdown",
   "metadata": {},
   "source": [
    "![](images/supervised_workflow.svg)"
   ]
  },
  {
   "cell_type": "markdown",
   "metadata": {},
   "source": [
    "Algunos ejemplos:\n",
    "\n",
    "* Predecir el riesgo de una determinada enfermedad.\n",
    "* Identificar una persona en una fotografía.\n",
    "* Predecir si un correo es o no spam.\n",
    "* Predecir el costo de una casa en base a sus características."
   ]
  },
  {
   "cell_type": "markdown",
   "metadata": {},
   "source": [
    "El aprendizaje supervisado se divide en dos categorías: regresión y clasificación.\n",
    "\n",
    "* En problemas de regresión, las salidas son variables continuas y ordenadas. En otras palabras, una predicción $y=14.7$ es mayor que una predicción $y=12.5$ (esto no implica que la primera predicción sea más precisa que la segunda).\n",
    "* En problemas de clasificación, por su parte, las salidas son variables nominales discretas y no ordenadas. Es decir que si las salidas posibles son \"rojo\" y \"naranja\", no es posible asumir un orden entre ellas como \"rojo\" > \"naranja\"."
   ]
  },
  {
   "cell_type": "markdown",
   "metadata": {},
   "source": [
    "Para el aprendizaje supervisado, scikit-learn provee la siguiente interfaz común de métodos\n",
    "\n",
    ">   + `model.predict()` : given a trained model, predict the label of a new set of data.\n",
    "    This method accepts one argument, the new data `X_new` (e.g. `model.predict(X_new)`),\n",
    "    and returns the learned label for each object in the array.\n",
    "  + `model.predict_proba()` : For classification problems, some estimators also provide\n",
    "    this method, which returns the probability that a new observation has each categorical label.\n",
    "    In this case, the label with the highest probability is returned by `model.predict()`.\n",
    "  + `model.decision_function()` : For classification problems, some estimators provide an uncertainty estimate that is not a probability. For binary classification, a decision_function >= 0 means the positive class will be predicted, while < 0 means the negative class.\n",
    "  + `model.score()` : for classification or regression problems, most (all?) estimators implement\n",
    "    a score method.  Scores are between 0 and 1, with a larger score indicating a better fit. For classifiers, the `score` method computes the prediction accuracy. For regressors, `score` computes the coefficient of determination (R<sup>2</sup>) of the prediction.\n",
    "  + `model.transform()` : For feature selection algorithms, this will reduce the dataset to the selected features. For some classification and regression models such as some linear models and random forests, this method reduces the dataset to the most informative features. These classification and regression models can therefore also be used as feature selection methods.\n"
   ]
  },
  {
   "cell_type": "markdown",
   "metadata": {},
   "source": [
    "## Problemas de Clasificación\n",
    "\n",
    "* En los problemas de clasificación, la respuesta es **discreta** y **nominal**, en el sentido de que la misma es una categoria $c_i \\in \\{C_1, C_2, ..., C_n\\}$, en donde no podemos asumir en ningún caso que $c_i > c_j$.\n",
    "\n",
    "* Al no existir un ordenamiento entre las clases, no es posible calcular una distancia entre $y$ e $\\hat{y}$, tal como sí es posible en el caso de la regresión. Entonces, medidas como el error cuadrático medio utilizado en la regresión, $$MSE = \\frac{1}{n} \\sum^{n}_{i=1} (\\hat{y}_i - y_i)^2$$ no resultan una buenas para entrenar o evaluar un clasificador."
   ]
  },
  {
   "cell_type": "markdown",
   "metadata": {},
   "source": [
    "* Para medir la exactitud de un clasificador, la medida más común es el **error rate**, dado por\n",
    "$$\\frac{1}{n} \\sum_{i=1}^n I(y_i \\neq \\hat{y}_i)$$\n",
    "donde $I(y_i \\neq \\hat{y}_i) = 1$ si nuestra predicción difiere de la salida real, mientras que $I(y_i \\neq \\hat{y}_i) = 0$ si nuestro modelo predijo correctamente la salida para cada observación $i$."
   ]
  },
  {
   "cell_type": "markdown",
   "metadata": {},
   "source": [
    "Aclaración sobre la notación utilizada en las clases: el criterio utilizado para los nombres es el de mantener los nombres originales (en inglés) en la medida de lo posible. Esto se debe a que no existe amplia bibliografía en español sobre los temas aquí presentados, por lo tanto preferimos no traducir la mayoría de los términos, puesto que entendemos podría dificultar su posterior consulta en la bibliografía. Para aquellos términos que han sido traducidos, se aclara entre paréntesis su correspondiente término en inglés."
   ]
  },
  {
   "cell_type": "markdown",
   "metadata": {},
   "source": [
    "### Bayes classifier\n",
    "\n",
    "El ideal contra el que se comparan todos los métodos de clasificación es el Bayes Classifier. El mismo asigna a cada observación su clase más probable (_most likely_), según los valores de los predictores. Dado un vector de test $X_0$, el clasificador le asignará la clase $j$ que maximiza\n",
    "\n",
    "$$P(y=j \\mid X=X_0)$$\n",
    "\n",
    "donde, de acuerdo al Teorema de Bayes,\n",
    "\n",
    "$$P(y \\mid X) = \\frac{P(y \\cap X)}{P(X)} = \\frac{P(y) P(X \\mid y)}{P(X)}$$\n",
    "\n",
    "donde, por su parte: $P(y)$ es la _prior probability_, $P(X \\mid y)$ es la _likelihood_ (_posterior probability_) y $P(X)= \\sum_{j=1}^C P(y = j)P(X \\mid y = j)$ es la _marginal probability_.\n",
    "\n",
    "De esta manera, si estamos haciendo una predicción binaria (para dos clases) nominales a las cuales llamamos 0 y 1, nuestro predictor seleccionará la clase $0$ si $P(y=0 \\mid X=X_0) > 0.5$ y la clase $1$ si $P(y=1 \\mid X=X_0) > 0.5$. En el caso de empate, es decir $P(y=0 \\mid X=X_0) = P(y=1 \\mid X=X_0) = 0.5$, suele optarse por elegir la clase aleatoriamente."
   ]
  },
  {
   "cell_type": "markdown",
   "metadata": {},
   "source": [
    "El Bayes classifier produce el menor error rate posible (_bayes error rate_), dado por\n",
    "\n",
    "$$1 - \\mathbb{E}(\\max_j P(y=j \\mid X))$$\n",
    "\n",
    "donde $\\mathbb{E}$ representa el valor esperado al considerar todos los posibles valores de $X$.\n",
    "\n",
    "* Notar que Bayes error rate es mayor a 0 debido a factores como por ejemplo a la estocasticidad inherente en algún procedimiento de generación de los datos.\n",
    "\n",
    "* **¿Qué problemas se les ocurre que tiene el Bayes estimator al pasarlo a la práctica?**"
   ]
  },
  {
   "cell_type": "markdown",
   "metadata": {},
   "source": [
    "### k Nearest-Neighbors Classifier\n",
    "\n",
    "Un método muy simple y sin embargo muy efectivo para realizar clasificaciones es KNN: dadas $n$ observaciones en el conjunto de entrenamiento y un punto de test $X_0$, \n",
    "\n",
    "$$P(y = j \\mid X = X_0) = \\frac{1}{k} \\sum_{i \\in N_0} I(y_i = j)$$\n",
    "\n",
    "donde $N_0$ es un *neighbourhood* (\"vecindario\") de $X_0$ representado por los $k$ puntos más cercanos a dicho punto $X_0$.\n",
    "\n",
    "* kNN es un método **no paramétrico**, en el sentido de que no asume que las muestras proveen de una distribución probabilística parametrizada (por ejemplo con parámetros $\\mu$ y $\\lambda$).\n",
    "\n",
    "* kNN también puede utilizarse para regresiones, en donde el valor de salida es un promedio entre los valores de las $k$ observaciones más cercanas."
   ]
  },
  {
   "cell_type": "markdown",
   "metadata": {},
   "source": [
    "Vamos a inicializar nuestro entorno de trabajo en el dataset iris"
   ]
  },
  {
   "cell_type": "code",
   "execution_count": 1,
   "metadata": {
    "collapsed": false,
    "scrolled": true
   },
   "outputs": [],
   "source": [
    "import numpy as np\n",
    "import matplotlib.pyplot as plt\n",
    "from sklearn.datasets import load_iris\n",
    "from sklearn import neighbors\n",
    "\n",
    "iris = load_iris()\n",
    "# tomamos los primeros dos features para mostrarlos mejor gráficamente (el largo y el ancho del sépalo)\n",
    "# (por eso el iris.data[:, :2])\n",
    "X = iris.data[:, :2]\n",
    "y = iris.target"
   ]
  },
  {
   "cell_type": "markdown",
   "metadata": {},
   "source": [
    "Ahora vamos a graficar los puntos del dataset para el largo y ancho del sépalo"
   ]
  },
  {
   "cell_type": "code",
   "execution_count": 5,
   "metadata": {},
   "outputs": [
    {
     "name": "stdout",
     "output_type": "stream",
     "text": [
      "['setosa' 'versicolor' 'virginica']\n",
      "['sepal length (cm)', 'sepal width (cm)', 'petal length (cm)', 'petal width (cm)']\n"
     ]
    }
   ],
   "source": [
    "# en primer lugar, vamos a ver las tres salidas posibles y los nombres de los features que elegimos\n",
    "\n",
    "print(iris.target_names)\n",
    "print(iris.feature_names)"
   ]
  },
  {
   "cell_type": "code",
   "execution_count": 10,
   "metadata": {},
   "outputs": [
    {
     "name": "stdout",
     "output_type": "stream",
     "text": [
      "[ 5.1  4.9  4.7  4.6  5.   5.4  4.6  5.   4.4  4.9  5.4  4.8  4.8  4.3  5.8\n",
      "  5.7  5.4  5.1  5.7  5.1  5.4  5.1  4.6  5.1  4.8  5.   5.   5.2  5.2  4.7\n",
      "  4.8  5.4  5.2  5.5  4.9  5.   5.5  4.9  4.4  5.1  5.   4.5  4.4  5.   5.1\n",
      "  4.8  5.1  4.6  5.3  5. ]\n"
     ]
    }
   ],
   "source": [
    "# tras esto, vamos a seleccionar todos los puntos asociados a cada una de las salidas.\n",
    "# Para ello vamos a restringir la matriz de entradas X a cada una de las entradas y\n",
    "# salidas que nos interesan\n",
    "\n",
    "# y==0 restringe X a aquellas filas asociadas con la salida 0, mientras que el 0 detrás\n",
    "# de la \",\" restringe X a la columna 0\n",
    "X_setosa_largo_sepalo = X[y==0, 0]\n",
    "print(X_setosa_largo_sepalo)"
   ]
  },
  {
   "cell_type": "code",
   "execution_count": 13,
   "metadata": {},
   "outputs": [],
   "source": [
    "# hacemos esto mismo para las demás combinaciones\n",
    "X_setosa_ancho_sepalo = X[y==0, 1]\n",
    "X_virginica_largo_sepalo = X[y==1, 0]\n",
    "X_virginica_ancho_sepalo = X[y==1, 1]\n",
    "X_versicolor_largo_sepalo = X[y==2, 0]\n",
    "X_versicolor_ancho_sepalo = X[y==2, 1]"
   ]
  },
  {
   "cell_type": "markdown",
   "metadata": {},
   "source": [
    "Para nuestros fines, el módulo *pyplot* de matplotlib funciona (simplificadamente) de la siguiente manera:\n",
    "\n",
    "1. En las primeras líneas de código se establecen los puntos, líneas o figuras que se desean graficar, como así también pueden establecerse extensiones para el gráfico (por ejemplo, darle un nombre a los ejes). Normalmente sigue el formato\n",
    "\n",
    "        plt.plot(x, y)\n",
    "    \n",
    "    o bien\n",
    "    \n",
    "        plt.scatter(x, y)\n",
    "        \n",
    "    en donde se determina que se realizará un gráfico tomando en cuenta la posición (x, y).\n",
    "\n",
    "    Por ejemplo, el código\n",
    "\n",
    "        plt.scatter(1, 2.5)\n",
    "        \n",
    "    indica que se introduce un punto en la posición (1, 2.5) de los ejes cartesianos.\n",
    "\n",
    "2. El gráfico deja de recibir entradas tras leer la línea \"plt.show()\", en donde se muestra el gráfico de acuerdo a los puntos, líneas o figuras establecidas anteriormente. "
   ]
  },
  {
   "cell_type": "code",
   "execution_count": 15,
   "metadata": {},
   "outputs": [
    {
     "data": {
      "image/png": "[encoded data removed]",
      "text/plain": [
       "<matplotlib.figure.Figure at 0x7feafa61a198>"
      ]
     },
     "metadata": {},
     "output_type": "display_data"
    }
   ],
   "source": [
    "# graficamos de acuerdo a la distribución de los puntos\n",
    "\n",
    "plt.scatter(X_setosa_largo_sepalo, X_setosa_ancho_sepalo, label=iris.target_names[0], color='orange')\n",
    "plt.scatter(X_virginica_largo_sepalo, X_virginica_ancho_sepalo, label=iris.target_names[1], color='blue')\n",
    "plt.scatter(X_versicolor_largo_sepalo, X_versicolor_ancho_sepalo, label=iris.target_names[2], color='green')\n",
    "plt.xlabel(iris.feature_names[0])  # xlabel le da un nombre al eje de las x\n",
    "plt.ylabel(iris.feature_names[1])  # ylabel le da un nombre al eje de las y\n",
    "\n",
    "# legend coloca una caja con las leyendas correspondientes a los puntos del gráfico\n",
    "plt.legend(loc='best', numpoints=1)\n",
    "\n",
    "plt.show()"
   ]
  },
  {
   "cell_type": "markdown",
   "metadata": {},
   "source": [
    "Notar que es también posible graficar utilizando directamente las restricciones sobre la matriz de datos $X$:"
   ]
  },
  {
   "cell_type": "code",
   "execution_count": 16,
   "metadata": {},
   "outputs": [
    {
     "data": {
      "image/png": "[encoded data removed]",
      "text/plain": [
       "<matplotlib.figure.Figure at 0x7feafa53fa90>"
      ]
     },
     "metadata": {},
     "output_type": "display_data"
    }
   ],
   "source": [
    "plt.scatter(X[y==0, 0], X[y==0, 1], label=iris.target_names[0], color='orange')\n",
    "plt.scatter(X[y==1, 0], X[y==1, 1], label=iris.target_names[1], color='blue')\n",
    "plt.scatter(X[y==2, 0], X[y==2, 1], label=iris.target_names[2], color='green')\n",
    "plt.xlabel(iris.feature_names[0])\n",
    "plt.ylabel(iris.feature_names[1])\n",
    "\n",
    "plt.legend(loc='best', numpoints=1)\n",
    "\n",
    "plt.show()"
   ]
  },
  {
   "cell_type": "markdown",
   "metadata": {},
   "source": [
    "Veamos cómo se ve un clasificador NN artesanal, es decir un KNN donde K=1 (basado en http://cs231n.github.io/classification/). Para ello tenemos que definir, a priori, qué consideramos como distancia entre dos vectores $X_i$ y $X_j$, debido a que los mismos poseen varias columnas (predictores). Para empezar, vamos a utilizar la **distancia L1**, dada por\n",
    "\n",
    "$$d_{L1}(X_i, X_j) = \\sum_p \\big| I_{ip} - I_{jp} \\big|$$"
   ]
  },
  {
   "cell_type": "code",
   "execution_count": 17,
   "metadata": {
    "collapsed": false
   },
   "outputs": [],
   "source": [
    "class ClasificadorNN(object):  # <object> en [...]_NN(object) indica que hereda de la clase object\n",
    "\n",
    "    # <self> indica referencia a un objeto concreto de la clase\n",
    "    def __init__(self):\n",
    "        # inicializamos ambos atributos X e y arbitrariamente\n",
    "        self.X = []\n",
    "        self.y = []\n",
    "\n",
    "    def fit(self, X_train, y_train):\n",
    "        # para el caso de KNN, nuestro entrenamiento sólo consiste en recordar los datos\n",
    "        # (X, y) de entrenamiento\n",
    "        self.X = X_train\n",
    "        self.y = y_train\n",
    "\n",
    "    def predict(self, X_test):\n",
    "        # inicializamos nuestra variable de salida, y_hat, con un tamaño igual a la\n",
    "        # cantidad de filas\n",
    "        y_hat = np.zeros(X_test.shape[0])\n",
    "\n",
    "        for i in range(X_test.shape[0]):  # vamos a iterar sobre todas las filas de datos\n",
    "            vector_distancia = np.abs(self.X - X_test[i, :])\n",
    "            suma_distancias = np.sum(vector_distancia, axis=1)\n",
    "            indice_punto_mas_cercano = np.argmin(suma_distancias)\n",
    "            y_hat[i] = self.y[indice_punto_mas_cercano]\n",
    "\n",
    "        return y_hat"
   ]
  },
  {
   "cell_type": "markdown",
   "metadata": {},
   "source": [
    "Antes de continuar, vamos a dividir nuestro conjunto de datos en entrenamiento y test"
   ]
  },
  {
   "cell_type": "markdown",
   "metadata": {},
   "source": [
    "![](images/train_test_split.svg)"
   ]
  },
  {
   "cell_type": "code",
   "execution_count": 18,
   "metadata": {
    "collapsed": false
   },
   "outputs": [],
   "source": [
    "# Vamos a usar un conjunto de entrenamiento de 70% (105/150) y uno de test de 30% (45/150)\n",
    "\n",
    "X_train = X[0:105]\n",
    "X_test = X[105:150]\n",
    "y_train = y[0:105]\n",
    "y_test = y[105:150]"
   ]
  },
  {
   "cell_type": "code",
   "execution_count": 19,
   "metadata": {
    "collapsed": false,
    "scrolled": true
   },
   "outputs": [
    {
     "data": {
      "image/png": "[encoded data removed]",
      "text/plain": [
       "<matplotlib.figure.Figure at 0x7feafa53f828>"
      ]
     },
     "metadata": {},
     "output_type": "display_data"
    }
   ],
   "source": [
    "# Instanciamos nuestro clasificador\n",
    "\n",
    "clf = ClasificadorNN()\n",
    "clf.fit(X_train, y_train)\n",
    "y_hat = clf.predict(X_test)\n",
    "\n",
    "\n",
    "# Graficamos los resultados\n",
    "\n",
    "plt.scatter(X_test[y_test==0, 0], X_test[y_test==0, 1], label=iris.target_names[0], color='orange')\n",
    "plt.scatter(X_test[y_test==1, 0], X_test[y_test==1, 1], label=iris.target_names[1], color='blue')\n",
    "plt.scatter(X_test[y_test==2, 0], X_test[y_test==2, 1], label=iris.target_names[2], color='green')\n",
    "plt.scatter(X_test[y_test!=y_hat, 0], X_test[y_test!=y_hat, 1],\n",
    "                   label='clasif. incorrecta', c='black') # Agregamos las malas predicciones\n",
    "\n",
    "plt.xlabel(iris.feature_names[0])\n",
    "plt.ylabel(iris.feature_names[1])\n",
    "plt.legend(loc='best', numpoints=1)\n",
    "\n",
    "plt.show()"
   ]
  },
  {
   "cell_type": "code",
   "execution_count": 40,
   "metadata": {
    "collapsed": false
   },
   "outputs": [
    {
     "name": "stdout",
     "output_type": "stream",
     "text": [
      "Porcentaje de aciertos:  0.7111111111111111\n"
     ]
    }
   ],
   "source": [
    "# ¿tantos incorrectos?\n",
    "\n",
    "print('Porcentaje de aciertos: ', len(y_test[y_test==y_hat])/len(y_test))\n",
    "# estamos obteniendo el porcentaje (o tasa de aciertos) al dividir la cantidad de ocurrencias del\n",
    "# conjunto y_test en donde los elementos coinciden con y_hat sobre la cantidad de ocurrencias de y_test"
   ]
  },
  {
   "cell_type": "markdown",
   "metadata": {},
   "source": [
    "¿Por qué clasifica tan mal?\n",
    "\n",
    "* Porque estamos tomando los datos de entrenamiento y test con índices arbitrarios, por ejemplo\n",
    "\n",
    "        y_train = y[0:105]"
   ]
  },
  {
   "cell_type": "code",
   "execution_count": 22,
   "metadata": {
    "collapsed": false
   },
   "outputs": [
    {
     "name": "stdout",
     "output_type": "stream",
     "text": [
      "[0 0 0 0 0 0 0 0 0 0 0 0 0 0 0 0 0 0 0 0 0 0 0 0 0 0 0 0 0 0 0 0 0 0 0 0 0\n",
      " 0 0 0 0 0 0 0 0 0 0 0 0 0 1 1 1 1 1 1 1 1 1 1 1 1 1 1 1 1 1 1 1 1 1 1 1 1\n",
      " 1 1 1 1 1 1 1 1 1 1 1 1 1 1 1 1 1 1 1 1 1 1 1 1 1 1 2 2 2 2 2]\n"
     ]
    }
   ],
   "source": [
    "# veamos más detalladamente...\n",
    "\n",
    "print(y_train)"
   ]
  },
  {
   "cell_type": "code",
   "execution_count": 23,
   "metadata": {
    "collapsed": false,
    "scrolled": true
   },
   "outputs": [
    {
     "name": "stdout",
     "output_type": "stream",
     "text": [
      "[2 2 2 2 2 2 2 2 2 2 2 2 2 2 2 2 2 2 2 2 2 2 2 2 2 2 2 2 2 2 2 2 2 2 2 2 2\n",
      " 2 2 2 2 2 2 2 2]\n"
     ]
    }
   ],
   "source": [
    "print(y_test)"
   ]
  },
  {
   "cell_type": "markdown",
   "metadata": {},
   "source": [
    "* Casi no tiene ejemplos de entrenamiento para la clase \"virginica\", mientras que el conjunto de test abarca toda esa clase...\n",
    "* Este es un **error grave** al preparar los datos para su entrenamiento en un modelo, porque los datos están previamente ordenados de acuerdo a algún criterio."
   ]
  },
  {
   "cell_type": "markdown",
   "metadata": {},
   "source": [
    "¿Solución?\n",
    "\n",
    "* Mezclar los datos para que su orden sea aleatorio.\n",
    "* Afortunadamente scikit\\_learn nos provee con un método justo para hacer eso..."
   ]
  },
  {
   "cell_type": "code",
   "execution_count": 24,
   "metadata": {
    "collapsed": false
   },
   "outputs": [
    {
     "name": "stdout",
     "output_type": "stream",
     "text": [
      "[1 2 0 1 0 1 1 1 0 1 1 2 1 0 0 2 1 0 0 0 2 2 2 0 1 0 1 1 1 2 1 1 2 2 2 0 2\n",
      " 2 2 2 0 0 1 0 1]\n"
     ]
    }
   ],
   "source": [
    "from sklearn.model_selection import train_test_split\n",
    "\n",
    "# Dividimos el conjunto en train, test\n",
    "X_train, X_test, y_train, y_test = train_test_split(X, y, random_state=10, test_size=0.3)\n",
    "\n",
    "# vemos los resultados...\n",
    "print(y_test)"
   ]
  },
  {
   "cell_type": "code",
   "execution_count": 25,
   "metadata": {
    "collapsed": false,
    "scrolled": false
   },
   "outputs": [
    {
     "data": {
      "image/png": "[encoded data removed]",
      "text/plain": [
       "<matplotlib.figure.Figure at 0x7feafa3080b8>"
      ]
     },
     "metadata": {},
     "output_type": "display_data"
    }
   ],
   "source": [
    "#Probamos nuevamente...\n",
    " \n",
    "clf.fit(X_train, y_train)\n",
    "y_hat = clf.predict(X_test)\n",
    "\n",
    "# Graficamos los resultados\n",
    "\n",
    "plt.scatter(X_test[y_test==0, 0], X_test[y_test==0, 1], label=iris.target_names[0], color='orange')\n",
    "plt.scatter(X_test[y_test==1, 0], X_test[y_test==1, 1], label=iris.target_names[1], color='blue')\n",
    "plt.scatter(X_test[y_test==2, 0], X_test[y_test==2, 1], label=iris.target_names[2], color='green')\n",
    "plt.scatter(X_test[y_test!=y_hat, 0], X_test[y_test!=y_hat, 1],\n",
    "                   label='clasif. incorrecta', c='black') # Agregamos las malas predicciones\n",
    "\n",
    "plt.xlabel(iris.feature_names[0])\n",
    "plt.ylabel(iris.feature_names[1])\n",
    "plt.legend(loc='best', numpoints=1)\n",
    "\n",
    "plt.show()"
   ]
  },
  {
   "cell_type": "code",
   "execution_count": 41,
   "metadata": {
    "collapsed": false
   },
   "outputs": [
    {
     "name": "stdout",
     "output_type": "stream",
     "text": [
      "Porcentaje de aciertos:  0.7111111111111111\n"
     ]
    }
   ],
   "source": [
    "# veamos ahora...\n",
    "\n",
    "print('Porcentaje de aciertos: ', len(y_test[y_test==y_hat])/len(y_test))"
   ]
  },
  {
   "cell_type": "markdown",
   "metadata": {},
   "source": [
    "scikit-learn ofrece herramientas muy similares al clasificador que implementamos. Veamos cómo podemos implementar un clasificador NN utilizando la librería a alto nivel de scikit-learn."
   ]
  },
  {
   "cell_type": "code",
   "execution_count": 26,
   "metadata": {
    "collapsed": false,
    "scrolled": true
   },
   "outputs": [
    {
     "data": {
      "image/png": "[encoded data removed]",
      "text/plain": [
       "<matplotlib.figure.Figure at 0x7feafa483ac8>"
      ]
     },
     "metadata": {},
     "output_type": "display_data"
    }
   ],
   "source": [
    "from sklearn import neighbors\n",
    "\n",
    "# Instanciamos nuestro clasificador\n",
    "clf = neighbors.KNeighborsClassifier(n_neighbors=10, weights='distance')\n",
    "\n",
    "clf.fit(X_train,y_train)\n",
    "y_hat = clf.predict(X_test)\n",
    "\n",
    "plt.scatter(X_test[y_test==0, 0], X_test[y_test==0, 1], label=iris.target_names[0], color='orange')\n",
    "plt.scatter(X_test[y_test==1, 0], X_test[y_test==1, 1], label=iris.target_names[1], color='blue')\n",
    "plt.scatter(X_test[y_test==2, 0], X_test[y_test==2, 1], label=iris.target_names[2], color='green')\n",
    "plt.scatter(X_test[y_test!=y_hat, 0], X_test[y_test!=y_hat, 1],\n",
    "                   label='clasif. incorrecta', c='black') # Agregamos las malas predicciones\n",
    "\n",
    "plt.xlabel(iris.feature_names[0])\n",
    "plt.ylabel(iris.feature_names[1])\n",
    "plt.legend(loc='best', numpoints=1)\n",
    "\n",
    "plt.show()"
   ]
  },
  {
   "cell_type": "code",
   "execution_count": 30,
   "metadata": {
    "collapsed": false
   },
   "outputs": [
    {
     "name": "stdout",
     "output_type": "stream",
     "text": [
      "Tasa de aciertos:  0.7111111111111111\n"
     ]
    }
   ],
   "source": [
    "print('Tasa de aciertos: ', len(y_test[y_test==y_hat])/len(y_test))"
   ]
  },
  {
   "cell_type": "markdown",
   "metadata": {},
   "source": [
    "También podemos obtener esta misma tasa a partir de los métodos de scikit-learn, lo cual nos ahorra el tener que hacerlo a mano."
   ]
  },
  {
   "cell_type": "code",
   "execution_count": 39,
   "metadata": {},
   "outputs": [
    {
     "name": "stdout",
     "output_type": "stream",
     "text": [
      "Tasa de aciertos:  0.711111111111\n"
     ]
    }
   ],
   "source": [
    "from sklearn.metrics import accuracy_score\n",
    "\n",
    "print('Tasa de aciertos: ', accuracy_score(y_true=y_test, y_pred=y_hat))"
   ]
  },
  {
   "cell_type": "markdown",
   "metadata": {},
   "source": [
    "#### Ejercicios\n",
    "\n",
    "**Pendiente de ser definido**\n",
    "\n",
    "\n",
    "**Fecha de entrega: Pendiente **.\n",
    "\n",
    "Nota: la resolución de los ejercicios es **individual**. Está permitida la reutilización del código del notebook (por ejemplo para confeccionar gráficos)."
   ]
  }
 ],
 "metadata": {
  "anaconda-cloud": {},
  "kernelspec": {
   "display_name": "Python 3",
   "language": "python",
   "name": "python3"
  },
  "language_info": {
   "codemirror_mode": {
    "name": "ipython",
    "version": 3
   },
   "file_extension": ".py",
   "mimetype": "text/x-python",
   "name": "python",
   "nbconvert_exporter": "python",
   "pygments_lexer": "ipython3",
   "version": "3.6.0"
  }
 },
 "nbformat": 4,
 "nbformat_minor": 2
}
