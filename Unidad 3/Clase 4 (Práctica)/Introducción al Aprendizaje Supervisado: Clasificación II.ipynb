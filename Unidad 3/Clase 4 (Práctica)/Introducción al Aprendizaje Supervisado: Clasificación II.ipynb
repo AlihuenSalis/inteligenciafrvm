{
 "cells": [
  {
   "cell_type": "markdown",
   "metadata": {},
   "source": [
    "# Introducción al Aprendizaje Supervisado - Clasificación (Parte II)\n",
    "\n",
    "* Pre-procesamiento de los datos.\n",
    "* Evaluación de un clasificador.\n",
    "* FPR vs FNR tradeoff.\n",
    "\n",
    "5to año - Ingeniería en Sistemas de Información\n",
    "\n",
    "Facultad Regional Villa María"
   ]
  },
  {
   "cell_type": "markdown",
   "metadata": {},
   "source": [
    "## Pre-procesamiento de datos\n",
    "\n",
    "Un problema muy frecuente (en industria es uno de los problemas más reportados en ML) es que los datasets \"crudos\" no pueden recibir entrenamiento tal como están, por lo que necesitan un pre-procesamiento para poder adaptarse a los requerimientos del modelo. Vemos algunos métodos de pre-procesamiento comunes:\n",
    "\n"
   ]
  },
  {
   "cell_type": "markdown",
   "metadata": {},
   "source": [
    "### Eliminación de features que no aportan a la predicción\n",
    "\n",
    "Un problema común en los datasets es que muchas veces los mismos tienen algunas variables que no están relacionadas de ninguna forma con las salidas o bien es sabido a priori que no aportan información significativa para predecir la salida.\n",
    "\n",
    "* Un ejemplo común son los identificadores, los cuales asocian cada fila de datos con un único código de identificación.\n",
    "\n",
    "* Estos features deben eliminarse, porque de lo contrario el modelo los ajustará e intentará hacer predicciones con datos que no tienen aporte alguno, empeorando la calidad general del modelo."
   ]
  },
  {
   "cell_type": "markdown",
   "metadata": {},
   "source": [
    "### Ampliación o transformación del dataset\n",
    "\n",
    "De forma similar, existen maneras de agregar o transformar datos en el dataset para mejorar las predicciones, por ejemplo incorporando información de datasets públicos o generando nuevos features a partir de los existentes o con la ayuda de información de dominio.\n",
    "\n",
    "* Este tipo de mejoras puede ayudar a mejorar las predicciones del dataset, por ejemplo al poder utilizar features más relevantes para predecir las salidas.\n",
    "\n",
    "* Al igual que al eliminar los features (más allá de aquellos obvios como los identificadores), no hay una regla general para ampliar el dataset, pues depende mucho del dominio del problema. Vamos a ver un ejemplo práctico de esto en la clase donde se presenta la Minería de Texto."
   ]
  },
  {
   "cell_type": "markdown",
   "metadata": {},
   "source": [
    "### Dummy variables para datasets con features no numéricos\n",
    "\n",
    "* Por ejemplo, si tenemos que hacer una predicción y tenemos una variable categórica como por ejemplo \"Género\" que toma valores \"Mujer\" y \"Varón\", tal variable no puede ser utilizada de esa forma para hacer la predicción, puesto que los modelos emplean features numéricos.\n",
    "* Una solución rápida consistiría en reemplazar los features asignando, por ejemplo, 0 cuando se trata de \"Mujer\" y 1 cuando se trata de \"Varón\", es decir\n",
    "\n",
    "|        | Género |\n",
    "|--------|:------:|\n",
    "| Ana    |    0   |\n",
    "| José   |    1   |\n"
   ]
  },
  {
   "cell_type": "markdown",
   "metadata": {},
   "source": [
    "* El problema de este enfoque es que asumimos arbitrariamente un orden en los features, por lo cual nuestro modelo estaría innecesariamente sesgado en su entrenamiento.\n",
    "* El enfoque utilizado para estos casos consiste en crear un nuevo feature para cada valor categórico posible, asignando un 1 cuando el valor pertenece a la mencionada categoría y un 0 para todas las demás categorías.\n",
    "* Las variables de esta forma reciben el nombre de \"dummy variable\".\n",
    "\n",
    "|        | Mujer | Varón |\n",
    "|--------|:-----:|:-----:|\n",
    "| Ana    |   1   |   0   |\n",
    "| José   |   0   |   1   |"
   ]
  },
  {
   "cell_type": "markdown",
   "metadata": {},
   "source": [
    "### Normalización de los datos\n",
    "\n",
    "En virtud de que todos los features **contribuyan de forma equitativa** (es decir que no tengan más peso en la clasificación aquellos features con mayor magnitud), para algunos modelos se requiere que los datos estén normalizados de alguna forma, por ejemplo para que todos los valores caigan en el mismo rango fijo. La normalización se hace en cada feature. Informalmente, \"para cada columna\".\n",
    "\n",
    "\n",
    "* Una normalización posible es **minmax normalization**, la cual transforma un feature de tal forma que todos sus valores caigan en el rango $[0,1]$.\n",
    "* Para lograr esto es suficiente hacer, para cada elemento $j$ del feature $X_i$\n",
    "\n",
    "$$Z_{ij} = \\frac{X_{ij} - min(X_{i})}{max(X_{i}) - min(X_{i})}$$\n",
    "\n"
   ]
  },
  {
   "cell_type": "markdown",
   "metadata": {},
   "source": [
    "Ejemplo: dados los siguientes datos,\n",
    "\n",
    "| Feature_1 |\n",
    "|:---------:|\n",
    "| 42        |\n",
    "| 66        |\n",
    "| 187       |\n",
    "| 29        |\n",
    "\n",
    "Normalizando...\n",
    "\n",
    "| Feature_1 |\n",
    "|:---------:|\n",
    "| 0.08      |\n",
    "| 0.23      |\n",
    "| 1         |\n",
    "| 0         |"
   ]
  },
  {
   "cell_type": "markdown",
   "metadata": {},
   "source": [
    "* Otra normalización muy común es la **z-score standarization**, normaliza los valores con respecto a la desviación estándar, dejando los mismos con media 0. Analíticamente, $$Z_{ij} = \\frac{X_{ij} - \\bar{X}}{\\sigma}$$ donde $\\bar{X}$ es la media de la población y $\\sigma$ es la desviación estándar.\n",
    "\n",
    "* Cada valor $Z_{ij}$ normalizado representa la distancia entre el valor $X_{ij}$ y la media de la población, en $Z_{ij}$ desviaciones estándar como unidad.\n",
    "\n",
    "Normalizando los datos iniciales del ejemplo el ejemplo anterior...\n",
    "\n",
    "| Feature_1 |\n",
    "|:---------:|\n",
    "|-0.62      |\n",
    "|-0.23      |\n",
    "| 1.69      |\n",
    "|-0.83      |"
   ]
  },
  {
   "cell_type": "markdown",
   "metadata": {},
   "source": [
    "## Evaluando un clasificador\n",
    "\n",
    "La forma más simple de evaluar un clasificador es mediante el porcentaje de aciertos, es decir qué porcentaje de nuestras predicciones predijeron correctamente la clase de todos los puntos consultados.\n",
    "\n",
    "* Retomamos el ejemplo de la clase pasada:"
   ]
  },
  {
   "cell_type": "code",
   "execution_count": 1,
   "metadata": {},
   "outputs": [
    {
     "name": "stdout",
     "output_type": "stream",
     "text": [
      "[2 2 0 2 0 1 2 1 0 1 1 1 1 0 0 1 2 0 0 0 2 2 1 0 2 0 1 1 1 2 2 1 2 1 2 0 2\n",
      " 1 2 1 0 0 1 0 2]\n"
     ]
    }
   ],
   "source": [
    "import numpy as np\n",
    "import matplotlib.pyplot as plt\n",
    "from sklearn.datasets import load_iris\n",
    "from sklearn import neighbors\n",
    "from sklearn.model_selection import train_test_split\n",
    "from sklearn import neighbors\n",
    "\n",
    "iris = load_iris()\n",
    "X = iris.data[:, :2]\n",
    "y = iris.target\n",
    "\n",
    "# Dividimos el conjunto en train, test\n",
    "X_train, X_test, y_train, y_test = train_test_split(X, y, random_state=10, test_size=0.3)\n",
    "\n",
    "\n",
    "clf = neighbors.KNeighborsClassifier(n_neighbors=10, weights='distance')\n",
    "\n",
    "clf.fit(X_train, y_train)\n",
    "y_hat = clf.predict(X_test)\n",
    "print(y_hat)"
   ]
  },
  {
   "cell_type": "code",
   "execution_count": 2,
   "metadata": {},
   "outputs": [
    {
     "name": "stdout",
     "output_type": "stream",
     "text": [
      "Porcentaje de aciertos en la clasificación:  0.711111111111\n"
     ]
    }
   ],
   "source": [
    "print('Porcentaje de aciertos en la clasificación: ', clf.score(X_test,y_test))"
   ]
  },
  {
   "cell_type": "markdown",
   "metadata": {},
   "source": [
    "* Esta métrica es una buena medida para saber rápidamente la tasa de aciertos en todo clasificador. Sin embargo no nos está dando detalles como, por ejemplo, que todas las Setosas fueron correctamente clasificadas. Para ello vamos a usar mejor información, que incluya las métricas comúnmente utilizadas para evaluar un clasificador."
   ]
  },
  {
   "cell_type": "markdown",
   "metadata": {},
   "source": [
    "#### Tipos de errores\n",
    "\n",
    "En la clasificación binaria (es decir cuando la cantidad de clases posibles a la que una variable puede pertenecer es de dos), al intentar hacer una predicción, existen dos tipos de errores de predicción a considerar.\n",
    "\n",
    "Por ejemplo, supongamos que testeamos la existencia de una enfermedad en un paciente. Como _hipótesis nula_ $h_0$ tomamos a \"$h_0$: el paciente no posee la enfermedad\", mientras que como _hipótesis alternativa_ tomamos \"$h_1$: el paciente posee la enfermedad\".\n",
    "\n",
    "* $h_0$ es la hipótesis que se suele usar para establecer \"ausencia o inexistencia de relación entre dos fenómenos\" (tomando como fenómenos el paciente y la enfermedad), mientras que $h_1$ representa \"algún tipo de relación entre dos fenómenos\".\n",
    "\n",
    "* \"_Inocente hasta que se demuestre lo contrario_\". En testing de hipótesis, $h_0$ es la postura por defecto. Esto quiere decir que para rechazarla y por lo tanto validar una hipótesis alternativa debe demostrarse fehacientemente que $h_0$ es falsa más allá de toda duda razonable (normalmente representada por un intérvalo de confianza de 1% o 5%)."
   ]
  },
  {
   "cell_type": "markdown",
   "metadata": {},
   "source": [
    "* El **error de tipo I** o **false positive** ocurre cuando se rechaza incorrectamente una $h_0$ verdadera. En nuestro ejemplo, esto sucede cuando incorrectamente diagnosticamos la enfermedad en el paciente.\n",
    "\n",
    "* Por otra parte, el **error de tipo II** o **false negative**, ocurre cuando incorrectamente se retiene una $h_0$ falsa, siendo que se daba $h_1$. En nuestro ejemplo esto sucede cuando detectamos incorrectamente que el paciente no registra la enfermedad.\n",
    "\n",
    "* En el caso de que la predicción haya sido correcta, decimos que la misma arrojó un **true positive** o **true negative** (_positive_ significa que existe relación entre dos fenómenos).\n",
    "\n",
    "* En nuestro caso, true positive representa la correcta predicción en la existencia de la enfermedad mientras que false positive representa correctamente la predicción sobre la ausencia de la enfermedad."
   ]
  },
  {
   "cell_type": "markdown",
   "metadata": {},
   "source": [
    "* En nuestro ejemplo, si detectáramos varias enfermedades en el paciente y nos interesa saber $h_0$, true negative se referirá a los casos donde predecimos que el paciente no posee ninguna enfermedad y tal situación es la real; mientras que true positive se refiere a haber inferido correctamente que el paciente posee alguna enfermedad. Este enfoque se conoce como **one-vs-all**."
   ]
  },
  {
   "cell_type": "markdown",
   "metadata": {},
   "source": [
    "#### Confusion Matrix\n",
    "\n",
    "Una forma sencilla de evaluar el rendimiento de un algoritmo es por medio de una **confusion matrix** o **error matrix**, la cual contrasta las predicciones con los valores verdaderos, mostrando los errores TI y TII."
   ]
  },
  {
   "cell_type": "code",
   "execution_count": 3,
   "metadata": {
    "collapsed": false
   },
   "outputs": [
    {
     "name": "stdout",
     "output_type": "stream",
     "text": [
      "[[14  0  0]\n",
      " [ 0 10  7]\n",
      " [ 0  6  8]]\n"
     ]
    }
   ],
   "source": [
    "from sklearn import metrics\n",
    "\n",
    "print(metrics.confusion_matrix(y_test, y_hat, labels=[0,1,2]))\n"
   ]
  },
  {
   "cell_type": "markdown",
   "metadata": {},
   "source": [
    "Formateando:\n",
    "\n",
    "|                   |            |        |Clase estimada |           |\n",
    "|-------------------|------------|:------:|:-------------:|:---------:|\n",
    "|                   |            | Setosa |   Versicolor  | Virginica |\n",
    "|                   | Setosa     | **14** |        0      |     0     |\n",
    "|**Clase verdadera**| Versicolor |    0   |      **10**   |     7     |\n",
    "|                   | Virginica  |    0   |        6      |   **8**   |"
   ]
  },
  {
   "cell_type": "markdown",
   "metadata": {},
   "source": [
    "* En el caso de la **clasificación muticlase**, para algunos algoritmos se usa la estrategia \"one-vs-all\" para referirse a los tipos de errores. Es decir que cada tipo de error es calculado para cada una de las clases, tomando un label de dicha clase como positivo ($y=1$) y un label de cualquier otra clase como negativo ($y=0$). \n",
    "\n",
    "* Ejemplo: clasificación multiclase desde las setosas\n",
    "\n"
   ]
  },
  {
   "cell_type": "markdown",
   "metadata": {},
   "source": [
    "|                   |                    |     Clase estimada      |                            |\n",
    "|-------------------|--------------------|:-----------------------:|:--------------------------:|\n",
    "|                   |                    | No Setosa ($\\hat{y}=0$) |    Setosa ($\\hat{y}=1$)    |\n",
    "|                   | No Setosa ($y=0$)  |       **31**            |             0              |\n",
    "|**Clase verdadera**| Setosa    ($y=1$)  |          0              |          **14**            |"
   ]
  },
  {
   "cell_type": "markdown",
   "metadata": {},
   "source": [
    "* Esto se hace para poder extender el problema a partir de una clasificación binaria, pudiendo evaluar los errores TI y TII de la misma forma.\n",
    "\n",
    "* Vemos ahora con mejor nivel de detalle aspectos como que las 14 flores Setosa utilizadas para el test fueron correctamente clasificadas, mientras que las flores Versicolor se confunden frecuentemente con las Virginica.\n",
    "\n",
    "Vamos a procesar todavía más esta información al calcular métricas adicionales que nos permitirán obtener más claridad.\n"
   ]
  },
  {
   "cell_type": "markdown",
   "metadata": {},
   "source": [
    "![Positives - Negatives](images/positives_negatives.png)\n",
    "\n",
    "Fuente: Walber (usuario de Wikipedia), imagen adaptada desde https://en.wikipedia.org/wiki/Precision_and_recall"
   ]
  },
  {
   "cell_type": "markdown",
   "metadata": {},
   "source": [
    "Concepto preliminar: en la clasificación binaria, es decir aquellos problemas donde $c_i \\in \\{False, True\\}$, el **umbral** o _threshold_ $\\theta \\in [0,1]$ es la probabilidad mínima que hace que el predictor clasifique una observación como True. Aquellas probabilidades por debajo del umbral son clasificadas como False.\n",
    "\n",
    "Por ejemplo, un $\\theta = 0.75$ hace necesario que $P(y=1 \\mid x) > 0.75$."
   ]
  },
  {
   "cell_type": "markdown",
   "metadata": {},
   "source": [
    "#### Métricas desde el punto de vista de los negativos\n"
   ]
  },
  {
   "cell_type": "markdown",
   "metadata": {},
   "source": [
    "\n",
    "\n",
    "La primera métrica es el **false positive rate (FPR)** (o proporción de falsas alarmas), que representa el porcentaje de errores de TI en la clasificación, es decir\n",
    "\n",
    "$$ FPR = \\frac{FP}{\\text{actual negatives}} = \\frac{FP}{FP + TN}$$\n",
    "\n",
    "Un predictor no tendría falsas alarmas si se clasificara todo como \"False\", al usar un umbral $\\theta=1$."
   ]
  },
  {
   "cell_type": "markdown",
   "metadata": {},
   "source": [
    "Por otra parte, el **false negative rate (FNR)** (o proporción de detecciones perdidas) representa el porcentaje de errores TII en la clasificación, es decir\n",
    "\n",
    "$$ FNR = \\frac{FN}{\\text{actual positives}} = \\frac{FN}{FN + TP}$$\n",
    "\n",
    "Un predictor no tendría detecciones perdidas si clasificara todo como \"True\", usando un umbral $\\theta = 0$."
   ]
  },
  {
   "cell_type": "markdown",
   "metadata": {},
   "source": [
    "#### Métricas desde el punto de vista de los positivos\n",
    "\n",
    "![](images/precision_recall.png)\n",
    "\n",
    "Fuente: Walber (usuario de Wikipedia), imagen adaptada desde https://en.wikipedia.org/wiki/Precision_and_recall"
   ]
  },
  {
   "cell_type": "markdown",
   "metadata": {},
   "source": [
    "Uno de los indicadores principales es el **positive predictive value** o **precision**, que representa el porcentaje de positivos correctamente inferidos como tal por cada positivo inferido. Está dado por\n",
    "\n",
    "$$P(y=1 \\mid \\hat{y}=1) = \\frac{TP}{\\text{predicted positives}} = \\frac{TP}{TP + FP}$$\n",
    "\n",
    "Intuitivamente puede interpretarse como \"qué tan seguro es un clasificador al inferir las observaciones como positivas\". Un predictor maximizaría esta métrica si clasificara como \"True\" sólo aquellas observaciones con las que cuente con total certeza que son \"True\"."
   ]
  },
  {
   "cell_type": "markdown",
   "metadata": {},
   "source": [
    "Otro indicador principal es el **true positive rate**, **sensitivity** o **recall**, que representa el porcentaje de positivos correctamente inferidos por cada positivo real, dado por\n",
    "\n",
    "$$P(\\hat{y}=1 \\mid y=1)= \\frac{TP}{\\text{actual positives}} = \\frac{TP}{TP + FN}$$\n",
    "\n",
    "Intuitivamente puede interpretarse como \"qué tan bueno es un clasificador en detectar los positivos\". Un predictor sería perfecto en la detección de positivos si clasificara todo como \"True\", al usar un umbral $\\theta = 0$."
   ]
  },
  {
   "cell_type": "markdown",
   "metadata": {},
   "source": [
    "Análogamente, el **true negative rate** o **specificity** es similar al recall pero considerando los negativos, es decir\n",
    "\n",
    "$$P(\\hat{y}=0 \\mid y=0)= \\frac{TN}{\\text{actual negatives}} = \\frac{TN}{TN + FP}$$\n",
    "\n",
    "Intuitivamente puede interpretarse como \"qué tan bueno es un clasificador evitando las falsas alarmas\". Como vimos antes, un predictor sería perfecto en evitar falsas alarmas si clasificara todo como \"False\", es decir usara un $\\theta=1$."
   ]
  },
  {
   "cell_type": "markdown",
   "metadata": {},
   "source": [
    "La primera medida que vimos, el porcentaje de aciertos (**accuracy**) está dada por\n",
    "\n",
    "$$\\text{accuracy} = \\frac{\\text{correctly predicted}}{\\text{all predicted}} = \\frac{TP + TN}{TP + FP + TN + FN}$$"
   ]
  },
  {
   "cell_type": "markdown",
   "metadata": {},
   "source": [
    "Como es trivial y poco útil maximizar una métrica por separado, un buen clasificador debería, en general (y dependiendo del problema que trata de resolver), intentar maximizar conjuntamente tanto precision como recall. Normalmente ambos representan intereses contrapuestos.\n",
    "\n",
    "* Considerar como ejemplo la extracción de un tumor cerebral, donde un cirujano debe intentar maximizar la cantidad de células cancerígenas extraídas (recall) para evitar que se regenere el tumor, minimizando a su vez la cantidad de células no cancerígenas extraídas (precision) que podrían afectar las funciones cerebrales.\n",
    "\n",
    "* Debido a que ambas métricas van de la mano, para evaluarlas conjuntamente se suele usar el F1 score, dado por la media armónica\n",
    "\n",
    "$$F_1 = \\frac{2}{P^{-1}+R^{-1}}$$"
   ]
  },
  {
   "cell_type": "markdown",
   "metadata": {},
   "source": [
    "Scikit-learn convenientemente hace este procesamiento por nosotros, como vemos a continuación:"
   ]
  },
  {
   "cell_type": "code",
   "execution_count": 4,
   "metadata": {
    "collapsed": false
   },
   "outputs": [
    {
     "name": "stdout",
     "output_type": "stream",
     "text": [
      "             precision    recall  f1-score   support\n",
      "\n",
      "     setosa       1.00      1.00      1.00        14\n",
      " versicolor       0.62      0.59      0.61        17\n",
      "  virginica       0.53      0.57      0.55        14\n",
      "\n",
      "avg / total       0.71      0.71      0.71        45\n",
      "\n"
     ]
    }
   ],
   "source": [
    "print(metrics.classification_report(y_test, y_hat, target_names=iris.target_names))"
   ]
  },
  {
   "cell_type": "markdown",
   "metadata": {},
   "source": [
    "Notar que _support_ es la cantidad de instancias (true values) de cada una de las clases."
   ]
  },
  {
   "cell_type": "markdown",
   "metadata": {},
   "source": [
    "## False positive vs false negative tradeoff\n",
    "\n",
    "Como acabamos de ver, la contraposición de intereses en un clasificador se da porque existe una relación inversa entre los errores false positive (falsa alarma) y los errores false negative (detección perdida).\n",
    "\n",
    "* La inclinación que querramos darle a este tradeoff depende del problema que estemos intentando resolver.\n",
    "\n",
    "* Para aquellas tareas que se desempeñan en entornos con aversión al riesgo, como vemos en el ejemplo de la cirugía cerebral, debemos diseñar nuestro clasificador de tal forma que se minimicen los costos totales producidos por los errores de predicción.\n",
    "\n",
    "* En la clasificación binaria, una de las opciones es incluir una **reject region**, es decir un umbral de probabilidad donde el predictor, en lugar de clasificar como False, no tomará decisiones, dejando las mismas en manos de una persona, por ejemplo.\n",
    "\n",
    "![](images/reject_region.png)\n",
    "\n",
    "Fuente: Figura 1.26 de Bishop 2006a (nota: no confundir $\\theta$ utilizado en la figura y en el notebook para denotar un umbral con $\\theta$ comúnmente utilizado para referirse a los híper-parámetros del predictor)"
   ]
  },
  {
   "cell_type": "markdown",
   "metadata": {},
   "source": [
    "Alternativamente, si queremos tomar esa decisión pero que nuestro clasificador sea conservador debido al posible costo de los errores, podemos usar el mismo umbral para definir hasta cuánto debe ser nuestro grado de seguridad para asegurar o rechazar $h_0$.\n",
    "\n",
    "* En los clasificadores probabilísticos vistos aquí, el umbral es establecido al ver la probabilidad de predicción de as distintas clases, y alterando la clase elegida cuando la misma no supera el umbral.\n",
    "\n",
    "* Por defecto, el umbral utilizado en los clasificadores binarios es $\\theta=0.5$, mientras que en los clasificadores multi-clase se selecciona la clase que arroje mayor probabilidad.\n",
    "\n",
    "* Veamos las probabilidades de nuestro predictor..."
   ]
  },
  {
   "cell_type": "code",
   "execution_count": 5,
   "metadata": {},
   "outputs": [
    {
     "name": "stdout",
     "output_type": "stream",
     "text": [
      "[[ 0.          0.49055281  0.50944719]\n",
      " [ 0.          0.27075062  0.72924938]\n",
      " [ 1.          0.          0.        ]\n",
      " [ 0.          0.          1.        ]\n",
      " [ 1.          0.          0.        ]\n",
      " [ 0.          0.82398271  0.17601729]\n",
      " [ 0.          0.43565179  0.56434821]\n",
      " [ 0.          0.5         0.5       ]\n",
      " [ 1.          0.          0.        ]\n",
      " [ 0.          1.          0.        ]\n",
      " [ 0.          1.          0.        ]\n",
      " [ 0.          0.5         0.5       ]\n",
      " [ 0.          0.92108116  0.07891884]\n",
      " [ 1.          0.          0.        ]\n",
      " [ 1.          0.          0.        ]\n",
      " [ 0.          0.57698118  0.42301882]\n",
      " [ 0.06713528  0.22517858  0.70768614]\n",
      " [ 1.          0.          0.        ]\n",
      " [ 1.          0.          0.        ]\n",
      " [ 1.          0.          0.        ]\n",
      " [ 0.          0.3238972   0.6761028 ]\n",
      " [ 0.          0.          1.        ]\n",
      " [ 0.          0.51724172  0.48275828]\n",
      " [ 1.          0.          0.        ]\n",
      " [ 0.          0.          1.        ]\n",
      " [ 1.          0.          0.        ]\n",
      " [ 0.          0.76678183  0.23321817]\n",
      " [ 0.          0.83724452  0.16275548]\n",
      " [ 0.          0.59872806  0.40127194]\n",
      " [ 0.          0.06941235  0.93058765]\n",
      " [ 0.          0.43908148  0.56091852]\n",
      " [ 0.          0.50785178  0.49214822]\n",
      " [ 0.          0.19582665  0.80417335]\n",
      " [ 0.          0.76908729  0.23091271]\n",
      " [ 0.          0.43565179  0.56434821]\n",
      " [ 1.          0.          0.        ]\n",
      " [ 0.          0.          1.        ]\n",
      " [ 0.          0.5         0.5       ]\n",
      " [ 0.          0.10628176  0.89371824]\n",
      " [ 0.          0.5         0.5       ]\n",
      " [ 1.          0.          0.        ]\n",
      " [ 1.          0.          0.        ]\n",
      " [ 0.10062565  0.71075411  0.18862023]\n",
      " [ 0.49422963  0.36856342  0.13720695]\n",
      " [ 0.          0.          1.        ]]\n"
     ]
    }
   ],
   "source": [
    "print(clf.predict_proba(X_test))\n",
    "\n",
    "# cada una de las columnas de salida representa la probabilidad estimada por el clasificador para cada una de las clases. "
   ]
  },
  {
   "cell_type": "markdown",
   "metadata": {},
   "source": [
    "No obstante, en determinadas situaciones es deseable cambiar el umbral, por ejemplo...\n",
    "\n",
    "1. Los errores FP y FN tienen una incidencia distinta en el problema para el cuál utilizamos el clasificador.\n",
    "2. Deseamos testear la certeza con la que nuestro clasificador toma las decisiones.\n",
    "\n",
    "Analizamos ambos casos:"
   ]
  },
  {
   "cell_type": "markdown",
   "metadata": {},
   "source": [
    ">1. Los errores FP y FN tienen una incidencia distinta en el problema para el cuál utilizamos el clasificador.\n",
    "\n",
    "* Dadas dos clases 0 y 1, si queremos minimizar el costo de nuestros errores, utilizamos la _loss matrix_\n",
    "\n",
    "$$\n",
    "L =\\begin{pmatrix}{}\n",
    "  & \\hat{y}=0 & \\hat{y}=1 \\\\\n",
    "y=0 & 0 & L_{FP} \\\\\n",
    "y=1 & L_{FN} & 0 \\end{pmatrix}\n",
    "$$\n",
    "\n",
    "donde $L_{FN}$ es el costo de un error FN mientras que $L_{FP}$ es el costo de un error FP. La posterior expected loss $L$ para ambas acciones está dada por\n",
    "\n",
    "$$L(\\hat{y}=0 \\mid X)=L_{FN}P(y=1 \\mid X)$$\n",
    "$$L(\\hat{y}=1 \\mid X)=L_{FP}P(y=0 \\mid X)$$\n",
    "\n",
    "Por lo tanto, deberíamos escoger la clase 1 si y solo si\n",
    "\n",
    "$L(\\hat{y}=0 \\mid X) > L(\\hat{y}=1 \\mid X)$"
   ]
  },
  {
   "cell_type": "markdown",
   "metadata": {},
   "source": [
    "Si $L_{FN} = c L_{FP}$, entonces elegiremos $\\hat{y}=1$ si\n",
    "\n",
    "$$P(y=1 \\mid X) > \\frac{1}{c} P(y=0 \\mid X)$$\n",
    "\n",
    "¿Qué significa esto? Significa que si un FN cuesta 2 veces lo que un FP (lo que implica un $c=2$), elegiremos $\\hat{y}=1$ siempre que $P(y=1 \\mid X) > \\frac{1}{2} P(y=0 \\mid X)$; es decir que lo elegiremos siempre que $P(y=1 \\mid X) > 0.33$."
   ]
  },
  {
   "cell_type": "markdown",
   "metadata": {},
   "source": [
    "> 2\\. Deseamos testear la certeza con la que nuestro clasificador toma las decisiones."
   ]
  },
  {
   "cell_type": "markdown",
   "metadata": {},
   "source": [
    "### Receiver operating characteristic (ROC) curve\n",
    "\n",
    "* Los umbrales también pueden utilizarse para evaluar la _certeza_ de nuestro clasificador, es decir con qué margen de confianza infiere la clase de cada una de las observaciones, para de esta manera poder compararlo mejor frente a otros clasificadores en cuanto a su capacidad de generalizar.\n",
    "\n",
    "* Por ejemplo, el clasificador A y el clasificador B pueden tener idénticas predicciones para un dataset, pero A estar clasificando a todas las clases con un 95% de probabilidad y B estar clasificando con un 51%.\n",
    "\n",
    "* Distinguir entre ambos clasificadores es precisamente la idea de las curvas ROC. En ellas se muestra cómo se comparan los distintos clasificadores en términos de TPR y FPR con respecto a la suposición aleatoria (elige clase 0 o 1 aleatoriamente) y al clasificador perfecto, mostrando el equilibrio entre true positives y false positives para las distintas instancias.\n",
    "\n"
   ]
  },
  {
   "cell_type": "markdown",
   "metadata": {},
   "source": [
    "* Veamos cómo se ve una curva ROC para nuestro ejemplo. Fuente: https://github.com/reiinakano/scikit-plot."
   ]
  },
  {
   "cell_type": "code",
   "execution_count": 6,
   "metadata": {},
   "outputs": [],
   "source": [
    "# instalamos la dependencia requerida\n",
    "\n",
    "from IPython.display import clear_output\n",
    "\n",
    "import pip\n",
    "pip.main([\"install\", \"scikit-plot\"])\n",
    "clear_output()"
   ]
  },
  {
   "cell_type": "code",
   "execution_count": 7,
   "metadata": {},
   "outputs": [
    {
     "data": {
      "image/png": "[encoded data removed]",
      "text/plain": [
       "<matplotlib.figure.Figure at 0x7f00dc502400>"
      ]
     },
     "metadata": {},
     "output_type": "display_data"
    }
   ],
   "source": [
    "import scikitplot as skplt\n",
    "\n",
    "y_hat_probas = clf.predict_proba(X_test)\n",
    "\n",
    "# predicted probabilities generated by sklearn classifier\n",
    "skplt.metrics.plot_roc_curve(y_test, y_hat_probas)\n",
    "plt.show()"
   ]
  },
  {
   "cell_type": "markdown",
   "metadata": {},
   "source": [
    "Notar que micro-average ROC curve es el promedio de las áreas de las curvas ROC, mientras que macro-average ROC curve es el mismo promedio pero ponderado por la cantidad de observaciones de cada clase."
   ]
  },
  {
   "cell_type": "markdown",
   "metadata": {},
   "source": [
    "* Para comparar la calidad de las curvas ROC, una medida utilizada es comparar su área bajo la curva de cada clasificador.\n",
    "\n",
    "* Notar que cualquier clasificador puede alcanzar el límite inferior izquierdo (TPR=FPR=0) al setear $\\theta=1$ y por lo tanto clasificar todo como 0. Análogamente, setear $\\theta=0$ hará que todos los resultados sean clasificados como 1, obteniendo (TPR=FPR=1).\n",
    "\n",
    "* Trazar una línea (TPR=FPR) muestra cómo se desempeña el clasificador aleatorio, el cual es el piso mínimo que todo clasificador debe superar.\n",
    "\n",
    "* Para medir la perfomance de los clasificadores de acuerdo a sus curvas ROC, el criterio utilizado es el de calcular el área bajo la curva ROC (número real que va de 0 a 1). Esta, junto con precision, recall, f1 y la tasa de aciertos, es otra métrica muy útil para evaluar el rendimiento de nuestro clasificador."
   ]
  },
  {
   "cell_type": "markdown",
   "metadata": {},
   "source": [
    "Para ver solamente la métrica del AUC de la curva ROC se puede usar esta librería (sólo para clasificación binaria):\n",
    "\n",
    "http://scikit-learn.org/stable/modules/generated/sklearn.metrics.roc_auc_score.html#sklearn.metrics.roc_auc_score"
   ]
  },
  {
   "cell_type": "markdown",
   "metadata": {},
   "source": [
    "### Trabajo Práctico 3 - Parte II\n",
    "\n",
    "Para los siguientes ejercicios vamos a usar el Wisconsin Breast Cancer dataset, construido a partir de imágenes digitalizadas. Las mismas describen la información obtenida de cada imagen de célula mamaria biopsiada, especificando si el diagnóstico sobre la misma es que es benigna o maligna. Fuente: https://archive.ics.uci.edu/ml/datasets/Breast+Cancer+Wisconsin+(Diagnostic).\n",
    "\n",
    "\n",
    "#### Ejercicios Básicos\n",
    "\n",
    "1. Aplicarle normalización z-score a los datos. Dividir en conjunto de train, validación y test. Nota: para implementar esto se puede utilizar kFolds o bien hacer una sola vez la división.\n",
    "\n",
    "2. Implementar un clasificador kNN para todos los features el dataset Wisconsin Breast Cancer (plantilla de código provista debajo). Entrenarlo y determinar su híper-parámetro k de acuerdo a la tasa de aciertos, usando el subconjunto de validación. Tras finalizar el entrenamiento, mostrar en pantalla la correspondiente tasa de aciertos, precision, recall, f1-score y área bajo la curva ROC.\n",
    "\n",
    "\n",
    "#### Ejercicios Complementarios\n",
    "\n",
    "1. Considerar el caso donde un incorrecto diagnóstico de cáncer cuando la célula es benigna tiene un costo de 7, mientras que una errónea omisión de una célula maligna tiene un costo de 18. De acuerdo a lo visto en este notebook, modificar las salidas del clasificador para que el mismo realice la mayor reducción posible del costo por errores de clasificación, e imprimir dichas salidas.\n",
    "\n",
    "2. Considerando el punto anterior, modificar el código del ejercicio básico para que que cambie el criterio de optimización del híper-parámetro k, de modo que el mismo apunte a minimizar el costo de los errores de predicción, en lugar de maximizar la tasa de aciertos. Mostar en pantalla cuál es el costo mínimo obtenido tras dicha minimización, junto a su correspondiente k.\n",
    "\n",
    "\n",
    "#### Ejercicios Extra\n",
    "\n",
    "\n",
    "Fecha de entrega: **16/5/2018 23:55**.\n",
    "\n",
    "Nota: la resolución de los ejercicios es **individual**. La reutilización del código del notebook está permitida (por ejemplo para confeccionar gráficos)."
   ]
  },
  {
   "cell_type": "code",
   "execution_count": 8,
   "metadata": {
    "collapsed": false
   },
   "outputs": [
    {
     "name": "stdout",
     "output_type": "stream",
     "text": [
      "['malignant' 'benign']\n"
     ]
    }
   ],
   "source": [
    "# Código inicial\n",
    "\n",
    "from sklearn.datasets import load_breast_cancer\n",
    "\n",
    "data = load_breast_cancer()\n",
    "\n",
    "# En el siguiente ejercicio, al no emplear gráficos, vamos a apuntar a obtener el mejor\n",
    "# rendimiento posible de nuestro estimador, por lo que vamos a tomar la dimensionalidad completa del dataset,\n",
    "# lo que significa que no vamos a elegir un feature en concreto como en la clase pasada sino todos los features\n",
    "X = data.data\n",
    "y = data.target\n",
    "\n",
    "# Nota: tener en cuenta que, en este dataset, y==0 representa que la célula es maligna mientras que\n",
    "# un y==1 representa que la célula es benigna. Se aclara esto dado que puede generar confusión\n",
    "# debido a que difiere del criterio en el cual el 0 representa la ausencia de relación de dos\n",
    "# fenómenos\n",
    "print(data.target_names)\n",
    "\n",
    "# TODO seguir aquí\n"
   ]
  },
  {
   "cell_type": "code",
   "execution_count": 9,
   "metadata": {
    "collapsed": false
   },
   "outputs": [],
   "source": [
    "# Información sobre el dataset\n",
    "# help(load_breast_cancer)"
   ]
  }
 ],
 "metadata": {
  "anaconda-cloud": {},
  "kernelspec": {
   "display_name": "Python 3",
   "language": "python",
   "name": "python3"
  },
  "language_info": {
   "codemirror_mode": {
    "name": "ipython",
    "version": 3
   },
   "file_extension": ".py",
   "mimetype": "text/x-python",
   "name": "python",
   "nbconvert_exporter": "python",
   "pygments_lexer": "ipython3",
   "version": "3.6.0"
  }
 },
 "nbformat": 4,
 "nbformat_minor": 2
}
