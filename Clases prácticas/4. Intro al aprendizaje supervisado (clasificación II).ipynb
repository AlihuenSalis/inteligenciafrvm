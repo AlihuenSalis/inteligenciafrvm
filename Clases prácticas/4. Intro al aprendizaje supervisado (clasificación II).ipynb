{
 "cells": [
  {
   "cell_type": "markdown",
   "metadata": {},
   "source": [
    "<a href=\"https://colab.research.google.com/github/inteligenciafrvm/inteligenciafrvm/blob/master/Clases%20pr%C3%A1cticas/4.%20Intro%20al%20aprendizaje%20supervisado%20(clasificaci%C3%B3n%20II).ipynb\" target=\"_parent\"><img src=\"https://colab.research.google.com/assets/colab-badge.svg\" alt=\"Open In Colab\"/></a>"
   ]
  },
  {
   "cell_type": "markdown",
   "metadata": {},
   "source": [
    "# Introducción al Aprendizaje Supervisado - Clasificación (Parte II)\n",
    "\n",
    "* Pre-procesamiento de los datos.\n",
    "* Evaluación de un clasificador.\n",
    "* FPR vs FNR tradeoff.\n",
    "\n",
    "5to año - Ingeniería en Sistemas de Información\n",
    "\n",
    "Facultad Regional Villa María"
   ]
  },
  {
   "cell_type": "markdown",
   "metadata": {},
   "source": [
    "## Pre-procesamiento de datos\n",
    "\n",
    "Un problema muy frecuente (en industria es uno de los problemas más reportados en ML) es que los datasets \"crudos\" no pueden recibir entrenamiento tal como están, por lo que necesitan un pre-procesamiento para poder adaptarse a los requerimientos del modelo. Vemos algunos métodos de pre-procesamiento comunes:\n",
    "\n"
   ]
  },
  {
   "cell_type": "markdown",
   "metadata": {},
   "source": [
    "### Eliminación de features que no aportan a la predicción\n",
    "\n",
    "Un problema común en los datasets es que muchas veces los mismos tienen algunas variables que no están relacionadas de ninguna forma con las salidas o bien es sabido a priori que no aportan información significativa para predecir la salida.\n",
    "\n",
    "* Un ejemplo común son los identificadores, los cuales asocian cada fila de datos con un único código de identificación.\n",
    "\n",
    "* Estos features deben eliminarse, porque de lo contrario el modelo los ajustará e intentará hacer predicciones con datos que no tienen aporte alguno, empeorando la calidad general del modelo."
   ]
  },
  {
   "cell_type": "markdown",
   "metadata": {},
   "source": [
    "### Ampliación o transformación del dataset\n",
    "\n",
    "De forma similar, existen maneras de agregar o transformar datos en el dataset para mejorar las predicciones, por ejemplo incorporando información de datasets públicos o generando nuevos features a partir de los existentes o con la ayuda de información de dominio.\n",
    "\n",
    "* Este tipo de mejoras puede ayudar a mejorar las predicciones del dataset, por ejemplo al poder utilizar features más relevantes para predecir las salidas.\n",
    "\n",
    "* Al igual que al eliminar los features (más allá de aquellos obvios como los identificadores), no hay una regla general para ampliar el dataset, pues depende mucho del dominio del problema.\n",
    "\n",
    "* Por ejemplo, en visión por computadoras un pre-procesamiento que se hace algunas veces consiste en pasar las imágenes de RGB a escala de grises para reducir el tamaño de la misma. Por otra parte, una ampliación (*data augmentation*) común consiste en agregar la misma imagen pero rotada hacia la derecha e izquierda."
   ]
  },
  {
   "cell_type": "markdown",
   "metadata": {},
   "source": [
    "### Dummy variables para datasets con features no numéricos\n",
    "\n",
    "* Por ejemplo, si tenemos que hacer una predicción sobre imágenes geométricas y contamos con una variable categórica \"Color\" en las mismas que toma valores \"Rojo\", \"Azul\" y \"Verde\". Tal variable no puede ser utilizada de esa forma para hacer la predicción, puesto que los modelos emplean features numéricos.\n",
    "* Una solución rápida consistiría en reemplazar los features asignando, por ejemplo, 0 cuando se trata de \"Rojo\" , 1 cuando se trata de \"Azul\" y 2 cuando es \"Verde\", es decir\n",
    "\n",
    "|                 | Color  |\n",
    "|-----------------|:------:|        \n",
    "| Rectángulo rojo |    0   |\n",
    "| Círculo azul    |    1   |\n",
    "| Estrella verde  |    2   |\n"
   ]
  },
  {
   "cell_type": "markdown",
   "metadata": {},
   "source": [
    "* El problema de este enfoque es que asumimos arbitrariamente un orden en los features, por lo cual nuestro modelo estaría innecesariamente sesgado en su entrenamiento, estableciendo por ejemplo que \"Verde\" es el doble que \"Azul\".\n",
    "* Un enfoque que a veces se usa para estos casos consiste en crear un nuevo feature para cada valor categórico posible, asignando un 1 cuando el valor pertenece a la mencionada categoría y un 0 para todas las demás categorías.\n",
    "* Esta transformación se conoce como \"one-hot encoding\", y las variables de esta forma reciben el nombre de \"dummy variable\".\n",
    "\n",
    "|                 | Rojo  | Azul  |Verde|\n",
    "|-----------------|:-----:|:-----:|:---:|\n",
    "| Rectángulo rojo |   1   |   0   |  0  |\n",
    "| Círculo azul    |   0   |   1   |  0  |\n",
    "| Estrella verde  |   0   |   0   |  1  |"
   ]
  },
  {
   "cell_type": "markdown",
   "metadata": {},
   "source": [
    "Ejemplo en código:"
   ]
  },
  {
   "cell_type": "code",
   "execution_count": 1,
   "metadata": {},
   "outputs": [
    {
     "name": "stdout",
     "output_type": "stream",
     "text": [
      "   color letra  alto  ancho\n",
      "0   rojo     a   2.0      1\n",
      "1   rojo     b   2.0      1\n",
      "2  verde     b   1.0      1\n",
      "3   azul     a   3.0      2\n",
      "4  verde     c   1.5      1\n"
     ]
    }
   ],
   "source": [
    "import pandas as pd\n",
    "\n",
    "df = pd.DataFrame([['rojo' , 'a', 2  , 1], \n",
    "                   ['rojo' ,'b',  2  , 1], \n",
    "                   ['verde','b',  1  , 1], \n",
    "                   ['azul' ,'a',  3  , 2], \n",
    "                   ['verde','c',  1.5, 1]], \n",
    "                  columns=['color', 'letra', 'alto', 'ancho'])\n",
    "print(df)"
   ]
  },
  {
   "cell_type": "code",
   "execution_count": 2,
   "metadata": {},
   "outputs": [
    {
     "name": "stdout",
     "output_type": "stream",
     "text": [
      "[array(['azul', 'rojo', 'verde'], dtype=object), array(['a', 'b', 'c'], dtype=object)]\n"
     ]
    }
   ],
   "source": [
    "from sklearn.preprocessing import OneHotEncoder\n",
    "\n",
    "encoder = OneHotEncoder()\n",
    "df_one_hot = encoder.fit(df[['color', 'letra']])\n",
    "print(df_one_hot.categories_)"
   ]
  },
  {
   "cell_type": "code",
   "execution_count": 3,
   "metadata": {},
   "outputs": [
    {
     "name": "stdout",
     "output_type": "stream",
     "text": [
      "['color_azul' 'color_rojo' 'color_verde' 'letra_a' 'letra_b' 'letra_c']\n",
      "[[0. 1. 0. 1. 0. 0.]\n",
      " [0. 1. 0. 0. 1. 0.]\n",
      " [0. 0. 1. 0. 1. 0.]\n",
      " [1. 0. 0. 1. 0. 0.]\n",
      " [0. 0. 1. 0. 0. 1.]]\n"
     ]
    }
   ],
   "source": [
    "features_transformados = df_one_hot.transform(df[['color', 'letra']]).toarray()\n",
    "\n",
    "print(df_one_hot.get_feature_names(['color', 'letra']))\n",
    "print(features_transformados)"
   ]
  },
  {
   "cell_type": "code",
   "execution_count": 4,
   "metadata": {},
   "outputs": [
    {
     "name": "stdout",
     "output_type": "stream",
     "text": [
      "[['rojo' 'a']\n",
      " ['rojo' 'b']\n",
      " ['verde' 'b']\n",
      " ['azul' 'a']\n",
      " ['verde' 'c']]\n"
     ]
    }
   ],
   "source": [
    "# también podemos hacer la transformación inversa\n",
    "\n",
    "print(df_one_hot.inverse_transform(features_transformados))"
   ]
  },
  {
   "cell_type": "markdown",
   "metadata": {},
   "source": [
    "Anexamos nuestro one-hot encoding a los datos originales"
   ]
  },
  {
   "cell_type": "code",
   "execution_count": 5,
   "metadata": {},
   "outputs": [
    {
     "name": "stdout",
     "output_type": "stream",
     "text": [
      "[[2.  1.  0.  1.  0.  1.  0.  0. ]\n",
      " [2.  1.  0.  1.  0.  0.  1.  0. ]\n",
      " [1.  1.  0.  0.  1.  0.  1.  0. ]\n",
      " [3.  2.  1.  0.  0.  1.  0.  0. ]\n",
      " [1.5 1.  0.  0.  1.  0.  0.  1. ]]\n"
     ]
    }
   ],
   "source": [
    "import numpy as np\n",
    "\n",
    "datos_numericos = df[['alto', 'ancho']]\n",
    "datos_completos = np.hstack((datos_numericos, features_transformados))\n",
    "print(datos_completos)"
   ]
  },
  {
   "cell_type": "markdown",
   "metadata": {},
   "source": [
    "#### Desventajas:\n",
    "\n",
    "One-hot encoding no es necesario, o puede causar un decremento de la performance cuando:\n",
    "* Usamos métodos basados en árboles como *decision trees* o *random forest*.\n",
    "* Tenemos sólo dos valores posibles para la variable categórica.\n",
    "* Aumentaría muy considerablemente la cantidad de dimensiones. En esos casos tenemos que evaluar otras opciones como crear features a mano que agrupen lo que queremos representar en una forma que tenga sentido en el dominio de los datos."
   ]
  },
  {
   "cell_type": "markdown",
   "metadata": {},
   "source": [
    "### Normalización de los datos\n",
    "\n",
    "En virtud de que todos los features **contribuyan de forma equitativa** (es decir que no tengan más peso en la clasificación aquellos features con mayor magnitud), para algunos modelos se requiere que los datos estén normalizados de alguna forma, por ejemplo para que todos los valores caigan en el mismo rango fijo. La normalización se hace en cada feature. Informalmente, \"para cada columna\".\n",
    "\n",
    "\n",
    "* Una normalización posible es **minmax normalization**, la cual transforma un feature de tal forma que todos sus valores caigan en el rango $[0,1]$.\n",
    "* Para lograr esto es suficiente hacer, para cada elemento $j$ del feature $X_i$\n",
    "\n",
    "$$Z_{ij} = \\frac{X_{ij} - min(X_{i})}{max(X_{i}) - min(X_{i})}$$\n",
    "\n"
   ]
  },
  {
   "cell_type": "markdown",
   "metadata": {},
   "source": [
    "Ejemplo: dados los siguientes datos,\n",
    "\n",
    "| Feature_1 |\n",
    "|:---------:|\n",
    "| 42        |\n",
    "| 66        |\n",
    "| 187       |\n",
    "| 29        |\n",
    "\n",
    "Normalizando...\n",
    "\n",
    "| Feature_1 |\n",
    "|:---------:|\n",
    "| 0.08      |\n",
    "| 0.23      |\n",
    "| 1         |\n",
    "| 0         |"
   ]
  },
  {
   "cell_type": "markdown",
   "metadata": {},
   "source": [
    "* Otra normalización muy común es la **z-score standarization**, normaliza los valores con respecto a la desviación estándar, dejando los mismos con media 0. Analíticamente, $$Z_{ij} = \\frac{X_{ij} - \\bar{X}}{\\sigma}$$ donde $\\bar{X}$ es la media de la población y $\\sigma$ es la desviación estándar.\n",
    "\n",
    "* Cada valor $Z_{ij}$ normalizado representa la distancia entre el valor $X_{ij}$ y la media de la población, en $Z_{ij}$ desviaciones estándar como unidad.\n",
    "\n",
    "Normalizando los datos iniciales del ejemplo el ejemplo anterior...\n",
    "\n",
    "| Feature_1 |\n",
    "|:---------:|\n",
    "| 42        |\n",
    "| 66        |\n",
    "| 187       |\n",
    "| 29        |\n",
    "\n",
    "Media = 81;\n",
    "desviación estándar = 72.3\n",
    "\n",
    "| Feature_1 |\n",
    "|:---------:|\n",
    "|-0.62      |\n",
    "|-0.23      |\n",
    "| 1.69      |\n",
    "|-0.83      |"
   ]
  },
  {
   "cell_type": "markdown",
   "metadata": {},
   "source": [
    "Librerías de ejemplo para ambas normalizaciones:\n",
    "\n",
    "* https://scikit-learn.org/stable/modules/generated/sklearn.preprocessing.MinMaxScaler.html\n",
    "* https://scikit-learn.org/stable/modules/generated/sklearn.preprocessing.StandardScaler.html"
   ]
  },
  {
   "cell_type": "markdown",
   "metadata": {},
   "source": [
    "#### A tener en cuenta en la normalización\n",
    "\n",
    "##### **1.** ¿Qué sucede cuando queremos normalizar y tenemos que dividir los datos en train y test (o, análogamente, en train y validation)?\n",
    "\n",
    "Si normalizamos toda nuestra matriz de datos X, tendremos un problema: estaremos sesgando indirectamente nuestro entrenamiento con respecto a los conjuntos de test y de validación.\n",
    "\n",
    "Lo que se hace en estos casos es:\n",
    "\n",
    "1. Obtener $\\bar{X}_{train}$ y $\\sigma_{train}$ para el caso de normalización z-score, o $min(X_i)_{train}$ y $max(X_i)_{train}$ para el caso de minmax.\n",
    "2. Aplicar la normalización al conjunto de entrenamiento.\n",
    "3. Al hacer predicciones, normalizar el conjunto de validación o test **con respecto a los estadísticos del conjunto de entrenamiento**, es decir $\\bar{X}_{train}$ y $\\sigma_{train}$ (para el caso de z-score). Es decir que para normalizar el conjunto de test, hacemos para cada uno de sus $X_{ij}$:\n",
    "\n",
    "$$Z_{ij} = \\frac{X_{ij} - \\bar{X}_{train}}{\\sigma_{train}}$$\n",
    "\n",
    "Naturalmente, si hacemos esto perderemos alguna de las propiedades de la normalización para el conjunto de test (por ejemplo, en el caso de z-score, es muy probable que la media y desviación de los datos de test difieran de 0 y 1, respectivamente), pero esto es totalmente preferible antes que sesgar el conjunto de entrenamiento.\n",
    "\n",
    "Nota: ambas librerías de ejemplo conservan los estadísticos originales.\n",
    "\n",
    "##### **2.** Tener en cuenta que hay modelos que no son afectados por ciertas normalizaciones"
   ]
  },
  {
   "cell_type": "markdown",
   "metadata": {},
   "source": [
    "## Evaluando un clasificador\n",
    "\n",
    "La forma más simple de evaluar un clasificador es mediante el porcentaje o **tasa de aciertos**, es decir qué porcentaje de nuestras predicciones acertaron la clase, dados todos los puntos consultados.\n",
    "\n",
    "* Retomamos el ejemplo de la clase pasada:"
   ]
  },
  {
   "cell_type": "code",
   "execution_count": 6,
   "metadata": {},
   "outputs": [
    {
     "name": "stdout",
     "output_type": "stream",
     "text": [
      "[0 0 0 2 0 2 2 0 0 0 2 2 1 0 2 1 0 1 0 0 0 2 2 1 2 0 1 1 1 2 0 1 0 1 1 1 0\n",
      " 2 1 0 0 0 2 2 2]\n"
     ]
    }
   ],
   "source": [
    "from sklearn.datasets import load_iris\n",
    "from sklearn import neighbors\n",
    "from sklearn.model_selection import train_test_split\n",
    "\n",
    "iris = load_iris()\n",
    "X = iris.data[:, :2]\n",
    "y = iris.target\n",
    "\n",
    "# Dividimos el conjunto en train, test\n",
    "X_train, X_test, y_train, y_test = train_test_split(X, y, random_state=80, test_size=0.3)\n",
    "\n",
    "\n",
    "clf = neighbors.KNeighborsClassifier(n_neighbors=5)\n",
    "\n",
    "clf.fit(X_train, y_train)\n",
    "y_hat = clf.predict(X_test)\n",
    "print(y_hat)"
   ]
  },
  {
   "cell_type": "code",
   "execution_count": 7,
   "metadata": {},
   "outputs": [
    {
     "name": "stdout",
     "output_type": "stream",
     "text": [
      "Porcentaje de aciertos en la clasificación:  0.7555555555555555\n"
     ]
    }
   ],
   "source": [
    "print('Porcentaje de aciertos en la clasificación: ', clf.score(X_test,y_test))"
   ]
  },
  {
   "cell_type": "markdown",
   "metadata": {},
   "source": [
    "* Esta métrica es una buena medida para saber rápidamente los aciertos en todo clasificador. Sin embargo no nos está dando detalles como, por ejemplo, que todas las Setosas fueron correctamente clasificadas. Para ello vamos a usar mejor información, que incluya las métricas comúnmente utilizadas para evaluar un clasificador."
   ]
  },
  {
   "cell_type": "markdown",
   "metadata": {},
   "source": [
    "#### Tipos de errores\n",
    "\n",
    "En la clasificación binaria (es decir cuando la cantidad de clases posibles a la que una variable puede pertenecer es de dos), al intentar hacer una predicción, existen dos tipos de errores de predicción a considerar.\n",
    "\n",
    "Por ejemplo, supongamos que testeamos la existencia de una enfermedad en un paciente. Como _hipótesis nula_ $h_0$ tomamos a \"$h_0$: el paciente no posee la enfermedad\", mientras que como _hipótesis alternativa_ tomamos \"$h_1$: el paciente posee la enfermedad\".\n",
    "\n",
    "* $h_0$ es la hipótesis que se suele usar para establecer **\"ausencia o inexistencia de relación entre dos fenómenos\"** (tomando como fenómenos \"el paciente\" y \"la enfermedad\"), mientras que $h_1$ representa **\"algún tipo de relación entre dos fenómenos\"**.\n",
    "\n",
    "* \"_Inocente hasta que se demuestre lo contrario_\". En testing de hipótesis, $h_0$ es la postura por defecto. Esto quiere decir que para rechazarla y por lo tanto validar una hipótesis alternativa debe demostrarse fehacientemente que $h_0$ es falsa más allá de toda duda razonable (normalmente representada por un intervalo de confianza del 95%)."
   ]
  },
  {
   "cell_type": "markdown",
   "metadata": {},
   "source": [
    "* El **error de tipo I**, **false positive** o **falsa alarma** ocurre cuando se rechaza incorrectamente una $h_0$ verdadera. En nuestro ejemplo, esto sucede cuando incorrectamente diagnosticamos la enfermedad en el paciente.\n",
    "\n",
    "* Por otra parte, el **error de tipo II**, **false negative** o **detección perdida**, ocurre cuando incorrectamente se retiene una $h_0$ falsa, siendo que se daba la relación establecida por $h_1$. En nuestro ejemplo esto sucede cuando detectamos incorrectamente que el paciente no registra la enfermedad.\n",
    "\n",
    "* En el caso de que la predicción haya sido correcta, decimos que la misma arrojó un **true positive** o **true negative**, según si se predijo correctamente la existencia o no de la relación entre dos fenómenos (_positive_ significa que dicha relación existió, es decir que se cumple $h_1$).\n",
    "\n",
    "* En nuestro caso, true positive representa la correcta predicción en la existencia de la enfermedad mientras que false positive representa correctamente la predicción sobre la ausencia de la enfermedad."
   ]
  },
  {
   "cell_type": "markdown",
   "metadata": {},
   "source": [
    "* En nuestro ejemplo, si detectáramos varias enfermedades en el paciente y nos interesa saber $h_0$, true negative se referirá a los casos donde predecimos que el paciente no posee ninguna enfermedad y tal situación es la real; mientras que true positive se refiere a haber inferido correctamente que el paciente posee alguna enfermedad. Este enfoque se conoce como **one-vs-all**."
   ]
  },
  {
   "cell_type": "markdown",
   "metadata": {},
   "source": [
    "#### Confusion Matrix\n",
    "\n",
    "Una forma sencilla de evaluar el rendimiento de un algoritmo es por medio de una **confusion matrix** o **error matrix**, la cual contrasta las predicciones con los valores verdaderos, mostrando los errores TI y TII."
   ]
  },
  {
   "cell_type": "code",
   "execution_count": 8,
   "metadata": {},
   "outputs": [
    {
     "data": {
      "image/png": "[encoded data removed]",
      "text/plain": [
       "<Figure size 432x288 with 2 Axes>"
      ]
     },
     "metadata": {
      "needs_background": "light"
     },
     "output_type": "display_data"
    }
   ],
   "source": [
    "import matplotlib.pyplot as plt\n",
    "%matplotlib inline\n",
    "from sklearn.metrics import plot_confusion_matrix\n",
    "\n",
    "plot_confusion_matrix(clf, X_test, y_test,\n",
    "                      display_labels=iris.target_names,\n",
    "                      cmap=plt.cm.Blues)\n",
    "plt.show()"
   ]
  },
  {
   "cell_type": "markdown",
   "metadata": {},
   "source": [
    "Versión normalizada de acuerdo a la cantidad de observaciones:"
   ]
  },
  {
   "cell_type": "code",
   "execution_count": 9,
   "metadata": {},
   "outputs": [
    {
     "data": {
      "image/png": "[encoded data removed]",
      "text/plain": [
       "<Figure size 432x288 with 2 Axes>"
      ]
     },
     "metadata": {
      "needs_background": "light"
     },
     "output_type": "display_data"
    }
   ],
   "source": [
    "plot_confusion_matrix(clf, X_test, y_test,\n",
    "                      display_labels=iris.target_names,\n",
    "                      cmap=plt.cm.Blues,\n",
    "                      normalize='true')\n",
    "plt.show()"
   ]
  },
  {
   "cell_type": "markdown",
   "metadata": {},
   "source": [
    "* En el caso de la **clasificación muticlase**, para algunos algoritmos o cálculo de métricas se usa la estrategia \"one-vs-all\" para referirse a los tipos de errores. Es decir que cada tipo de error es calculado para cada una de las clases, tomando un label de dicha clase como positivo ($y=1$) y un label de cualquier otra clase como negativo ($y=0$). \n",
    "\n",
    "* Ejemplo: clasificación multiclase desde las setosas\n",
    "\n"
   ]
  },
  {
   "cell_type": "markdown",
   "metadata": {},
   "source": [
    "|                   |                    |     Clase estimada      |                            |\n",
    "|-------------------|--------------------|:-----------------------:|:--------------------------:|\n",
    "|                   |                    | No Setosa ($\\hat{y}=0$) |    Setosa ($\\hat{y}=1$)    |\n",
    "|                   | No Setosa ($y=0$)  |       **1**            |             0              |\n",
    "|**Clase verdadera**| Setosa    ($y=1$)  |          0              |          **1**            |"
   ]
  },
  {
   "cell_type": "markdown",
   "metadata": {},
   "source": [
    "* Esto se hace para poder extender el problema a partir de una clasificación binaria, pudiendo evaluar los errores TI y TII de la misma forma.\n",
    "\n",
    "* Vemos ahora con mejor nivel de detalle aspectos como que todas las flores Setosa utilizadas para el test fueron correctamente clasificadas, mientras que las flores Versicolor se confunden frecuentemente con las Virginica.\n",
    "\n",
    "Vamos a procesar todavía más esta información al calcular métricas adicionales que nos permitirán obtener más claridad.\n"
   ]
  },
  {
   "cell_type": "markdown",
   "metadata": {},
   "source": [
    "Vista general: de todos los puntos (representada por un rectángulo, que divide los positivos de los negativos) elegimos una determinada cantidad de puntos como positivos (representada por el círculo central)\n",
    "\n",
    "![Positives - Negatives](images/4/positives_negatives.png)\n",
    "\n",
    "Fuente: Walber (usuario de Wikipedia), imagen adaptada desde https://en.wikipedia.org/wiki/Precision_and_recall"
   ]
  },
  {
   "cell_type": "markdown",
   "metadata": {},
   "source": [
    "Concepto preliminar: en la clasificación binaria, es decir aquellos problemas donde $c_i \\in \\{False, True\\}$, el **umbral** o _threshold_ $\\theta \\in [0,1]$ es la probabilidad mínima que hace que el predictor clasifique una observación como True. Aquellas probabilidades por debajo del umbral son clasificadas como False.\n",
    "\n",
    "(nota: no confundir $\\theta$ utilizado en el resto del notebook para denotar un umbral con $\\theta$ comúnmente utilizado para referirse a los parámetros del predictor)\n",
    "\n",
    "Por ejemplo, para clasificar un positivo con un $\\theta = 0.75$ se necesita que $P(y=1 \\mid x) > 0.75$."
   ]
  },
  {
   "cell_type": "markdown",
   "metadata": {},
   "source": [
    "#### Métricas desde el punto de vista de los negativos\n"
   ]
  },
  {
   "cell_type": "markdown",
   "metadata": {},
   "source": [
    "\n",
    "\n",
    "La primera métrica es el **false positive rate (FPR)** (o proporción de falsas alarmas), que representa el porcentaje de errores de TI en la clasificación, es decir\n",
    "\n",
    "$$ FPR = \\frac{FP}{\\text{actual negatives}} = \\frac{FP}{FP + TN}$$\n",
    "\n",
    "Un predictor no tendría falsas alarmas si clasificara todo como \"False\", al usar un umbral $\\theta=1$."
   ]
  },
  {
   "cell_type": "markdown",
   "metadata": {},
   "source": [
    "Por otra parte, el **false negative rate (FNR)** (o proporción de detecciones perdidas) representa el porcentaje de errores TII en la clasificación, es decir\n",
    "\n",
    "$$ FNR = \\frac{FN}{\\text{actual positives}} = \\frac{FN}{FN + TP}$$\n",
    "\n",
    "Un predictor no tendría detecciones perdidas si clasificara todo como \"True\", usando un umbral $\\theta = 0$."
   ]
  },
  {
   "cell_type": "markdown",
   "metadata": {},
   "source": [
    "#### Métricas desde el punto de vista de los positivos\n",
    "\n",
    "![](images/4/precision_recall.png)\n",
    "\n",
    "Fuente: Walber (usuario de Wikipedia), imagen adaptada desde https://en.wikipedia.org/wiki/Precision_and_recall"
   ]
  },
  {
   "cell_type": "markdown",
   "metadata": {},
   "source": [
    "Uno de los indicadores principales es el **positive predictive value** o **precision**, que representa el porcentaje de positivos correctamente inferidos como tal por cada positivo inferido. Está dado por\n",
    "\n",
    "$$P(y=1 \\mid \\hat{y}=1) = \\frac{TP}{\\text{predicted positives}} = \\frac{TP}{TP + FP}$$\n",
    "\n",
    "Intuitivamente puede interpretarse como **\"qué tan seguro es un clasificador al inferir las observaciones como positivas\"**. Un predictor maximizaría esta métrica si clasificara como \"True\" sólo aquellas observaciones con las que cuente con total certeza que son \"True\"."
   ]
  },
  {
   "cell_type": "markdown",
   "metadata": {},
   "source": [
    "Otro indicador principal es el **true positive rate**, **sensitivity** o **recall**, que representa el porcentaje de positivos correctamente inferidos por cada positivo real, dado por\n",
    "\n",
    "$$P(\\hat{y}=1 \\mid y=1)= \\frac{TP}{\\text{actual positives}} = \\frac{TP}{TP + FN}$$\n",
    "\n",
    "Intuitivamente puede interpretarse como **\"qué tan bueno es un clasificador en detectar los positivos\"**. Un predictor sería perfecto en la detección de positivos si clasificara todo como \"True\", al usar un umbral $\\theta = 0$."
   ]
  },
  {
   "cell_type": "markdown",
   "metadata": {},
   "source": [
    "Análogamente, el **true negative rate** o **specificity** es similar al recall pero considerando los negativos, es decir\n",
    "\n",
    "$$P(\\hat{y}=0 \\mid y=0)= \\frac{TN}{\\text{actual negatives}} = \\frac{TN}{TN + FP}$$\n",
    "\n",
    "Intuitivamente puede interpretarse como \"qué tan bueno es un clasificador evitando las falsas alarmas\". Como vimos antes, un predictor sería perfecto en evitar falsas alarmas si clasificara todo como \"False\", es decir usara un $\\theta=1$."
   ]
  },
  {
   "cell_type": "markdown",
   "metadata": {},
   "source": [
    "La primera medida que venimos usando, el porcentaje de aciertos (**accuracy**) está dada por\n",
    "\n",
    "$$\\text{accuracy} = \\frac{\\text{correctly predicted}}{\\text{all predicted}} = \\frac{TP + TN}{TP + FP + TN + FN}$$"
   ]
  },
  {
   "cell_type": "markdown",
   "metadata": {},
   "source": [
    "Como es trivial y poco útil maximizar precision o recall por separado, un buen clasificador debería, en general (y dependiendo del problema que trata de resolver), intentar maximizar conjuntamente tanto precision como recall. Normalmente ambos representan intereses contrapuestos.\n",
    "\n",
    "* Por ejemplo: imaginemos un clasificador en el dominio criminal, donde tenemos sospechosos y evidencias hacia ellos, y buscamos maximizar tanto que los sospechosos culpables sean identificados como tales (recall), como la seguridad de nuestro clasificador al afirmar culpabilidad de un sospechoso (precision), de modo de minimizar la cantidad de inocentes con condena injusta.\n",
    "\n",
    "* En este caso, la hay posturas en filosofía del derecho que realizan una clara distinción en este balance, como por ejemplo el [Blackstone's ratio](https://en.wikipedia.org/wiki/Blackstone's_ratio): \"*It is better that ten guilty persons escape than that one innocent suffer*\" \n",
    "\n",
    "* En el caso de que querramos comparar ambas métricas con respecto a la otra en forma equitativa, para evaluarlas conjuntamente se suele usar el F1 score, dado por la media armónica\n",
    "\n",
    "$$f_1 = \\frac{2}{P^{-1}+R^{-1}}$$"
   ]
  },
  {
   "cell_type": "markdown",
   "metadata": {},
   "source": [
    "Scikit-learn convenientemente hace este procesamiento por nosotros, como vemos a continuación:"
   ]
  },
  {
   "cell_type": "code",
   "execution_count": 10,
   "metadata": {},
   "outputs": [
    {
     "name": "stdout",
     "output_type": "stream",
     "text": [
      "              precision    recall  f1-score   support\n",
      "\n",
      "      setosa       1.00      1.00      1.00        19\n",
      "  versicolor       0.83      0.53      0.65        19\n",
      "   virginica       0.36      0.71      0.48         7\n",
      "\n",
      "    accuracy                           0.76        45\n",
      "   macro avg       0.73      0.75      0.71        45\n",
      "weighted avg       0.83      0.76      0.77        45\n",
      "\n"
     ]
    }
   ],
   "source": [
    "from sklearn import metrics\n",
    "print(metrics.classification_report(y_test, y_hat, target_names=iris.target_names))"
   ]
  },
  {
   "cell_type": "markdown",
   "metadata": {},
   "source": [
    "Notar que _support_ es la cantidad de instancias (true values) de cada una de las clases."
   ]
  },
  {
   "cell_type": "markdown",
   "metadata": {},
   "source": [
    "## False positive vs false negative tradeoff\n",
    "\n",
    "Como acabamos de ver, la contraposición de intereses en un clasificador se da porque existe una relación inversa entre los errores false positive (falsa alarma) y los errores false negative (detección perdida).\n",
    "\n",
    "* La inclinación que querramos darle a este tradeoff depende del problema que estemos intentando resolver.\n",
    "\n",
    "* Para aquellas tareas que se desempeñan en entornos con aversión al riesgo, por ejemplo al decidir si las pruebas contra un sospechoso son suficientes para afirmar su culpabilidad, debemos diseñar nuestro clasificador de tal forma que se minimicen los costos totales producidos por los errores de predicción.\n",
    "\n",
    "* En la clasificación binaria, una de las opciones es incluir una **reject region**, es decir un umbral de probabilidad donde el predictor, en lugar de clasificar como False, no tomará decisiones, dejando las mismas en manos de una persona, por ejemplo.\n",
    "\n",
    "![](images/4/reject_region.png)\n",
    "\n",
    "Fuente: Figura 1.26 de Bishop 2006a"
   ]
  },
  {
   "cell_type": "markdown",
   "metadata": {},
   "source": [
    "Alternativamente, si queremos tomar esa decisión pero que nuestro clasificador sea conservador debido al posible costo de los errores, podemos usar el mismo umbral para definir hasta cuánto debe ser nuestro grado de seguridad para asegurar o rechazar $h_0$.\n",
    "\n",
    "* En los clasificadores probabilísticos vistos aquí, el umbral es establecido al ver la probabilidad de predicción de as distintas clases, y alterando la clase elegida cuando la misma no supera el umbral.\n",
    "\n",
    "* Por defecto, el umbral utilizado en los clasificadores binarios es $\\theta=0.5$, mientras que en los clasificadores multi-clase se selecciona la clase para la cuál nuestro clasificador arroja mayor probabilidad.\n",
    "\n",
    "* Veamos las probabilidades de nuestro kNN para el dataset iris..."
   ]
  },
  {
   "cell_type": "code",
   "execution_count": 11,
   "metadata": {},
   "outputs": [
    {
     "name": "stdout",
     "output_type": "stream",
     "text": [
      "[[1.  0.  0. ]\n",
      " [1.  0.  0. ]\n",
      " [1.  0.  0. ]\n",
      " [0.  0.2 0.8]\n",
      " [1.  0.  0. ]\n",
      " [0.  0.4 0.6]\n",
      " [0.  0.4 0.6]\n",
      " [1.  0.  0. ]\n",
      " [1.  0.  0. ]\n",
      " [1.  0.  0. ]]\n"
     ]
    }
   ],
   "source": [
    "print(clf.predict_proba(X_test[:10,:])) \n",
    "\n",
    "# cada una de las columnas de salida representa la probabilidad estimada por el clasificador \n",
    "# para cada una de las clases, para las primeras 10 filas de datos. "
   ]
  },
  {
   "cell_type": "markdown",
   "metadata": {},
   "source": [
    "No obstante, en determinadas situaciones es deseable cambiar el umbral, por ejemplo...\n",
    "\n",
    "1. Deseamos testear la certeza con la que nuestro clasificador toma las decisiones.\n",
    "2. Los errores FP y FN tienen una incidencia distinta en el problema para el cuál utilizamos el clasificador, para lo cuál es necesario cambiar $\\theta$ en consecuencia.\n",
    "\n",
    "Analizamos el primer caso. El segundo caso se encuentra analizado en el [Material Extra](https://github.com/inteligenciafrvm/inteligenciafrvm/blob/master/Archivo%20y%20extras/Material%20Extra/Clasificaci%C3%B3n%20II%20-%20Minimizar%20error%20cambiando%20umbrales/Clasificaci%C3%B3n%20II%20-%20Minimizar%20error%20cambiando%20umbrales.ipynb):"
   ]
  },
  {
   "cell_type": "markdown",
   "metadata": {},
   "source": [
    "> 1\\. Deseamos testear la certeza con la que nuestro clasificador toma las decisiones."
   ]
  },
  {
   "cell_type": "markdown",
   "metadata": {},
   "source": [
    "### Receiver operating characteristic (ROC) curve\n",
    "\n",
    "* Los umbrales también pueden utilizarse para evaluar con qué margen de confianza nuestro clasificador infiere la clase de cada una de las observaciones, para de esta manera poder compararlo mejor frente a otros clasificadores en cuanto a su capacidad de generalizar.\n",
    "\n",
    "* Por ejemplo, el clasificador A y el clasificador B pueden tener idénticas predicciones para un dataset, pero A estar clasificando a todas las clases con un 95% de probabilidad y B estar clasificando con un 51%.\n",
    "\n",
    "* Distinguir entre ambos clasificadores es precisamente la idea de las curvas ROC. En ellas se muestra cómo se comparan los distintos clasificadores en términos de TPR y FPR con respecto a la suposición aleatoria (elige clase 0 o 1 aleatoriamente) y al clasificador perfecto, mostrando el equilibrio entre true positives y false positives para las distintas instancias.\n",
    "\n"
   ]
  },
  {
   "cell_type": "markdown",
   "metadata": {},
   "source": [
    "* Veamos cómo se ve una curva ROC para nuestro ejemplo (armado a partir de https://github.com/reiinakano/scikit-plot)."
   ]
  },
  {
   "cell_type": "code",
   "execution_count": 12,
   "metadata": {},
   "outputs": [],
   "source": [
    "# instalamos la dependencia requerida\n",
    "\n",
    "from IPython.display import clear_output\n",
    "\n",
    "try: # try usado porque la invocación de pip cambia según la versión del mismo\n",
    "    from pip import main as pipmain # pip 9\n",
    "except:\n",
    "    from pip._internal import main as pipmain # pip 10\n",
    "\n",
    "from IPython.display import clear_output\n",
    "\n",
    "pipmain([\"install\", \"scikit-plot\"])\n",
    "clear_output()"
   ]
  },
  {
   "cell_type": "code",
   "execution_count": 13,
   "metadata": {},
   "outputs": [
    {
     "data": {
      "image/png": "[encoded data removed]",
      "text/plain": [
       "<Figure size 432x288 with 1 Axes>"
      ]
     },
     "metadata": {
      "needs_background": "light"
     },
     "output_type": "display_data"
    }
   ],
   "source": [
    "import scikitplot as skplt\n",
    "\n",
    "y_hat_probas = clf.predict_proba(X_test)\n",
    "\n",
    "# predicted probabilities generated by sklearn classifier\n",
    "# Notar que micro-average ROC curve es el promedio de las áreas de las curvas ROC, \n",
    "# mientras que macro-average ROC curve es el mismo promedio pero ponderado por la \n",
    "# cantidad de observaciones de cada clase.\n",
    "skplt.metrics.plot_roc(y_test, y_hat_probas, plot_micro=False, plot_macro=False)\n",
    "plt.show()"
   ]
  },
  {
   "cell_type": "markdown",
   "metadata": {},
   "source": [
    "* Para comparar la calidad de las curvas ROC, una medida utilizada es comparar su área bajo la curva de cada clasificador.\n",
    "\n",
    "* Notar que cualquier clasificador puede alcanzar el límite inferior izquierdo (TPR=FPR=0) al setear $\\theta=1$ y por lo tanto clasificar todo como 0. Análogamente, setear $\\theta=0$ hará que todos los resultados sean clasificados como 1, obteniendo (TPR=FPR=1).\n",
    "\n",
    "* Trazar una línea (TPR=FPR) muestra cómo se desempeña el clasificador aleatorio, el cual es el piso mínimo que todo clasificador debe superar.\n",
    "\n",
    "* Para medir la perfomance de los clasificadores de acuerdo a sus curvas ROC, el criterio utilizado es el de calcular el área bajo la curva ROC (número real que va de 0 a 1). Esta, junto con precision, recall, f1 y la tasa de aciertos, es otra métrica muy útil para evaluar el rendimiento de nuestro clasificador."
   ]
  },
  {
   "cell_type": "markdown",
   "metadata": {},
   "source": [
    "Para ver solamente la métrica del AUC de la curva ROC (es decir no mostrar la curva) se puede usar esta librería (sólo para clasificación binaria):\n",
    "\n",
    "http://scikit-learn.org/stable/modules/generated/sklearn.metrics.roc_auc_score.html#sklearn.metrics.roc_auc_score"
   ]
  }
 ],
 "metadata": {
  "anaconda-cloud": {},
  "kernelspec": {
   "display_name": "Python 3",
   "language": "python",
   "name": "python3"
  },
  "language_info": {
   "codemirror_mode": {
    "name": "ipython",
    "version": 3
   },
   "file_extension": ".py",
   "mimetype": "text/x-python",
   "name": "python",
   "nbconvert_exporter": "python",
   "pygments_lexer": "ipython3",
   "version": "3.7.3"
  }
 },
 "nbformat": 4,
 "nbformat_minor": 4
}
