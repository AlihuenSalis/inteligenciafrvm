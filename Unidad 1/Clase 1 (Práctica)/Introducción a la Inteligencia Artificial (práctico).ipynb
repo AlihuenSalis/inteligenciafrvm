{
 "cells": [
  {
   "cell_type": "markdown",
   "metadata": {
    "nbpresent": {
     "id": "fe7b9f51-b940-42d5-a3cf-f5316dd7f277"
    }
   },
   "source": [
    "# Introducción a la Inteligencia Artificial (parte práctica)\n",
    "\n",
    "5to año - Ingeniería en Sistemas de Información\n",
    "\n",
    "Facultad Regional Villa María"
   ]
  },
  {
   "cell_type": "markdown",
   "metadata": {
    "nbpresent": {
     "id": "a3f82490-af4e-4631-8660-4889d76ba798"
    }
   },
   "source": [
    "## Cuestiones administrativas de la parte práctica:\n",
    "\n",
    "### Organización de las clases prácticas\n",
    "\n",
    "* Cada clase práctica tomará como referencia la clase teórica anterior, mostrando un enfoque práctico de la misma (por ejemplo, explicando como se implementa computacionalmente un algoritmo visto en el teórico de la materia).\n",
    "\n",
    "\n",
    "* Al final de cada clase se darán ejercicios para resolver, los cuales constituyen los trabajos prácticos.\n",
    "\n",
    "\n",
    "* Tras la clase práctica se dejará tiempo para avanzar en los ejercicios (importante: traer computadora  con Python desde la próxima clase).\n",
    "\n",
    "\n",
    "* Github de la cátedra: https://github.com/inteligenciafrvm/inteligenciafrvm\n",
    "\n",
    "\n",
    "* Correo de la cátedra: inteligenciafrvm $\\mid$ at $\\mid$ gmail $\\mid$ dot $\\mid$ com"
   ]
  },
  {
   "cell_type": "markdown",
   "metadata": {
    "nbpresent": {
     "id": "66c7370b-a831-409f-a063-6a74984b47c9"
    }
   },
   "source": [
    "### Trabajos prácticos\n",
    "\n",
    "Los trabajos prácticos se encuentran al final de los notebooks de cada clase. Cada práctico requiere implementación de código y/o comentarios sobre algunas preguntas o desarrollos.\n",
    "\n",
    "Cada trabajo práctico se compone de tres tipos de ejercicos: básicos, complementarios y, en algunos casos, extras.\n",
    "\n",
    "* Los ejercicios básicos representan el mínimo que debe comprenderse en cada trabajo práctico para poder considerarse aprobado, y son necesarios para poder regularizar la materia.\n",
    "\n",
    "\n",
    "* Los ejercicios complementarios requieren un muy buen entendimiento del problema que se resuelve, y son necesarios para poder aprobar directamente la parte práctica.\n",
    "\n",
    "\n",
    "* Finalmente, los ejercicios extra son ejercicios pensados para una práctica más amplia del contenido (para aquellos interesados en profundizar) y están más allá de los requisitos de la materia y de tiempo de entrega estipulado para los prácticos. No obstante, si se optara por resolver algunos al entregar los TPs, los mismos van a ser corregidos y su correcta implementación y entendimiento puede dar puntaje extra en los prácticos."
   ]
  },
  {
   "cell_type": "markdown",
   "metadata": {},
   "source": [
    "* Política de entrega tardía: cada alumno cuenta con una cantidad total de 10 días de entrega tardía pasando la fecha estipulada y que no impactan en su aprobación de los prácticos, para utilizarlos a elección durante el cuatrimestre. Ejemplo: Si la fecha límite para la entrega de un trabajo es el Martes a las 23:59 y el trabajo es entregado el Jueves a las 10:00, al alumno se le descontarán 2 días de entrega tardía para usar en los prácticos del resto del cuatrimestre.\n",
    "\n",
    "\n",
    "* Los trabajos prácticos son individuales (excepto se especifique explícitamente en contrario para algún TP): la implementación y comentarios deben ser originales de cada alumno. Se permite utilizar código existente (ej: de Stack Overflow), librerías, consultar papers, libros, blogs, etc. No obstante, **en cada TP deben citarse todas las fuentes** y aclarar qué partes han sido implementadas por otros. **Bajo ninguna circunstancia debe incluirse o basar alguna parte de los TPs en algún código hecho por otro alumno o grupo (si el trabajo se permitía hacer en grupo)**.\n",
    "\n",
    "\n",
    "* Los prácticos son entregados a través del campus virtual en el siguiente link: http://frvm.cvg.utn.edu.ar/course/view.php?id=31."
   ]
  },
  {
   "cell_type": "markdown",
   "metadata": {
    "nbpresent": {
     "id": "b62142b8-a696-4fce-b9a4-a7ce7f69c578"
    }
   },
   "source": [
    "Criterios de calificación de los trabajos prácticos:\n",
    "\n",
    "> 100 - Implementados todos los ejercicios básicos y complementarios del práctico (e incluso más de lo que se pidió, como los ejercicios adicionales), donde la implementación junto a los comentarios/respuestas muestran un excelente entendimiento del problema que se resuelve.\n",
    "\n",
    "> 90 - Muy buena implementación, comentarios y entendimiento del problema.\n",
    "\n",
    "> 80 - Buena implementación, comentarios y entendimiento del problema.\n",
    "\n",
    "> 70 - Implementación razonable, con un adecuado entendimiento del problema. Esta es la nota máxima en el caso en que sólo los ejercicios básicos hayan sido correctamente implementados y comentados, siendo que todos los ejercicios básicos se encuentren bien implementados.\n",
    "\n",
    "> 60 - Implementación razonable, pero existen errores semánticos en el código y/o comentarios que demuestran un limitado entendimiento del problema.\n",
    "\n",
    "> nota $<$ 60 - Los ejercicios básicos no se encuentran implementados de forma que pueda considerarse aceptable (por ejemplo, existen errores de compilación en los mismos o errores conceptuales graves)."
   ]
  },
  {
   "cell_type": "markdown",
   "metadata": {
    "nbpresent": {
     "id": "7b79cb5c-2f0f-4bdb-9e3b-0aa7503c4a8b"
    }
   },
   "source": [
    "### Regularización\n",
    "\n",
    "La materia se regulariza aprobando (con calificación 60-100) en al menos 60% de los prácticos (es decir, aprobando 5 prácticos de los 8)."
   ]
  },
  {
   "cell_type": "markdown",
   "metadata": {
    "nbpresent": {
     "id": "674f01f2-dd7f-40d2-a858-6d3c625b0fdd"
    }
   },
   "source": [
    "### Promoción de la parte práctica\n",
    "\n",
    "#### Promoción\n",
    "\n",
    "* Criterios de Promoción de la parte práctica: promedio de todos los prácticos $\\geq$ 80.\n",
    "\n",
    "#### Examen final práctico\n",
    "\n",
    "* El examen final práctico consiste en una evaluación de implementación y respuestas a preguntas referentes a la misma en computadora, o de comprensión sobre código en lápiz y papel de ejercicios. Los ejercicios serán del estilo de los básicos o adicionales vistos en los prácticos, adaptados para su resolución en 120 minutos."
   ]
  },
  {
   "cell_type": "markdown",
   "metadata": {
    "nbpresent": {
     "id": "842bc299-ebfb-46ab-a112-ceded06ede00"
    }
   },
   "source": [
    "### Objetivos principales del práctico de la materia\n",
    "\n",
    "* Comprender cómo las distintas tecnologías implementan los algoritmos y modelos vistos en el teórico de la materia.\n",
    "\n",
    "\n",
    "* Comprender con la práctica el funcionamiento de las distintas técnicas de IA.\n",
    "\n",
    "\n",
    "* Aprender a desarrollar prototipos de sistemas inteligentes.\n",
    "\n",
    "\n",
    "* Entender, desde un punto de vista práctico, cómo utilizar la IA para darle un agregado de valor a los sistemas de información.\n"
   ]
  },
  {
   "cell_type": "markdown",
   "metadata": {
    "nbpresent": {
     "id": "24c0e670-b902-4246-857d-648ca2c45101"
    }
   },
   "source": [
    "* Dada la cantidad de técnicas de IA disponibles, es imposible poder cubrirlas a fondo a todas en un curso.\n",
    "\n",
    "\n",
    "* Es por eso que la visión de esta materia pretende mostrar una **visión general**: se centra en mostrar cómo las distintas técnicas resuelven distintos problemas.\n",
    "\n",
    "\n",
    "* Si bien la IA es un campo muy cambiante, ciertas sub-áreas se han mantenido con bases similares por muchos años. Es por eso que al comprender los fundamentos básicos es posible luego aprender técnicas nuevas conforme vayan necesitando aplicar en su vida profesional.\n",
    "\n"
   ]
  },
  {
   "cell_type": "markdown",
   "metadata": {
    "nbpresent": {
     "id": "18efa030-378d-4e7b-8f6c-99e9e41931a7"
    }
   },
   "source": [
    "* Las clases y trabajos prácticos van a estar enfocados en Python y es muy recomendable que los ejercicios sean realizados en dicho lenguaje (varios de los ejercicios involucran ampliar código existente).\n",
    "\n",
    "\n",
    "* Se permite utilizar cualquier lenguaje a elección (en tal caso, tener en cuenta que muchos lenguajes no tienen un ecosistema amplio de librerías de IA. Algunas alternativas: R u Octave).\n",
    "\n",
    "***"
   ]
  },
  {
   "cell_type": "markdown",
   "metadata": {
    "nbpresent": {
     "id": "f081757d-f1e1-42ea-9ddc-66d556aa0fbf"
    }
   },
   "source": [
    "## Introducción a la Inteligencia Artificial (enfoque práctico)\n",
    "\n",
    "### Repaso: definición / perspectiva de la IA (Russel y Norvig, 2010)\n",
    "\n",
    "* Pensar (\"caja blanca\")\n",
    "    * Como humanos: Enfoque cognitivo, neurocientífico, psicológico.\n",
    "    * Racionalmente: Razonamiento lógico, deducciones a través de su conocimiento. \"Strong AI\" (computadora con una mente, capaz de entender, imposible que exista según [Searle](https://es.wikipedia.org/wiki/Habitaci%C3%B3n_china)).\n",
    "\n",
    "\n",
    "* Actuar (\"caja negra\")\n",
    "    * Como humanos: Test de Turing.\n",
    "    * Racionalmente: Agente racional, actúa buscando el mejor resultado. \"Weak AI\" (computadora incapaz de entender según [Searle](https://es.wikipedia.org/wiki/Habitaci%C3%B3n_china), \"simula que entiende\")."
   ]
  },
  {
   "cell_type": "markdown",
   "metadata": {
    "nbpresent": {
     "id": "c5062617-661c-451c-b1cd-b8c4285c83d4"
    }
   },
   "source": [
    "* Estas perspectivas no son simplemente formas de definir la IA, sino que marcan una separación entre distintas posturas en las comunidades científicas."
   ]
  },
  {
   "cell_type": "markdown",
   "metadata": {
    "nbpresent": {
     "id": "7f73eb83-2fc6-492c-aa58-d91405439408"
    }
   },
   "source": [
    "### Repaso: inteligencia artificial general (AGI) (Russel y Norvig, 2010)\n",
    "\n",
    "* IA universal capaz de aprender y actuar en cualquier ambiente.\n",
    "\n",
    "\n",
    "* Llegar a la AGI es el **Pináculo de la IA**."
   ]
  },
  {
   "cell_type": "markdown",
   "metadata": {
    "nbpresent": {
     "id": "997f703b-7238-41d6-9282-f5ce4afe8757"
    }
   },
   "source": [
    "### Estado actual de la IA:\n",
    "\n",
    "* ¿\"Verano de la IA\"? grandes recursos computacionales + grandes datasets + grandes algoritmos.\n",
    "\n",
    "\n",
    "* Grandes avances en procesamiento de imágenes, audio, video y texto.\n",
    "\n",
    "\n",
    "* Aplicaciones impresionantes en robótica y juegos.\n",
    "\n",
    "\n",
    "* Integración de IA en industrias y áreas de investigación no necesariamente relacionadas con computación.\n",
    "\n",
    "\n",
    "* Enfoque *bottom-up* (inductivo, a partir de los datos \"crudos\") de la IA actualmente se impone frente al enfoque *top-down* (deductivo, a partir de modelos cognitivos o del razonamiento lógico).\n",
    "\n",
    "\n",
    "* Dominio del machine learning (ML), particularmente del **deep learning** (DL)."
   ]
  },
  {
   "cell_type": "markdown",
   "metadata": {
    "nbpresent": {
     "id": "1cb75017-0501-4c9e-acc6-10e217543722"
    }
   },
   "source": [
    "Ejemplo 1: Reconocimiento de imágenes\n",
    "\n",
    "\n",
    "![Reconocimiento de imágenes](images/imagenet.png)\n",
    "(crédito: https://www.cs.toronto.edu/~fritz/absps/imagenet.pdf)"
   ]
  },
  {
   "cell_type": "markdown",
   "metadata": {
    "nbpresent": {
     "id": "07a632a2-8369-4220-a4a0-2e40660d1f38"
    }
   },
   "source": [
    "Ejemplo 2: Decodificación de videos\n",
    "\n",
    "https://youtu.be/nsjDnYxJ0bo\n",
    "\n",
    "https://www.youtube.com/watch?v=Qh5_uMGXl1g\n",
    "\n",
    "(crédito: http://www.purdue.edu/newsroom/releases/2017/Q4/researchers-demonstrate-mind-reading-brain-decoding-tech-----.html)"
   ]
  },
  {
   "cell_type": "markdown",
   "metadata": {
    "nbpresent": {
     "id": "b757a22a-0f98-4827-a1d9-26189282faa3"
    }
   },
   "source": [
    "Ejemplo 3: Generación de imágenes \"reales\"!!!\n",
    "\n",
    "![Generación de imágenes \"reales\"](images/gan_examples.png)\n",
    "\n",
    "(crédito:  Nguyen et al. 2016 - Plug & play generative networks:  Conditional iterative generation of images\n",
    "in latent space - https://arxiv.org/abs/1612.00005)"
   ]
  },
  {
   "cell_type": "markdown",
   "metadata": {
    "nbpresent": {
     "id": "9c258129-0f4e-4a1a-bc2c-c073219fa511"
    }
   },
   "source": [
    "Ejemplo 4: Transferencia de imágenes de un contexto a otro\n",
    "\n",
    "![Transferencia de imágenes de un dominio a otro](images/choi_2017.png)\n",
    "\n",
    "(crédito: Choi et. al. 2017 - StarGAN: Unified Generative Adversarial Networks for Multi-Domain Image-to-Image Translation - https://arxiv.org/abs/1711.09020)"
   ]
  },
  {
   "cell_type": "markdown",
   "metadata": {
    "nbpresent": {
     "id": "ea5dcbd9-46e8-419f-9e03-0e26da311bd0"
    }
   },
   "source": [
    "Ejemplo 5: Robocup\n",
    "\n",
    "![Robocup](images/robocup.jpg)\n",
    "\n",
    "(crédito: https://cosmosmagazine.com/technology/robocup-2017-wrap-up-highs-lows-plenty-of-falls)"
   ]
  },
  {
   "cell_type": "markdown",
   "metadata": {
    "nbpresent": {
     "id": "0a317d46-2797-4d57-ac33-64db831ae968"
    }
   },
   "source": [
    "Ejemplo 6: Self-driving cars\n",
    "\n",
    "![Self-driving cars](images/tesla-autopilot.jpg)\n",
    "\n",
    "Fuente: https://www.greencarreports.com/news/1112829_tesla-is-designing-its-own-computer-chip-for-self-driving-cars-report#"
   ]
  },
  {
   "cell_type": "markdown",
   "metadata": {
    "nbpresent": {
     "id": "2a69d0f3-1ee6-4a94-928c-9280bb05461f"
    }
   },
   "source": [
    "Ejemplo 7: Reconocimiento de lenguaje natural, juegos\n",
    "\n",
    "![Watson](images/watson.jpg)\n",
    "\n",
    "Fuente: https://www.infoworld.com/article/2993255/analytics/ibms-watson-won-jeopardy-now-it-needs-to-win-the-world.html"
   ]
  },
  {
   "cell_type": "markdown",
   "metadata": {
    "nbpresent": {
     "id": "8862d5f5-edc8-4c72-be0f-53a0cce6d8a0"
    }
   },
   "source": [
    "Ejemplo 8: Recomendaciones personalizadas y reconocimiento de patrones ocultos\n",
    "\n",
    "![Humor recommender](images/humor_recommender.jpg)\n",
    "\n",
    "Fuente: https://insidebigdata.com/2014/06/12/big-data-humor-poor-mans-recommender-system/"
   ]
  },
  {
   "cell_type": "markdown",
   "metadata": {
    "nbpresent": {
     "id": "6703d605-ca18-47e0-bcde-054035094c4c"
    }
   },
   "source": [
    "### Estado actual de la IA: algunos desafíos (funcionales)\n",
    "\n",
    "El enfoque funcional adoptado para llevar a cabo inducciones presenta varios desafíos\n",
    "\n",
    "* Tendencia a usar modelos de caja negra, poco interpretables.\n",
    "\n",
    "\n",
    "* Sensibilidad a los datos con los que se entrenó.\n",
    "\n",
    "\n",
    "* Tuneo de híper-parámetros.\n",
    "\n",
    "\n",
    "* ¿Cómo integrar conocimiento de dominio?"
   ]
  },
  {
   "cell_type": "markdown",
   "metadata": {
    "nbpresent": {
     "id": "fb30e91b-5d99-48de-9aec-2fc82379b88d"
    }
   },
   "source": [
    "Ejemplo 1:\n",
    "\n",
    "http://www.labsix.org/media/2017/10/31/video.mp4\n",
    "\n",
    "(crédito: http://www.labsix.org/physical-objects-that-fool-neural-nets/)"
   ]
  },
  {
   "cell_type": "markdown",
   "metadata": {
    "nbpresent": {
     "id": "cb0c9e76-dd17-4349-959d-e323ecbfb806"
    }
   },
   "source": [
    "Ejemplo 2 \n",
    "\n",
    "![Obama](images/obama_funny.jpg)\n",
    "\n",
    "(crédito: https://karpathy.github.io/2012/10/22/state-of-computer-vision/)"
   ]
  },
  {
   "cell_type": "markdown",
   "metadata": {
    "nbpresent": {
     "id": "e7a3ff64-a377-4bea-9092-6e5a079baf19"
    }
   },
   "source": [
    "### Estado actual de la IA: algunos desafíos (ingenieriles)\n",
    "\n",
    "1. Se requiere **mucho esfuerzo para preparar los datos** para que puedan servir como entradas en modelos de IA.\n",
    "2. **Dificultad de escalar algoritmos de IA** a aplicaciones de mayor envergadura para que se adapten al hardware eficientemente. Se requiere mucho tuneo a mano (a veces incluso de librerías a bajo nivel) además de prueba y error. De: https://research.fb.com/announcing-tensor-comprehensions/:\n",
    "\n",
    "> The typical workflow for creating new high-performance machine learning (ML) layers can span days or weeks of engineering work through a two phase process:\n",
    "\n",
    "> A researcher writes a new layer at a numpy-level abstraction, chaining existing operations in a deep learning library like PyTorch, and tests it in small-scale experiments. The performance of the code implementing the validated idea needs to be accelerated by an order of magnitude to run large-scale experiments.\n",
    "\n",
    "> An engineer takes the layer and writes efficient code for GPUs and CPUs:\n",
    "\n",
    ">a. The engineer needs to be a High-Performance Computing expert of which only a limited supply of talent is available\n",
    "\n",
    ">b. The engineer needs to acquire context, map out a strategy, write and debug code\n",
    "\n",
    ">c. Moving the code to the backend involves mundane tasks, such as verbose argument checking and adding boilerplate integration code"
   ]
  },
  {
   "cell_type": "markdown",
   "metadata": {
    "nbpresent": {
     "id": "60c83a69-7ea1-447f-acb4-694c42005f10"
    }
   },
   "source": [
    "### Estado actual de la IA: algunos desafíos (éticos)\n",
    "\n",
    "#### Varias posturas populares con respecto al estado actual y futuro de la IA\n",
    "\n",
    "\n",
    "##### Actualidad:\n",
    "\n",
    "* IA promisoria como herramienta fundamental en nuestras vidas\n",
    "    * La posibilidad de replicar capacidades humanas abre las puertas a posibilidades sin precedentes.\n",
    "    * Gran capacidad de resolver problemas mediante automatización.\n",
    "    * Capacidad de obtener información muy valiosa en los enormes volúmenes de datos que generamos.\n",
    "    * Capacidad de detectar tempranamente problemas como los de salud y asociaciones/patrones ocultos.\n",
    "\n",
    "vs.\n",
    "\n",
    "* Miedo de las capacidades de la IA\n",
    "    * Capacidad de quitarnos trabajos y de empeorar la distribución global de la riqueza.\n",
    "    * Modelos replican sesgos en la sociedad (racismo, xenofobia, discriminación, etc.) y permite manipulación de los mismos.\n",
    "    * La falta de comprensión sobre los modelos con impacto real en nuestras vidas puede generar consecuencias que llegan hasta catástrofes naturales.\n",
    "    * El usuario no tiene un acceso transparente de cómo y para qué se usan sus datos (en ocasiones directamente no puede ver ni qué tipo de datos recolectan de él) que sirven para entrenar modelos, ni qué información se infiere en base a los mismos.\n",
    "    "
   ]
  },
  {
   "cell_type": "markdown",
   "metadata": {
    "nbpresent": {
     "id": "0e18ec18-82fb-4041-bc8f-5a8b3e1b0623"
    }
   },
   "source": [
    "> But as Cathy O’Neil reveals in this urgent and necessary book, the opposite is true. The models being used today are **opaque**, **unregulated**, and **uncontestable**, even when they’re wrong. \n",
    "Most troubling, they reinforce discrimination: If a poor student can’t get a loan because a lending model deems him too risky (by virtue of his zip code), he’s then cut off from the kind of education that could pull him out of poverty, and a vicious spiral ensues. Models are propping up the lucky and punishing the downtrodden, creating a “toxic cocktail for democracy.” Welcome to the dark side of Big Data.\n",
    "Tracing the arc of a person’s life, O’Neil exposes the black box models that shape our future, both as individuals and as a society. These “weapons of math destruction” score teachers and students, sort résumés, grant (or deny) loans, evaluate workers, target voters, set parole, and monitor our health.\n",
    "\n",
    "Algunas lecturas:\n",
    "* [Artículo: Do algorithms reveal sexual orientation or just expose our stereotypes?](https://medium.com/@blaisea/do-algorithms-reveal-sexual-orientation-or-just-expose-our-stereotypes-d998fafdf477)\n",
    "* [Artículo: Artificial Intelligence’s White Guy Problem](https://www.nytimes.com/2016/06/26/opinion/sunday/artificial-intelligences-white-guy-problem.html?_r=1)\n",
    "* [Artículo: Data science instrumenting social media for advertising is responsible for todays politics](http://gael-varoquaux.info/programming/data-science-instrumenting-social-media-for-advertising-is-responsible-for-todays-politics.html)\n",
    "* [How Cambridge Analytica turned Facebook ‘likes’ into a lucrative political tool](https://www.theguardian.com/technology/2018/mar/17/facebook-cambridge-analytica-kogan-data-algorithm?CMP=share_btn_tw) [(artículo principal del Data Breach de Facebook)](https://www.theguardian.com/news/2018/mar/17/cambridge-analytica-facebook-influence-us-election)"
   ]
  },
  {
   "cell_type": "markdown",
   "metadata": {
    "nbpresent": {
     "id": "8d170e9c-e648-4f4a-bc12-b92adc6cc432"
    }
   },
   "source": [
    "##### A futuro:\n",
    "    \n",
    "* Estamos a muchos, muchos años de resolver la Inteligencia Artificial General (AGI). Ejemplo: https://www.nytimes.com/2017/07/29/opinion/sunday/artificial-intelligence-is-stuck-heres-how-to-move-it-forward.html\n"
   ]
  },
  {
   "cell_type": "markdown",
   "metadata": {
    "nbpresent": {
     "id": "3306e62a-1ccc-432c-b36a-cf8724c13ed3"
    }
   },
   "source": [
    "vs.\n",
    "\n",
    "* IA cada vez más crucial en nuestras vidas, necesidad de regularla y tomar cartas en el asunto. Fuente: [Erdélyi y Goldsmith - Regulating Artificial Intelligence: Proposal for a Global Solution. AAAI 2018](http://www.aies-conference.com/wp-content/papers/main/AIES_2018_paper_13.pdf)\n",
    "\n",
    "\n",
    "* \"Carrera en la IA\" (estilo \"carrera espacial\") para el avance estratégico: retórica y riesgos. Fuente: [Cave y Heigeartaigh - An AI Race for Strategic Advantage: Rhetoric and Risks. AAAI 2018](http://www.aies-conference.com/wp-content/papers/main/AIES_2018_paper_163.pdf)\n",
    "    * Riesgos de que solamente exista una retórica: obstaculiza el debate y puede incitar a una carrera.\n",
    "    * Riesgos de que existan tanto una retórica como una carrera: riesgos de no tomar medidas de seguridad adecuadas y riesgos de un conflicto entre grupos o hasta países.\n",
    "    * Riesgos de que exista una carrera, sin retórica: concentración de poder y posibilidad de abusos y conflictos.\n",
    "    \n",
    " ¿Qué hacer entonces? (según los autores)\n",
    " * Como sociedad: \"IA para todos\" - democratizar el poder de la IA y sus beneficios. Así, no importará quién \"gana\" la carrera.\n",
    " * Como profesionales: distribuir el conocimiento de la IA; promover narrativas positivas en la sociedad y en los políticos."
   ]
  },
  {
   "cell_type": "markdown",
   "metadata": {
    "nbpresent": {
     "id": "d6d040c1-1720-496a-90e1-386f2b22d444"
    }
   },
   "source": [
    "vs.\n",
    "\n",
    "* Se viene Skynet? (sensacionalismo) Ejemplo: https://www.entrepreneur.com/article/298005"
   ]
  },
  {
   "cell_type": "markdown",
   "metadata": {
    "nbpresent": {
     "id": "7021f74b-ee35-4c55-8e60-af2074ebbccc"
    }
   },
   "source": [
    "Adicionalmente, noticia lamentable de esta semana...\n",
    "\n",
    "[Self-driving Uber kills Arizona woman in first fatal crash involving pedestrian](https://www.theguardian.com/technology/2018/mar/19/uber-self-driving-car-kills-woman-arizona-tempe)"
   ]
  },
  {
   "cell_type": "markdown",
   "metadata": {
    "nbpresent": {
     "id": "6ed2e134-3913-4bc3-8847-34e4d7816678"
    }
   },
   "source": [
    "***\n"
   ]
  },
  {
   "cell_type": "markdown",
   "metadata": {
    "nbpresent": {
     "id": "9db08cbc-85d3-49ca-bf04-8ea459ebd9b2"
    }
   },
   "source": [
    "### Trabajo práctico 1\n",
    "\n",
    "Considerando la definición de inteligencia artificial, responder lo planteado debajo.\n",
    "\n",
    "**Fecha de entrega: Martes 03/04/2018 a las 23:55**. Modalidad de entrega de este práctico: documento de texto o pdf en el campus virtual, en el ítem Trabajo Práctico 1. Tener en cuenta que el campus virtual permite una única entrega por alumno para cada tarea, por lo que se sugiere una cuidadosa revisión del archivo (o los archivos) a enviar previo a su subida al sistema.\n",
    "\n",
    "\n",
    "#### Ejercicios básicos\n",
    "\n",
    "1\\. Considerar tres IAs en la ciencia ficción o cultura popular (ejemplo: Terminator). Para cada una de ellas, responder:\n",
    "\n",
    "1. ¿Con qué capacidades cuenta?\n",
    "2. ¿Cuáles de dichas capacidades todavía no está disponible en la vida real?\n",
    "3. ¿Es esa IA consciente de sí misma?\n",
    "4. ¿Cuál(es) de las definiciones de IA satisface la misma? Justificar brevemente por qué satisface cada una de las definiciones indicadas.\n",
    "5. ¿Puede considerarse como una Inteligencia Artificial General (AGI)? Justifique brevemente."
   ]
  },
  {
   "cell_type": "markdown",
   "metadata": {
    "nbpresent": {
     "id": "da05b2c5-4e2d-4411-8548-84cd3ac6e480"
    }
   },
   "source": [
    "#### Ejercicios complementarios\n",
    "\n",
    "2\\. Buscar sobre las siguientes IAs que hicieron \"hitos\" en los últimos años:\n",
    "\n",
    "* IBM Watson, IA ganadora en Jeopardy ([artículo de ejemplo](https://www.elperiodico.com/es/tecnologia/20110217/un-ordenador-de-ibm-gana-el-concurso-de-preguntas-y-respuestas-jeopardy-825011)).\n",
    "* AlphaGo, IA ganadora en Go frente a campeón surcoreano Lee Sedong ([artículo de ejemplo](https://peru.com/epic/tecnologia/alphago-inteligencia-artificial-google-vence-campeon-go-noticia-444660)).\n",
    "* Algún otro hito de la IA, por ejemplo autos autónomos.\n",
    "\n",
    "Responder, para cada una de las IA:\n",
    "\n",
    "1. ¿Cuál es su principal punto fuerte con respecto a las capacidades humanas?\n",
    "2. ¿Qué definiciones de IA satisface o intenta satisfacer? Justificar brevemente.\n",
    "3. Según tu criterio, ¿qué necesitaría para satisfacer aquellas definiciones de IA que no está cumpliendo?"
   ]
  },
  {
   "cell_type": "markdown",
   "metadata": {
    "nbpresent": {
     "id": "abfc5fde-b2dd-48de-927a-4ee8676b1064"
    }
   },
   "source": [
    "#### Ejercicios extra\n",
    "\n",
    "3\\. Buscar un artículo científico en el campo de inteligencia artificial. Una alternativa es consultar fuentes nacionales como por ejemplo los [anales del Simposio Argentino de Inteligencia Artificial (ASAI)](http://www.clei2017-46jaiio.sadio.org.ar/node/83) en las Jornadas Argentinas de Informática (JAIIO), o fuentes internacionales como por ejemplo los [anales de la Joint Conference on Artificial Intelligence (IJCAI)](http://www.ijcai.org/proceedings/2017/).\n",
    "\n",
    "Responder: \n",
    "\n",
    "1. ¿Qué problema apunta a resolver el artículo?\n",
    "2. Desde el punto de vista de las definiciones de inteligencia artificial, ¿cuál está satisfaciendo o intentando satisfacer? Justificar brevemente.\n",
    "3. ¿Qué impresiones te deja el artículo sobre la investigación actual en el área de la inteligencia artificial?"
   ]
  },
  {
   "cell_type": "markdown",
   "metadata": {
    "nbpresent": {
     "id": "71cc3084-c3ba-4811-9ebc-1c8788fda4fc"
    }
   },
   "source": [
    "#### Adicionalmente...\n",
    "\n",
    "Para la próxima clase, traer computadora con Anaconda (versión 3, preferentemente) y algún IDE de Python (ej: [Pycharm](https://www.jetbrains.com/pycharm/)) instalado. Para ello:\n",
    "\n",
    "- Descargar la plataforma para DataScience \"Anaconda\" desde\n",
    "\n",
    "\thttps://docs.anaconda.com/anaconda/install/\n",
    "\n",
    "\tSe deberá seleccionar la versión del intérprete Python (3.6 recomendada).\n",
    "\n",
    "\n",
    "- Seguir las intrucciones de instalación de Anaconda según el sistema operativo."
   ]
  },
  {
   "cell_type": "markdown",
   "metadata": {
    "nbpresent": {
     "id": "2901b9f1-30f5-4e05-9c84-e8fdd1299b91"
    }
   },
   "source": [
    "#### Algunos links por si les interesa conocer más allá del alcance de la materia\n",
    "\n",
    "* [Reddit de Inteligencia Artificial](https://www.reddit.com/r/artificial/).\n",
    "\n",
    "* [Reddit de Machine Learning](https://www.reddit.com/r/MachineLearning/).\n",
    "\n",
    "* Buena lectura: [AMA en reddit de pioneros de IA](https://www.reddit.com/r/science/comments/7yegux/aaas_ama_hi_were_researchers_from_google/).\n",
    "\n",
    "* [Curso introductorio a Machine Learning de Andrew Ng](https://www.coursera.org/learn/machine-learning).\n",
    "\n",
    "* [Curso de Redes Neuronales Convolucionales para Reconocimiento Visual - Universidad de Stanford, 2016](https://www.youtube.com/watch?v=NfnWJUyUJYU&list=PLkt2uSq6rBVctENoVBg1TpCC7OQi31AlC).\n",
    "\n",
    "* [Curso de introducción a ML dictado por Google](https://developers.google.com/machine-learning/crash-course/)."
   ]
  }
 ],
 "metadata": {
  "anaconda-cloud": {},
  "kernelspec": {
   "display_name": "Python [default]",
   "language": "python",
   "name": "python3"
  },
  "language_info": {
   "codemirror_mode": {
    "name": "ipython",
    "version": 3
   },
   "file_extension": ".py",
   "mimetype": "text/x-python",
   "name": "python",
   "nbconvert_exporter": "python",
   "pygments_lexer": "ipython3",
   "version": "3.6.1"
  },
  "nbpresent": {
   "slides": {
    "1862b493-333b-46dc-ba4f-f2abf45eb6c3": {
     "id": "1862b493-333b-46dc-ba4f-f2abf45eb6c3",
     "prev": "9b1de14e-174a-4612-9b97-d19c06f06207",
     "regions": {
      "3daa2d9d-503a-4ca7-b7cd-0ab084dd53be": {
       "attrs": {
        "height": 0.8,
        "width": 0.8,
        "x": 0.1,
        "y": 0.1
       },
       "content": {
        "cell": "997f703b-7238-41d6-9282-f5ce4afe8757",
        "part": "whole"
       },
       "id": "3daa2d9d-503a-4ca7-b7cd-0ab084dd53be"
      }
     }
    },
    "2ba44c0d-d20f-435e-af8e-72bc2c6968a0": {
     "id": "2ba44c0d-d20f-435e-af8e-72bc2c6968a0",
     "prev": "79192d31-c0ef-467f-85c4-7db047724681",
     "regions": {
      "d6dd9c7f-d65c-46ae-a3a2-0e8c856bf25e": {
       "attrs": {
        "height": 0.8,
        "width": 0.8,
        "x": 0.1,
        "y": 0.1
       },
       "content": {
        "cell": "cb0c9e76-dd17-4349-959d-e323ecbfb806",
        "part": "whole"
       },
       "id": "d6dd9c7f-d65c-46ae-a3a2-0e8c856bf25e"
      }
     }
    },
    "34f2ddbe-b820-4d64-bc76-52be28277c0e": {
     "id": "34f2ddbe-b820-4d64-bc76-52be28277c0e",
     "prev": "b0f7e689-cb00-43a5-b3e4-4ebe578a3adb",
     "regions": {
      "1510a492-f69c-4a45-ad93-3598f14f7cd1": {
       "attrs": {
        "height": 0.8,
        "width": 0.8,
        "x": 0.1,
        "y": 0.1
       },
       "content": {
        "cell": "2a69d0f3-1ee6-4a94-928c-9280bb05461f",
        "part": "whole"
       },
       "id": "1510a492-f69c-4a45-ad93-3598f14f7cd1"
      }
     }
    },
    "45396688-aaaf-47b2-8621-3c1eb42cf0d1": {
     "id": "45396688-aaaf-47b2-8621-3c1eb42cf0d1",
     "prev": "51d1f068-4c72-48cf-80b6-07d9ee23665c",
     "regions": {
      "60477155-4a47-470b-a679-cf4dcfd90343": {
       "attrs": {
        "height": 0.8,
        "width": 0.8,
        "x": 0.1,
        "y": 0.1
       },
       "content": {
        "cell": "71cc3084-c3ba-4811-9ebc-1c8788fda4fc",
        "part": "whole"
       },
       "id": "60477155-4a47-470b-a679-cf4dcfd90343"
      }
     }
    },
    "4d21135d-74a0-44d2-8366-d9d0d21938a0": {
     "id": "4d21135d-74a0-44d2-8366-d9d0d21938a0",
     "prev": "56a69b9b-118c-40cf-8127-147b04ae80ae",
     "regions": {
      "f93c3a10-e260-4d2e-99a9-6177bac3fa44": {
       "attrs": {
        "height": 0.8,
        "width": 0.8,
        "x": 0.1,
        "y": 0.1
       },
       "content": {
        "cell": "07a632a2-8369-4220-a4a0-2e40660d1f38",
        "part": "whole"
       },
       "id": "f93c3a10-e260-4d2e-99a9-6177bac3fa44"
      }
     }
    },
    "4f73822b-332f-4221-ac4f-836dd9715c4a": {
     "id": "4f73822b-332f-4221-ac4f-836dd9715c4a",
     "prev": "2ba44c0d-d20f-435e-af8e-72bc2c6968a0",
     "regions": {
      "35f2bcd3-b199-4812-ba04-f208e147db4b": {
       "attrs": {
        "height": 0.8,
        "width": 0.8,
        "x": 0.1,
        "y": 0.1
       },
       "content": {
        "cell": "e7a3ff64-a377-4bea-9092-6e5a079baf19",
        "part": "whole"
       },
       "id": "35f2bcd3-b199-4812-ba04-f208e147db4b"
      }
     }
    },
    "51d1f068-4c72-48cf-80b6-07d9ee23665c": {
     "id": "51d1f068-4c72-48cf-80b6-07d9ee23665c",
     "prev": "b42b1cb7-9b76-4a7f-bf7a-06855424c107",
     "regions": {
      "47ba647a-b658-4932-be89-ce59b7572665": {
       "attrs": {
        "height": 0.8,
        "width": 0.8,
        "x": 0.1,
        "y": 0.1
       },
       "content": {
        "cell": "abfc5fde-b2dd-48de-927a-4ee8676b1064",
        "part": "whole"
       },
       "id": "47ba647a-b658-4932-be89-ce59b7572665"
      }
     }
    },
    "56a69b9b-118c-40cf-8127-147b04ae80ae": {
     "id": "56a69b9b-118c-40cf-8127-147b04ae80ae",
     "prev": "1862b493-333b-46dc-ba4f-f2abf45eb6c3",
     "regions": {
      "15991ae1-21ac-4ed8-afe0-c9cb41e54fb3": {
       "attrs": {
        "height": 0.8,
        "width": 0.8,
        "x": 0.1,
        "y": 0.1
       },
       "content": {
        "cell": "1cb75017-0501-4c9e-acc6-10e217543722",
        "part": "whole"
       },
       "id": "15991ae1-21ac-4ed8-afe0-c9cb41e54fb3"
      }
     }
    },
    "58907a7b-9e29-497d-b6ca-d29796e0dca0": {
     "id": "58907a7b-9e29-497d-b6ca-d29796e0dca0",
     "prev": "929054a4-369a-4ebb-8787-6f1068a20564",
     "regions": {
      "d70a8fee-91cf-4f00-87c0-8d0aa83924e9": {
       "attrs": {
        "height": 0.8,
        "width": 0.8,
        "x": 0.1,
        "y": 0.1
       },
       "content": {
        "cell": "9c258129-0f4e-4a1a-bc2c-c073219fa511",
        "part": "whole"
       },
       "id": "d70a8fee-91cf-4f00-87c0-8d0aa83924e9"
      }
     }
    },
    "63b7738b-9aa9-49dd-9ece-967e330e5521": {
     "id": "63b7738b-9aa9-49dd-9ece-967e330e5521",
     "prev": "f4d71504-e495-46db-9a24-a04970ca8abf",
     "regions": {
      "a448ac09-736b-4e64-9d47-22a662d133c1": {
       "attrs": {
        "height": 0.8,
        "width": 0.8,
        "x": 0.1,
        "y": 0.1
       },
       "content": {
        "cell": "a3f82490-af4e-4631-8660-4889d76ba798",
        "part": "whole"
       },
       "id": "a448ac09-736b-4e64-9d47-22a662d133c1"
      }
     }
    },
    "690201bf-e60b-4761-bf5f-150e736f64e6": {
     "id": "690201bf-e60b-4761-bf5f-150e736f64e6",
     "prev": "853f7226-5823-4d24-a8b3-dc4fed0607f6",
     "regions": {
      "c5eadee6-c94a-478f-934f-21c9a2e099c9": {
       "attrs": {
        "height": 0.8,
        "width": 0.8,
        "x": 0.1,
        "y": 0.1
       },
       "content": {
        "cell": "b62142b8-a696-4fce-b9a4-a7ce7f69c578",
        "part": "whole"
       },
       "id": "c5eadee6-c94a-478f-934f-21c9a2e099c9"
      }
     }
    },
    "72c9c9c6-a3ed-4a04-880e-763c527d5ca1": {
     "id": "72c9c9c6-a3ed-4a04-880e-763c527d5ca1",
     "prev": "c7e392c1-716c-4c1a-a2a7-e99588ad3036",
     "regions": {
      "4dbef410-0f6f-4c37-b5c5-fa23273eb357": {
       "attrs": {
        "height": 0.8,
        "width": 0.8,
        "x": 0.1,
        "y": 0.1
       },
       "content": {
        "cell": "7021f74b-ee35-4c55-8e60-af2074ebbccc",
        "part": "whole"
       },
       "id": "4dbef410-0f6f-4c37-b5c5-fa23273eb357"
      }
     }
    },
    "79192d31-c0ef-467f-85c4-7db047724681": {
     "id": "79192d31-c0ef-467f-85c4-7db047724681",
     "prev": "ee572248-e22a-4ac2-9cee-9c6e0f0da450",
     "regions": {
      "80f935a3-2b12-4aa1-b14d-9a02c6df74e1": {
       "attrs": {
        "height": 0.8,
        "width": 0.8,
        "x": 0.1,
        "y": 0.1
       },
       "content": {
        "cell": "fb30e91b-5d99-48de-9aec-2fc82379b88d",
        "part": "whole"
       },
       "id": "80f935a3-2b12-4aa1-b14d-9a02c6df74e1"
      }
     }
    },
    "7d7ebc95-7ea8-472d-b806-6089d011311a": {
     "id": "7d7ebc95-7ea8-472d-b806-6089d011311a",
     "prev": "a9460a7e-61d7-4f6c-9f76-12e5548b85c9",
     "regions": {
      "c020b0f8-da1b-43ec-a785-1f5bf50d1bf4": {
       "attrs": {
        "height": 0.8,
        "width": 0.8,
        "x": 0.1,
        "y": 0.1
       },
       "content": {
        "cell": "8d170e9c-e648-4f4a-bc12-b92adc6cc432",
        "part": "whole"
       },
       "id": "c020b0f8-da1b-43ec-a785-1f5bf50d1bf4"
      }
     }
    },
    "853f7226-5823-4d24-a8b3-dc4fed0607f6": {
     "id": "853f7226-5823-4d24-a8b3-dc4fed0607f6",
     "prev": "63b7738b-9aa9-49dd-9ece-967e330e5521",
     "regions": {
      "47403a6b-abb2-4e6c-8877-f50747bd640a": {
       "attrs": {
        "height": 0.8,
        "width": 0.8,
        "x": 0.1,
        "y": 0.1
       },
       "content": {
        "cell": "66c7370b-a831-409f-a063-6a74984b47c9",
        "part": "whole"
       },
       "id": "47403a6b-abb2-4e6c-8877-f50747bd640a"
      }
     }
    },
    "8d62d5bf-c71b-4496-b1d6-f822a61e3315": {
     "id": "8d62d5bf-c71b-4496-b1d6-f822a61e3315",
     "prev": "4d21135d-74a0-44d2-8366-d9d0d21938a0",
     "regions": {
      "eba8982b-d2c1-475b-bca2-c015a4308eef": {
       "attrs": {
        "height": 0.8,
        "width": 0.8,
        "x": 0.1,
        "y": 0.1
       },
       "content": {
        "cell": "1cd95ae8-3edf-43d1-b25a-04954a5c6709",
        "part": "whole"
       },
       "id": "eba8982b-d2c1-475b-bca2-c015a4308eef"
      }
     }
    },
    "90b15b3e-b3bb-4681-a1fe-989f1076edcb": {
     "id": "90b15b3e-b3bb-4681-a1fe-989f1076edcb",
     "prev": "58907a7b-9e29-497d-b6ca-d29796e0dca0",
     "regions": {
      "d5839974-3db4-48b8-840f-d4dd2c07d846": {
       "attrs": {
        "height": 0.8,
        "width": 0.8,
        "x": 0.1,
        "y": 0.1
       },
       "content": {
        "cell": "ea5dcbd9-46e8-419f-9e03-0e26da311bd0",
        "part": "whole"
       },
       "id": "d5839974-3db4-48b8-840f-d4dd2c07d846"
      }
     }
    },
    "925a3786-84a7-48de-bb57-9edd4d271d83": {
     "id": "925a3786-84a7-48de-bb57-9edd4d271d83",
     "prev": "b6d88434-8f6a-4a8b-bb96-2762531bc20d",
     "regions": {
      "51928728-1750-4be7-b433-0424b205d249": {
       "attrs": {
        "height": 0.8,
        "width": 0.8,
        "x": 0.1,
        "y": 0.1
       },
       "content": {
        "cell": "24c0e670-b902-4246-857d-648ca2c45101",
        "part": "whole"
       },
       "id": "51928728-1750-4be7-b433-0424b205d249"
      }
     }
    },
    "929054a4-369a-4ebb-8787-6f1068a20564": {
     "id": "929054a4-369a-4ebb-8787-6f1068a20564",
     "prev": "8d62d5bf-c71b-4496-b1d6-f822a61e3315",
     "regions": {
      "75f99af0-4def-45b6-b20d-900b75edf6d2": {
       "attrs": {
        "height": 0.8,
        "width": 0.8,
        "x": 0.1,
        "y": 0.1
       },
       "content": {
        "cell": "b757a22a-0f98-4827-a1d9-26189282faa3",
        "part": "whole"
       },
       "id": "75f99af0-4def-45b6-b20d-900b75edf6d2"
      }
     }
    },
    "9a7f86b2-71c7-45fb-8675-a57f58fceb23": {
     "id": "9a7f86b2-71c7-45fb-8675-a57f58fceb23",
     "prev": "690201bf-e60b-4761-bf5f-150e736f64e6",
     "regions": {
      "2fc799e7-2062-45ef-848e-50dedd017739": {
       "attrs": {
        "height": 0.8,
        "width": 0.8,
        "x": 0.1,
        "y": 0.1
       },
       "content": {
        "cell": "7b79cb5c-2f0f-4bdb-9e3b-0aa7503c4a8b",
        "part": "whole"
       },
       "id": "2fc799e7-2062-45ef-848e-50dedd017739"
      }
     }
    },
    "9aefd487-9c08-4a6a-af3f-b5ff5199fd1c": {
     "id": "9aefd487-9c08-4a6a-af3f-b5ff5199fd1c",
     "prev": "34f2ddbe-b820-4d64-bc76-52be28277c0e",
     "regions": {
      "64579d76-6f0c-47c5-a209-e571ee40a80d": {
       "attrs": {
        "height": 0.8,
        "width": 0.8,
        "x": 0.1,
        "y": 0.1
       },
       "content": {
        "cell": "8862d5f5-edc8-4c72-be0f-53a0cce6d8a0",
        "part": "whole"
       },
       "id": "64579d76-6f0c-47c5-a209-e571ee40a80d"
      }
     }
    },
    "9b1de14e-174a-4612-9b97-d19c06f06207": {
     "id": "9b1de14e-174a-4612-9b97-d19c06f06207",
     "prev": "a5b26cd7-5e23-431b-a449-11b9c924af2e",
     "regions": {
      "f43ceaa1-f77d-40c9-bb77-d224975a0a25": {
       "attrs": {
        "height": 0.8,
        "width": 0.8,
        "x": 0.1,
        "y": 0.1
       },
       "content": {
        "cell": "7f73eb83-2fc6-492c-aa58-d91405439408",
        "part": "whole"
       },
       "id": "f43ceaa1-f77d-40c9-bb77-d224975a0a25"
      }
     }
    },
    "9e0e79af-7e3d-4bbf-a0e9-f9ad0d76e562": {
     "id": "9e0e79af-7e3d-4bbf-a0e9-f9ad0d76e562",
     "prev": "a759d309-84cc-41bc-8de4-7d273f910bb4",
     "regions": {
      "c3611f4e-a9b5-45dc-9948-e2d23701aed1": {
       "attrs": {
        "height": 0.8,
        "width": 0.8,
        "x": 0.1,
        "y": 0.1
       },
       "content": {
        "cell": "9db08cbc-85d3-49ca-bf04-8ea459ebd9b2",
        "part": "whole"
       },
       "id": "c3611f4e-a9b5-45dc-9948-e2d23701aed1"
      }
     }
    },
    "a5b26cd7-5e23-431b-a449-11b9c924af2e": {
     "id": "a5b26cd7-5e23-431b-a449-11b9c924af2e",
     "prev": "b7dae7b5-d7ea-4972-bf56-5c0f09d0a04c",
     "regions": {
      "cc6fe140-4f24-4183-a0de-78925d8e0e91": {
       "attrs": {
        "height": 0.8,
        "width": 0.8,
        "x": 0.1,
        "y": 0.1
       },
       "content": {
        "cell": "c5062617-661c-451c-b1cd-b8c4285c83d4",
        "part": "whole"
       },
       "id": "cc6fe140-4f24-4183-a0de-78925d8e0e91"
      }
     }
    },
    "a759d309-84cc-41bc-8de4-7d273f910bb4": {
     "id": "a759d309-84cc-41bc-8de4-7d273f910bb4",
     "prev": "72c9c9c6-a3ed-4a04-880e-763c527d5ca1",
     "regions": {
      "c70a5cef-b7bf-4300-a3cc-1cc6e6b6be19": {
       "attrs": {
        "height": 0.8,
        "width": 0.8,
        "x": 0.1,
        "y": 0.1
       },
       "content": {
        "cell": "6ed2e134-3913-4bc3-8847-34e4d7816678",
        "part": "whole"
       },
       "id": "c70a5cef-b7bf-4300-a3cc-1cc6e6b6be19"
      }
     }
    },
    "a7a55ec4-f836-4b00-93a3-113449965c49": {
     "id": "a7a55ec4-f836-4b00-93a3-113449965c49",
     "prev": "4f73822b-332f-4221-ac4f-836dd9715c4a",
     "regions": {
      "36c44256-7c4e-4d14-8afb-35e0c3cc4c9d": {
       "attrs": {
        "height": 0.8,
        "width": 0.8,
        "x": 0.1,
        "y": 0.1
       },
       "content": {
        "cell": "c4e10770-bfbc-41ed-b08b-07abcd626a93",
        "part": "whole"
       },
       "id": "36c44256-7c4e-4d14-8afb-35e0c3cc4c9d"
      }
     }
    },
    "a9460a7e-61d7-4f6c-9f76-12e5548b85c9": {
     "id": "a9460a7e-61d7-4f6c-9f76-12e5548b85c9",
     "prev": "b4a95a5b-111c-40c0-809e-694fb94fc3f4",
     "regions": {
      "460187f9-648a-422f-a474-ea1aa6e1360b": {
       "attrs": {
        "height": 0.8,
        "width": 0.8,
        "x": 0.1,
        "y": 0.1
       },
       "content": {
        "cell": "0e18ec18-82fb-4041-bc8f-5a8b3e1b0623",
        "part": "whole"
       },
       "id": "460187f9-648a-422f-a474-ea1aa6e1360b"
      }
     }
    },
    "b0f7e689-cb00-43a5-b3e4-4ebe578a3adb": {
     "id": "b0f7e689-cb00-43a5-b3e4-4ebe578a3adb",
     "prev": "90b15b3e-b3bb-4681-a1fe-989f1076edcb",
     "regions": {
      "43913f92-a63a-465d-b094-b439cc2ddf26": {
       "attrs": {
        "height": 0.8,
        "width": 0.8,
        "x": 0.1,
        "y": 0.1
       },
       "content": {
        "cell": "0a317d46-2797-4d57-ac33-64db831ae968",
        "part": "whole"
       },
       "id": "43913f92-a63a-465d-b094-b439cc2ddf26"
      }
     }
    },
    "b3c7a862-a1e2-44a7-9bc2-76c85a3b013e": {
     "id": "b3c7a862-a1e2-44a7-9bc2-76c85a3b013e",
     "prev": "45396688-aaaf-47b2-8621-3c1eb42cf0d1",
     "regions": {
      "1aa11988-0d11-4119-8214-0ea02fc443c8": {
       "attrs": {
        "height": 0.8,
        "width": 0.8,
        "x": 0.1,
        "y": 0.1
       },
       "content": {
        "cell": "2901b9f1-30f5-4e05-9c84-e8fdd1299b91",
        "part": "whole"
       },
       "id": "1aa11988-0d11-4119-8214-0ea02fc443c8"
      }
     }
    },
    "b42b1cb7-9b76-4a7f-bf7a-06855424c107": {
     "id": "b42b1cb7-9b76-4a7f-bf7a-06855424c107",
     "prev": "9e0e79af-7e3d-4bbf-a0e9-f9ad0d76e562",
     "regions": {
      "6a3af602-1af2-473f-a809-5b263b60afcb": {
       "attrs": {
        "height": 0.8,
        "width": 0.8,
        "x": 0.1,
        "y": 0.1
       },
       "content": {
        "cell": "da05b2c5-4e2d-4411-8548-84cd3ac6e480",
        "part": "whole"
       },
       "id": "6a3af602-1af2-473f-a809-5b263b60afcb"
      }
     }
    },
    "b4a95a5b-111c-40c0-809e-694fb94fc3f4": {
     "id": "b4a95a5b-111c-40c0-809e-694fb94fc3f4",
     "prev": "a7a55ec4-f836-4b00-93a3-113449965c49",
     "regions": {
      "c9c91007-50e3-42ba-8982-fc09a4748368": {
       "attrs": {
        "height": 0.8,
        "width": 0.8,
        "x": 0.1,
        "y": 0.1
       },
       "content": {
        "cell": "60c83a69-7ea1-447f-acb4-694c42005f10",
        "part": "whole"
       },
       "id": "c9c91007-50e3-42ba-8982-fc09a4748368"
      }
     }
    },
    "b6d88434-8f6a-4a8b-bb96-2762531bc20d": {
     "id": "b6d88434-8f6a-4a8b-bb96-2762531bc20d",
     "prev": "f9a357e8-5577-4fda-b68a-424f37783d31",
     "regions": {
      "fa3bd479-b7ed-46f5-b2a5-c4c0eebc4198": {
       "attrs": {
        "height": 0.8,
        "width": 0.8,
        "x": 0.1,
        "y": 0.1
       },
       "content": {
        "cell": "842bc299-ebfb-46ab-a112-ceded06ede00",
        "part": "whole"
       },
       "id": "fa3bd479-b7ed-46f5-b2a5-c4c0eebc4198"
      }
     }
    },
    "b7dae7b5-d7ea-4972-bf56-5c0f09d0a04c": {
     "id": "b7dae7b5-d7ea-4972-bf56-5c0f09d0a04c",
     "prev": "e9770718-3094-4167-b48a-e800a4ee8e65",
     "regions": {
      "2403a627-d41f-453f-bd98-ae65cda580c0": {
       "attrs": {
        "height": 0.8,
        "width": 0.8,
        "x": 0.1,
        "y": 0.1
       },
       "content": {
        "cell": "f081757d-f1e1-42ea-9ddc-66d556aa0fbf",
        "part": "whole"
       },
       "id": "2403a627-d41f-453f-bd98-ae65cda580c0"
      }
     }
    },
    "c7e392c1-716c-4c1a-a2a7-e99588ad3036": {
     "id": "c7e392c1-716c-4c1a-a2a7-e99588ad3036",
     "prev": "df0cdb11-05bc-4da3-a132-82465bfffc5c",
     "regions": {
      "e982e8c9-3eec-49fb-9ab1-3a0072257332": {
       "attrs": {
        "height": 0.8,
        "width": 0.8,
        "x": 0.1,
        "y": 0.1
       },
       "content": {
        "cell": "d6d040c1-1720-496a-90e1-386f2b22d444",
        "part": "whole"
       },
       "id": "e982e8c9-3eec-49fb-9ab1-3a0072257332"
      }
     }
    },
    "df0cdb11-05bc-4da3-a132-82465bfffc5c": {
     "id": "df0cdb11-05bc-4da3-a132-82465bfffc5c",
     "prev": "7d7ebc95-7ea8-472d-b806-6089d011311a",
     "regions": {
      "944672aa-060b-4e77-8d8e-274b4a26dbe6": {
       "attrs": {
        "height": 0.8,
        "width": 0.8,
        "x": 0.1,
        "y": 0.1
       },
       "content": {
        "cell": "3306e62a-1ccc-432c-b36a-cf8724c13ed3",
        "part": "whole"
       },
       "id": "944672aa-060b-4e77-8d8e-274b4a26dbe6"
      }
     }
    },
    "e9770718-3094-4167-b48a-e800a4ee8e65": {
     "id": "e9770718-3094-4167-b48a-e800a4ee8e65",
     "prev": "925a3786-84a7-48de-bb57-9edd4d271d83",
     "regions": {
      "eb68cc4e-ebcb-43ea-ab42-c1c0a2e2c4f8": {
       "attrs": {
        "height": 0.8,
        "width": 0.8,
        "x": 0.1,
        "y": 0.1
       },
       "content": {
        "cell": "18efa030-378d-4e7b-8f6c-99e9e41931a7",
        "part": "whole"
       },
       "id": "eb68cc4e-ebcb-43ea-ab42-c1c0a2e2c4f8"
      }
     }
    },
    "ee572248-e22a-4ac2-9cee-9c6e0f0da450": {
     "id": "ee572248-e22a-4ac2-9cee-9c6e0f0da450",
     "prev": "9aefd487-9c08-4a6a-af3f-b5ff5199fd1c",
     "regions": {
      "719ec3ae-0299-4c2d-9494-3b8a7d427e99": {
       "attrs": {
        "height": 0.8,
        "width": 0.8,
        "x": 0.1,
        "y": 0.1
       },
       "content": {
        "cell": "6703d605-ca18-47e0-bcde-054035094c4c",
        "part": "whole"
       },
       "id": "719ec3ae-0299-4c2d-9494-3b8a7d427e99"
      }
     }
    },
    "f4d71504-e495-46db-9a24-a04970ca8abf": {
     "id": "f4d71504-e495-46db-9a24-a04970ca8abf",
     "prev": null,
     "regions": {
      "ec544b4c-2a75-4cea-b419-cc1d20886f1e": {
       "attrs": {
        "height": 0.8,
        "width": 0.8,
        "x": 0.1,
        "y": 0.1
       },
       "content": {
        "cell": "fe7b9f51-b940-42d5-a3cf-f5316dd7f277",
        "part": "whole"
       },
       "id": "ec544b4c-2a75-4cea-b419-cc1d20886f1e"
      }
     }
    },
    "f9a357e8-5577-4fda-b68a-424f37783d31": {
     "id": "f9a357e8-5577-4fda-b68a-424f37783d31",
     "prev": "9a7f86b2-71c7-45fb-8675-a57f58fceb23",
     "regions": {
      "be1feb03-eb3b-4139-a7e6-817c73e0f92d": {
       "attrs": {
        "height": 0.8,
        "width": 0.8,
        "x": 0.1,
        "y": 0.1
       },
       "content": {
        "cell": "674f01f2-dd7f-40d2-a858-6d3c625b0fdd",
        "part": "whole"
       },
       "id": "be1feb03-eb3b-4139-a7e6-817c73e0f92d"
      }
     }
    }
   },
   "themes": {
    "default": "72262b4a-c735-44ae-aa0d-d0ba8c46bed2",
    "theme": {
     "72262b4a-c735-44ae-aa0d-d0ba8c46bed2": {
      "id": "72262b4a-c735-44ae-aa0d-d0ba8c46bed2",
      "palette": {
       "19cc588f-0593-49c9-9f4b-e4d7cc113b1c": {
        "id": "19cc588f-0593-49c9-9f4b-e4d7cc113b1c",
        "rgb": [
         252,
         252,
         252
        ]
       },
       "31af15d2-7e15-44c5-ab5e-e04b16a89eff": {
        "id": "31af15d2-7e15-44c5-ab5e-e04b16a89eff",
        "rgb": [
         68,
         68,
         68
        ]
       },
       "50f92c45-a630-455b-aec3-788680ec7410": {
        "id": "50f92c45-a630-455b-aec3-788680ec7410",
        "rgb": [
         155,
         177,
         192
        ]
       },
       "c5cc3653-2ee1-402a-aba2-7caae1da4f6c": {
        "id": "c5cc3653-2ee1-402a-aba2-7caae1da4f6c",
        "rgb": [
         43,
         126,
         184
        ]
       },
       "efa7f048-9acb-414c-8b04-a26811511a21": {
        "id": "efa7f048-9acb-414c-8b04-a26811511a21",
        "rgb": [
         25.118061674008803,
         73.60176211453744,
         107.4819383259912
        ]
       }
      },
      "rules": {
       "blockquote": {
        "color": "50f92c45-a630-455b-aec3-788680ec7410"
       },
       "code": {
        "font-family": "Anonymous Pro"
       },
       "h1": {
        "color": "c5cc3653-2ee1-402a-aba2-7caae1da4f6c",
        "font-family": "Lato",
        "font-size": 8
       },
       "h2": {
        "color": "c5cc3653-2ee1-402a-aba2-7caae1da4f6c",
        "font-family": "Lato",
        "font-size": 6
       },
       "h3": {
        "color": "50f92c45-a630-455b-aec3-788680ec7410",
        "font-family": "Lato",
        "font-size": 5.5
       },
       "h4": {
        "color": "c5cc3653-2ee1-402a-aba2-7caae1da4f6c",
        "font-family": "Lato",
        "font-size": 5
       },
       "h5": {
        "font-family": "Lato"
       },
       "h6": {
        "font-family": "Lato"
       },
       "h7": {
        "font-family": "Lato"
       },
       "pre": {
        "font-family": "Anonymous Pro",
        "font-size": 4
       }
      },
      "text-base": {
       "font-family": "Merriweather",
       "font-size": 4
      }
     }
    }
   }
  }
 },
 "nbformat": 4,
 "nbformat_minor": 2
}
