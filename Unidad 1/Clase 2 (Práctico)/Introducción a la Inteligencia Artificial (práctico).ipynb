{
 "cells": [
  {
   "cell_type": "markdown",
   "metadata": {},
   "source": [
    "# Introducción a Inteligencia Artificial (parte práctica)\n",
    "\n",
    "## 5to año - Ingeniería en Sistemas de Información\n",
    "\n",
    "### Facultad Regional Villa María"
   ]
  },
  {
   "cell_type": "markdown",
   "metadata": {},
   "source": [
    "## Cuestiones administrativas de la parte práctica:\n",
    "\n",
    "#### Organización de las clases prácticas\n",
    "\n",
    "* Cada clase práctica tomará como referencia la clase teórica anterior, mostrando un enfoque práctico de la misma (por ejemplo, explicando como se implementa computacionalmente un algoritmo visto en el teórico de la materia).\n",
    "* Al final de cada clase se darán ejercicios para resolver, los cuales constituyen los trabajos prácticos.\n",
    "* Tras la clase práctica se dejará tiempo para avanzar en los ejercicios (importante: traer computadora  con Python desde la próxima clase).\n",
    "* Github de la cátedra: https://github.com/inteligenciafrvm/inteligenciafrvm\n",
    "* Correo de la cátedra: inteligenciafrvm@gmail.com"
   ]
  },
  {
   "cell_type": "markdown",
   "metadata": {},
   "source": [
    "#### Regularización\n",
    "\n",
    "* La materia se regulariza aprobando (con calificación 6-10) en al menos 60% de los prácticos (es decir, aprobando 5 prácticos de los 8).\n",
    "* Los trabajos prácticos se encuentran al final de los notebooks de cada clase. Cada conjunto de ejercicios se compone de ejercicos básicos y ejercicios adicionales.\n",
    "\n",
    "* Criterios de calificación de los trabajos prácticos:\n",
    "\n",
    "> 10 - Implementados todos los ejercicios del práctico (e incluso más de lo que se pidió), donde la implementación junto a los comentarios/respuestas muestran un excelente entendimiento del problema que se resuelve.\n",
    "\n",
    "> 9 - Muy buena implementación, comentarios y entendimiento del problema.\n",
    "\n",
    "> 8 - Buena implementación, comentarios y entendimiento del problema.\n",
    "\n",
    "> 7 - Implementación razonable, con un adecuado entendimiento del problema. Esta es la nota máxima en el caso en que sólo los ejercicios básicos hayan sido correctamente implementados y comentados, siendo que todos los ejercicios básicos se encuentren bien implementados.\n",
    "\n",
    "> 6 - Implementación razonable, pero existen errores semánticos en el código y/o comentarios que demuestran un limitado entendimiento del problema.\n",
    "\n",
    "> nota $<$ 6 - Los ejercicios básicos no se encuentran implementados de forma que pueda considerarse aceptable (por ejemplo, existen errores de compilación en los mismos o errores conceptuales graves).\n",
    "\n",
    "\n"
   ]
  },
  {
   "cell_type": "markdown",
   "metadata": {},
   "source": [
    "#### Aprobación de la parte práctica\n",
    "\n",
    "* Criterios de promoción de la parte práctica: promedio de los prácticos $\\geq$ 8.\n",
    "\n",
    "* Política de entrega tardía: cada alumno cuenta con una cantidad total de 10 días de entrega tardía pasando la fecha estipulada y que no impactan en su aprobación de los prácticos, para utilizarlos a elección durante el cuatrimestre. Ejemplo: Si la fecha límite para la entrega de un trabajo es el Martes a las 23:59 y el trabajo es entregado el Jueves a las 10:00, al alumno se le descontarán 2 días de entrega tardía para usar en los prácticos del resto del cuatrimestre.\n",
    "\n",
    "* Los trabajos prácticos son individuales: la implementación y comentarios deben ser originales de cada alumno."
   ]
  },
  {
   "cell_type": "markdown",
   "metadata": {},
   "source": [
    "* Los prácticos son entregados a través del campus virtual en el siguiente link: ."
   ]
  },
  {
   "cell_type": "markdown",
   "metadata": {},
   "source": [
    "### Objetivos principales del práctico de la materia\n",
    "\n",
    "* Comprender cómo las distintas tecnologías implementan los algoritmos y modelos vistos en el teórico de la materia.\n",
    "* Comprender con la práctica el funcionamiento de las distintas técnicas de IA.\n",
    "* Aprender a desarrollar prototipos de sistemas inteligentes.\n",
    "* Entender, desde un punto de vista práctico, cómo utilizar la IA para darle un agregado de valor a los sistemas de información.\n"
   ]
  },
  {
   "cell_type": "markdown",
   "metadata": {},
   "source": [
    "* Dada la cantidad de técnicas de IA disponibles, es imposible poder cubrirlas a fondo a todas en un curso.\n",
    "* Es por eso que la visión de esta materia pretende mostrar una **visión general**: se centra en mostrar cómo las distintas técnicas resuelven distintos problemas.\n",
    "* Si bien la IA es un campo muy cambiante, ciertas sub-áreas se han mantenido con bases similares por muchos años. Es por eso que al comprender los fundamentos básicos es posible luego aprender técnicas nuevas conforme vayan necesitando aplicar en su vida profesional.\n",
    "\n"
   ]
  },
  {
   "cell_type": "markdown",
   "metadata": {},
   "source": [
    "* Las clases y trabajos prácticos van a estar enfocados en Python y es muy recomendable que los ejercicios sean realizados en dicho lenguaje (varios de los ejercicios involucran ampliar código existente).\n",
    "* Se permite utilizar cualquier lenguaje a elección (en tal caso, tener en cuenta que muchos lenguajes no tienen un ecosistema amplio de librerías de ML. Algunas alternativas: R u Octave).\n",
    "\n"
    "***"
   ]
  },
  {
   "cell_type": "markdown",
   "metadata": {},
   "source": [
    "## Introducción a la Inteligencia Artificial (enfoque práctico)\n",
    "\n",
    "### Repaso: definición / perspectiva de la IA (Russel y Norvig, 2010)\n",
    "\n",
    "* Pensar (\"caja blanca\")\n",
    "    * Como humanos: Enfoque cognitivo, neurocientífico, psicológico.\n",
    "    * Racionalmente: Razonamiento lógico, deducciones a través de su conocimiento. \"Strong AI\" (computadora con una mente, capaz de entender, imposible que exista según [Searle](https://es.wikipedia.org/wiki/Habitaci%C3%B3n_china)).\n",
    "* Actuar (\"caja negra\")\n",
    "    * Como humanos: Test de Turing.\n",
    "    * Racionalmente: Agente racional, actúa buscando el mejor resultado. \"Weak AI\" (computadora incapaz de entender según [Searle](https://es.wikipedia.org/wiki/Habitaci%C3%B3n_china), \"simula que entiende\")."
   ]
  },
  {
   "cell_type": "markdown",
   "metadata": {},
   "source": [
    "### Repaso: inteligencia artificial general (AGI) (Russel y Norvig, 2010)\n",
    "\n",
    "* IA universal capaz de aprender y actuar en cualquier ambiente.\n",
    "* **Pináculo de la IA**."
   ]
  },
  {
   "cell_type": "markdown",
   "metadata": {},
   "source": [
    "### Estado actual de la IA:\n",
    "\n",
    "* Grandes avances en procesamiento de imágenes, audio, video y texto.\n",
    "* Aplicaciones impresionantes en robótica y juegos.\n",
    "* Integración de IA en industrias y áreas de investigación no necesariamente relacionadas con computación.\n",
    "* Enfoque *bottom-up* (inductivo, a partir de los datos \"crudos\") de la IA actualmente se impone frente al enfoque *top-down* (deductivo, a partir de modelos cognitivos o del razonamiento lógico).\n",
    "* Dominio del machine learning (ML), particularmente del **deep learning** (DL)."
   ]
  },
  {
   "cell_type": "markdown",
   "metadata": {},
   "source": [
    "Ejemplo 1: Reconocimiento de imágenes\n",
    "\n",
    "\n",
    "![Reconocimiento de imágenes](images/imagenet.png)\n",
    "(crédito: https://www.cs.toronto.edu/~fritz/absps/imagenet.pdf)"
   ]
  },
  {
   "cell_type": "markdown",
   "metadata": {},
   "source": [
    "Ejemplo 2: Decodificación de videos\n",
    "\n",
    "https://www.youtube.com/watch?v=Qh5_uMGXl1g\n",
    "\n"
   ]
  },
  {
   "cell_type": "markdown",
   "metadata": {},
   "source": [
    "(crédito: http://www.purdue.edu/newsroom/releases/2017/Q4/researchers-demonstrate-mind-reading-brain-decoding-tech-----.html)"
   ]
  },
  {
   "cell_type": "markdown",
   "metadata": {},
   "source": [
    "Ejemplo 3: Generación de imágenes \"reales\"!!!\n",
    "\n",
    "![Generación de imágenes \"reales\"](images/gan_examples.png)\n",
    "\n",
    "(crédito:  Nguyen et al. 2016 - Plug & play generative networks:  Conditional iterative generation of images\n",
    "in latent space - https://arxiv.org/abs/1612.00005)"
   ]
  },
  {
   "cell_type": "markdown",
   "metadata": {},
   "source": [
    "Ejemplo 4: Transferencia de imágenes de un contexto a otro\n",
    "\n",
    "![Transferencia de imágenes de un dominio a otro](images/choi_2017.png)\n",
    "\n",
    "(crédito: Choi et. al. 2017 - StarGAN: Unified Generative Adversarial Networks for Multi-Domain Image-to-Image Translation - https://arxiv.org/abs/1711.09020)"
   ]
  },
  {
   "cell_type": "markdown",
   "metadata": {},
   "source": [
    "Ejemplo 5: Robocup\n",
    "\n",
    "![Robocup](images/robocup.jpg)\n",
    "\n",
    "(crédito: https://cosmosmagazine.com/technology/robocup-2017-wrap-up-highs-lows-plenty-of-falls)"
   ]
  },
  {
   "cell_type": "markdown",
   "metadata": {},
   "source": [
    "Ejemplo 6: Self-driving cars\n",
    "\n",
    "![Self-driving cars](images/tesla-autopilot.jpg)\n",
    "\n",
    "Fuente: https://www.greencarreports.com/news/1112829_tesla-is-designing-its-own-computer-chip-for-self-driving-cars-report#"
   ]
  },
  {
   "cell_type": "markdown",
   "metadata": {},
   "source": [
    "Ejemplo 7: Reconocimiento de lenguaje natural, juegos\n",
    "\n",
    "![Watson](images/watson.jpg)\n",
    "\n",
    "Fuente: https://www.infoworld.com/article/2993255/analytics/ibms-watson-won-jeopardy-now-it-needs-to-win-the-world.html"
   ]
  },
  {
   "cell_type": "markdown",
   "metadata": {},
   "source": [
    "Ejemplo 8: Recomendaciones personalizadas y reconocimiento de patrones ocultos\n",
    "\n",
    "![Humor recommender](images/humor_recommender.jpg)\n",
    "\n",
    "Fuente: https://insidebigdata.com/2014/06/12/big-data-humor-poor-mans-recommender-system/"
   ]
  },
  {
   "cell_type": "markdown",
   "metadata": {},
   "source": [
    "### Estado actual de la IA: algunos desafíos (funcionales)\n",
    "\n",
    "El enfoque funcional adoptado para llevar a cabo inducciones presenta varios desafíos\n",
    "\n",
    "* Tendencia a usar modelos de caja negra, poco interpretables.\n",
    "* Sensibilidad a los datos con los que se entrenó.\n",
    "* Tuneo de híper-parámetros.\n",
    "* ¿Cómo integrar conocimiento de dominio?"
   ]
  },
  {
   "cell_type": "markdown",
   "metadata": {},
   "source": [
    "Ejemplo 1:\n",
    "\n",
    "http://www.labsix.org/media/2017/10/31/video.mp4\n",
    "\n",
    "(crédito: http://www.labsix.org/physical-objects-that-fool-neural-nets/)"
   ]
  },
  {
   "cell_type": "markdown",
   "metadata": {},
   "source": [
    "Ejemplo 2 \n",
    "\n",
    "![Obama](images/obama_funny.jpg)\n",
    "\n",
    "(crédito: https://karpathy.github.io/2012/10/22/state-of-computer-vision/)"
   ]
  },
  {
   "cell_type": "markdown",
   "metadata": {},
   "source": [
    "### Estado actual de la IA: algunos desafíos (ingenieriles)\n",
    "\n",
    "* Se requiere mucho esfuerzo para preparar los datos para que puedan servir como entradas en modelos de IA.\n",
    "\n",
    "* Dificultad de escalar IA a aplicaciones de mayor envergadura para que se adapten al hardware eficientemente. Se requiere mucho tuneo a mano (a veces incluso de librerías a bajo nivel) además de prueba y error. De: https://research.fb.com/announcing-tensor-comprehensions/:\n",
    "\n",
    "> The typical workflow for creating new high-performance machine learning (ML) layers can span days or weeks of engineering work through a two phase process:\n",
    "\n",
    "> A researcher writes a new layer at a numpy-level abstraction, chaining existing operations in a deep learning library like PyTorch, and tests it in small-scale experiments. The performance of the code implementing the validated idea needs to be accelerated by an order of magnitude to run large-scale experiments.\n",
    "\n",
    "> An engineer takes the layer and writes efficient code for GPUs and CPUs:\n",
    "\n",
    ">a. The engineer needs to be a High-Performance Computing expert of which only a limited supply of talent is available\n",
    "\n",
    ">b. The engineer needs to acquire context, map out a strategy, write and debug code\n",
    "\n",
    ">c. Moving the code to the backend involves mundane tasks, such as verbose argument checking and adding boilerplate integration code"
   ]
  },
  {
   "cell_type": "markdown",
   "metadata": {},
   "source": [
    "### Estado actual de la IA: algunos desafíos (éticos)"
   ]
  },
  {
   "cell_type": "markdown",
   "metadata": {},
   "source": [
    "#### Varias posturas populares con respecto al estado actual y futuro de la IA\n",
    "\n",
    "\n",
    "##### Actualidad:\n",
    "\n",
    "* IA promisoria como herramienta fundamental en nuestras vidas\n",
    "    * La posibilidad de replicar capacidades humanas abre las puertas a posibilidades sin precedentes.\n",
    "    * Gran capacidad de resolver problemas mediante automatización.\n",
    "    * Capacidad de obtener información muy valiosa en los enormes volúmenes de datos que generamos.\n",
    "    * Capacidad de detectar tempranamente problemas como los de salud y asociaciones/patrones ocultos.\n",
    "\n",
    "vs.\n",
    "\n",
    "* Miedo de las capacidades de la IA\n",
    "    * Capacidad de quitarnos trabajos y de empeorar la distribución global de la riqueza.\n",
    "    * Modelos replican sesgos en la sociedad (racismo, xenofobia, discriminación, etc.) y permite manipulación de los mismos.\n",
    "    * La falta de comprensión sobre los modelos con impacto real en nuestras vidas puede generar consecuencias que llegan hasta catástrofes naturales.\n",
    "    * El usuario no tiene un acceso transparente de cómo y para qué se usan sus datos (en ocasiones directamente no puede ver ni qué tipo de datos recolectan de él) que sirven para entrenar modelos, ni qué información se infiere en base a los mismos.\n",
    "    "
   ]
  },
  {
   "cell_type": "markdown",
   "metadata": {},
   "source": [
    "> But as Cathy O’Neil reveals in this urgent and necessary book, the opposite is true. The models being used today are **opaque**, **unregulated**, and **uncontestable**, even when they’re wrong. \n",
    "Most troubling, they reinforce discrimination: If a poor student can’t get a loan because a lending model deems him too risky (by virtue of his zip code), he’s then cut off from the kind of education that could pull him out of poverty, and a vicious spiral ensues. Models are propping up the lucky and punishing the downtrodden, creating a “toxic cocktail for democracy.” Welcome to the dark side of Big Data.\n",
    "Tracing the arc of a person’s life, O’Neil exposes the black box models that shape our future, both as individuals and as a society. These “weapons of math destruction” score teachers and students, sort résumés, grant (or deny) loans, evaluate workers, target voters, set parole, and monitor our health.\n",
    "\n",
    "Algunas lecturas:\n",
    "* [Artículo: Do algorithms reveal sexual orientation or just expose our stereotypes?](https://medium.com/@blaisea/do-algorithms-reveal-sexual-orientation-or-just-expose-our-stereotypes-d998fafdf477)\n",
    "* [Artículo: Data science instrumenting social media for advertising is responsible for todays politics](http://gael-varoquaux.info/programming/data-science-instrumenting-social-media-for-advertising-is-responsible-for-todays-politics.html)\n",
    "* [Artículo: Artificial Intelligence’s White Guy Problem](https://www.nytimes.com/2016/06/26/opinion/sunday/artificial-intelligences-white-guy-problem.html?_r=1)\n",
    "* [Artículo: The Dark Secret at the Hearth of AI](https://www.technologyreview.com/s/604087/the-dark-secret-at-the-heart-of-ai/)"
   ]
  },
  {
   "cell_type": "markdown",
   "metadata": {},
   "source": [
    "##### A futuro:\n",
    "    \n",
    "* Estamos a muchos, muchos años de resolver la Inteligencia Artificial General (AGI). Ejemplo: https://www.nytimes.com/2017/07/29/opinion/sunday/artificial-intelligence-is-stuck-heres-how-to-move-it-forward.html\n"
   ]
  },
  {
   "cell_type": "markdown",
   "metadata": {},
   "source": [
    "vs.\n",
    "\n",
    "* IA cada vez más crucial en nuestras vidas, necesidad de regularla y tomar cartas en el asunto. Fuente: [Erdélyi y Goldsmith - Regulating Artificial Intelligence: Proposal for a Global Solution. AAAI 2018](http://www.aies-conference.com/wp-content/papers/main/AIES_2018_paper_13.pdf)\n",
    "\n",
    "* \"Carrera en la IA\" (estilo \"carrera espacial\") para el avance estratégico: retórica y riesgos. Fuente: [Cave y Heigeartaigh - An AI Race for Strategic Advantage: Rhetoric and Risks. AAAI 2018](http://www.aies-conference.com/wp-content/papers/main/AIES_2018_paper_163.pdf)\n",
    "    * Riesgos de que solamente exista una retórica: obstaculiza el debate y puede incitar a una carrera.\n",
    "    * Riesgos de que existan tanto una retórica como una carrera: riesgos de no tomar medidas de seguridad adecuadas y riesgos de un conflicto entre grupos o hasta países.\n",
    "    * Riesgos de que exista una carrera, sin retórica: concentración de poder y posibilidad de abusos y conflictos.\n",
    "    \n",
    " ¿Qué hacer entonces? (según los autores)\n",
    " * Como sociedad: \"IA para todos\" - democratizar el poder de la IA y sus beneficios. Así, no importará quién \"gana\" la carrera.\n",
    " * Como profesionales: distribuir el conocimiento de la IA; promover narrativas positivas en la sociedad y en los políticos."
   ]
  },
  {
   "cell_type": "markdown",
   "metadata": {},
   "source": [
    "vs.\n",
    "\n",
    "* Se viene Skynet? Ejemplo: https://www.entrepreneur.com/article/298005"
   ]
  },
  {
   "cell_type": "markdown",
   "metadata": {},
   "source": [
    "***\n"
   ]
  },
  {
   "cell_type": "markdown",
   "metadata": {},
   "source": [
    "### Trabajo práctico\n",
    "\n",
    "Considerando la definición de inteligencia artificial, responder lo planteado debajo.\n",
    "\n",
    "**Fecha de entrega: **.\n",
    "\n",
    "\n",
    "#### Ejercicios básicos\n",
    "\n",
    "1\\. Considere tres IAs en la ciencia ficción o cultura popular (ejemplo: Terminator). Para cada una de ellas, responda:\n",
    "\n",
    "1. ¿Con qué capacidades cuenta?\n",
    "2. ¿Cuáles de dichas capacidades todavía no está disponible en la vida real?\n",
    "3. ¿Es esa IA consciente de sí misma?\n",
    "4. ¿Cuál(es) de las definiciones de IA satisface la misma? Justifique brevemente por qué satisface cada una de las definiciones indicadas.\n",
    "5. ¿Puede considerarse como una Inteligencia Artificial General (AGI)? Justifique brevemente."
   ]
  },
  {
   "cell_type": "markdown",
   "metadata": {},
   "source": [
    "#### Ejercicios adicionales\n",
    "\n",
    "Elija uno de los dos siguientes ejercicios y responda lo que pide:\n",
    "\n",
    "2\\. (Opción A). Busque sobre las siguientes IAs que hicieron \"hitos\" en los últimos años:\n",
    "\n",
    "* IBM Watson, IA ganadora en Jeopardy ([artículo de ejemplo](https://www.elperiodico.com/es/tecnologia/20110217/un-ordenador-de-ibm-gana-el-concurso-de-preguntas-y-respuestas-jeopardy-825011)).\n",
    "* AlphaGo, IA ganadora en Go frente a campeón surcoreano Lee Sedong ([artículo de ejemplo](https://peru.com/epic/tecnologia/alphago-inteligencia-artificial-google-vence-campeon-go-noticia-444660)).\n",
    "* Algún otro hito de la IA, por ejemplo autos autónomos (artículo de ejemplo).\n",
    "\n",
    "Responda, para cada una de las IA:\n",
    "\n",
    "1. ¿Cuál es su principal punto fuerte con respecto a las capacidades humanas?\n",
    "2. ¿Qué definiciones de IA satisface o intenta satisfacer? Justifique brevemente.\n",
    "3. Según su criterio, ¿qué necesitaría para satisfacer aquellas definiciones de IA que no está satisfaciendo?"
   ]
  },
  {
   "cell_type": "markdown",
   "metadata": {},
   "source": [
    "2\\. (Opción B). Busque un artículo científico en el campo de inteligencia artificial. Puede consultar fuentes nacionales como por ejemplo los [anales del Simposio Argentino de Inteligencia Artificial (ASAI)](http://www.clei2017-46jaiio.sadio.org.ar/node/83) en las Jornadas Argentinas de Informática (JAIIO), o fuentes internacionales como por ejemplo los [anales de la Joint Conference on Artificial Intelligence (IJCAI)](http://www.ijcai.org/proceedings/2017/).\n",
    "\n",
    "Responda: \n",
    "\n",
    "1. ¿Qué problema apunta a resolver el artículo?\n",
    "2. Desde el punto de vista de las definiciones de inteligencia artificial, ¿cuál está satisfaciendo o intentando satisfacer? Justifique brevemente.\n",
    "3. ¿Qué impresiones le deja el artículo sobre la investigación actual en el área de la inteligencia artificial?"
   ]
  },
  {
   "cell_type": "markdown",
   "metadata": {},
   "source": [
    "#### Adicionalmente...\n",
    "\n",
    "Para la próxima clase, traer computadora con Anaconda (versión 3, preferentemente) y algún IDE de Python (ej: [Pycharm](https://www.jetbrains.com/pycharm/)) instalado. Para ello:\n",
    "\n",
    "- Descargar la plataforma para DataScience \"Anaconda\" desde\n",
    "\n",
    "\thttps://docs.anaconda.com/anaconda/install/\n",
    "\n",
    "\tSe deberá seleccionar la versión del intérprete Python (3.6 recomendada).\n",
    "\n",
    "\n",
    "- Seguir las intrucciones de instalación de Anaconda según el sistema operativo."
   ]
  },
  {
   "cell_type": "markdown",
   "metadata": {},
   "source": [
    "#### Algunos links por si les interesa conocer más allá del alcance de la materia\n",
    "\n",
    "* [Reddit de Inteligencia Artificial](https://www.reddit.com/r/artificial/).\n",
    "\n",
    "* [Reddit de Machine Learning](https://www.reddit.com/r/MachineLearning/).\n",
    "\n",
    "* Buena lectura: [AMA en reddit de pioneros de IA](https://www.reddit.com/r/science/comments/7yegux/aaas_ama_hi_were_researchers_from_google/).\n",
    "\n",
    "* [Curso introductorio a Machine Learning de Andrew Ng](https://www.coursera.org/learn/machine-learning).\n",
    "\n",
    "* [Curso de Redes Neuronales Convolucionales para Reconocimiento Visual - Universidad de Stanford, 2016](https://www.youtube.com/watch?v=NfnWJUyUJYU&list=PLkt2uSq6rBVctENoVBg1TpCC7OQi31AlC)."
   ]
  }
 ],
 "metadata": {
  "anaconda-cloud": {},
  "kernelspec": {
   "display_name": "Python 3",
   "language": "python",
   "name": "python3"
  },
  "language_info": {
   "codemirror_mode": {
    "name": "ipython",
    "version": 3
   },
   "file_extension": ".py",
   "mimetype": "text/x-python",
   "name": "python",
   "nbconvert_exporter": "python",
   "pygments_lexer": "ipython3",
   "version": "3.6.0"
  }
 },
 "nbformat": 4,
 "nbformat_minor": 2
}
