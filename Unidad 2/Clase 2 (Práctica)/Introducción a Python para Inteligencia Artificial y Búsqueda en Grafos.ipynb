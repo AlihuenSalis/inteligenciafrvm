{
 "cells": [
  {
   "cell_type": "markdown",
   "metadata": {},
   "source": [
    "# Introducción a Python para Inteligencia Artificial y Búsqueda en Grafos\n",
    "\n",
    "5to año - Ingeniería en Sistemas de Información\n",
    "\n",
    "Facultad Regional Villa María"
   ]
  },
  {
   "cell_type": "markdown",
   "metadata": {},
   "source": [
    "## Introducción\n",
    "\n",
    "Python es un lenguaje de software libre, no tipado, interpretado y orientado a objetos. Se presenta como principal elección entre los lenguajes utilizados para aplicaciones de inteligencia artificial, particularmente de machine learning, junto con R, Matlab y Octave (dependiendo la comunidad que lo use).\n",
    "\n",
    "Posee un enorme ecosistema de librerías de machine learning. Esto sumado a su flexibilidad y su simpleza de uso hacen que sea uno de los lenguajes más populares para la computación científica.\n",
    "\n",
    "Algunos IDEs: Jupyter (web), Pycharm, Rodeo.\n"
   ]
  },
  {
   "cell_type": "markdown",
   "metadata": {},
   "source": [
    "### jupyter notebook (próximamente será reemplazado por jupyter lab)\n",
    "\n",
    "Aplicación web de código abierto que permite crear y compartir documentos (notebooks) mostrando iterativamente el flujo de código en lenguajes como python y R, permitiendo incluir gráficos, explicaciones en Markdown y fórmulas en LaTeX.\n",
    "\n",
    "Resulta una gran opción para presentaciones o aplicaciones pequeñas de machine learning ya que permite utilizar el código de a fragmentos. Cada fragmento puede ser de texto o de código (dependiendo la selección del combo box superior: si está \"Markdown\" seleccionado tomará a la celda como texto - de estar \"Code\" tomará el fragmento como código)."
   ]
  },
  {
   "cell_type": "markdown",
   "metadata": {},
   "source": [
    "¿Cómo instalarlo?\n",
    "\n",
    "- Descargar la plataforma para DataScience \"Anaconda\" desde\n",
    "\n",
    "\thttps://docs.anaconda.com/anaconda/install/\n",
    "\n",
    "\tSe deberá seleccionar la versión del intérprete Python (3.6 recomendada).\n",
    "\n",
    "\n",
    "- Seguir las intrucciones de instalación de Anaconda según el sistema operativo.\n",
    "\n",
    "¿Cómo usarlo?\n",
    "\n",
    "* En Linux: abrir la terminal, situarse en el directorio donde está el notebook, ejecutar \n",
    "        jupyter notebook \n",
    "    y abrir el notebook desde la interfaz web.\n",
    "\n",
    "\n",
    "* En Windows: abrir la consola de windows (cmd), ejecutar \n",
    "        jupyter notebook \n",
    "    y abrir el notebook desde la interfaz web.\n",
    "    \n",
    "    (también pueden probar usar el comando jupyter lab)\n",
    "\n",
    "Prueben ejecutar y mirar el código del notebook de esta clase! Más notebooks de prueba: [https://try.jupyter.org/](https://try.jupyter.org/).\n",
    "    \n",
    "Algunas extensiones interesantes para notebook (incluídas variables de entorno): https://ndres.me/post/best-jupyter-notebook-extensions/. \n",
    "También está disponible como Beta el ambiente que va a reemplazar a jupyter notebook, https://github.com/jupyterlab/jupyterlab. Mejora varios aspectos, pero todavía no cuenta con extensiones."
   ]
  },
  {
   "cell_type": "markdown",
   "metadata": {},
   "source": [
    "Info adicional:\n",
    "\n",
    "* [Markdown](https://daringfireball.net/projects/markdown/) es un conversor de texto plano a HTML. En los notebooks funciona como suerte de versión \"liviana\" de LaTex. Se usa en sitios como Slack, github (para los README), reddit.\n",
    "* [LaTex](http://www.latex-project.org/) es un sistema de tipografía de alta calidad, que permite armar documentos con una sintaxis predefinida. Su sintaxis es mucho más verborrágica comparado con las herramientas típicas de ofimática, pero es mucho más flexible. A LaTex en los notebooks se lo utiliza principalmente para fórmulas.\n",
    "\n",
    "Info adicional sobre LaTex, para aquellos interesados:\n",
    "* Para armar documentos completos en LaTex de forma sencilla una buena alternativa es [Overleaf](https://www.overleaf.com/) (editor LaTex Web colaborativo). Por su parte, la alternativa que recomendamos es descargarlo mediante TexLive (en Debian/Ubuntu/Mint lo descargan con *sudo apt-get install texlive-full* (pesa 4Gb)) y editar los documentos mediante [Atom](http://atom.io/) y sus paquetes *latex* y *language-latex*"
   ]
  },
  {
   "cell_type": "markdown",
   "metadata": {},
   "source": [
    "Para sus explicaciones en texto, jupyter por defecto utiliza Markdown. Para utilizar LaTex en un notebook, debe encerrarse la sentencia en \\\\$ ecuación \\\\$ para ecuaciones en la misma línea o bien entre \\\\$\\\\$ ecuación \\\\$\\\\$ para ecuaciones en una nueva línea.\n",
    "\n",
    "Ejemplo $$\\lim_{h \\to 0} \\frac{f(a+h)-f(a)}{h}$$"
   ]
  },
  {
   "cell_type": "markdown",
   "metadata": {},
   "source": [
    "Veamos algo de código al ver una de las estructuras principales de Python..."
   ]
  },
  {
   "cell_type": "code",
   "execution_count": 1,
   "metadata": {
    "collapsed": false
   },
   "outputs": [
    {
     "name": "stdout",
     "output_type": "stream",
     "text": [
      "[1, 2, 3, 6]\n"
     ]
    }
   ],
   "source": [
    "# estructura fundamental de python: listas\n",
    "\n",
    "lista = [1,2,3,6]  # encerrar la estructura con [] es lo que denota que es una lista\n",
    "print(lista)"
   ]
  },
  {
   "cell_type": "code",
   "execution_count": 2,
   "metadata": {
    "collapsed": false
   },
   "outputs": [
    {
     "name": "stdout",
     "output_type": "stream",
     "text": [
      "[1, 2, 3, 6]\n"
     ]
    }
   ],
   "source": [
    "lista2 = [1,2] + [3,6]  # principal característica: listas completamente flexibles\n",
    "print(lista2)"
   ]
  },
  {
   "cell_type": "code",
   "execution_count": 3,
   "metadata": {},
   "outputs": [
    {
     "name": "stdout",
     "output_type": "stream",
     "text": [
      "4\n"
     ]
    }
   ],
   "source": [
    "# con len() podemos ver las dimensiones de la lista\n",
    "print(len(lista2))"
   ]
  },
  {
   "cell_type": "code",
   "execution_count": 4,
   "metadata": {
    "collapsed": false
   },
   "outputs": [
    {
     "name": "stdout",
     "output_type": "stream",
     "text": [
      "2\n"
     ]
    }
   ],
   "source": [
    "# cuál es el elemento con índice 1 de la lista?\n",
    "print(lista[1])  # notar que Python y numpy indexan desde el 0"
   ]
  },
  {
   "cell_type": "code",
   "execution_count": 5,
   "metadata": {
    "collapsed": false
   },
   "outputs": [
    {
     "name": "stdout",
     "output_type": "stream",
     "text": [
      "[2, 3, 6]\n"
     ]
    }
   ],
   "source": [
    "print(lista[1:])  # \"1:\" significa \"el elemento de índice 1 y todos los elementos siguientes\""
   ]
  },
  {
   "cell_type": "code",
   "execution_count": 6,
   "metadata": {
    "collapsed": false
   },
   "outputs": [
    {
     "name": "stdout",
     "output_type": "stream",
     "text": [
      "[1, 2, 3, 6]\n"
     ]
    }
   ],
   "source": [
    "# de manera similar...\n",
    "\n",
    "print(lista[:4])  #(todos los elementos de la lista hasta aquel de índice 4, sin incluírlo)"
   ]
  },
  {
   "cell_type": "code",
   "execution_count": 7,
   "metadata": {
    "collapsed": false
   },
   "outputs": [
    {
     "name": "stdout",
     "output_type": "stream",
     "text": [
      "[1, 2, 3, 6]\n"
     ]
    }
   ],
   "source": [
    "# o también...\n",
    "\n",
    "print(lista[:])  # todos los elementos de la lista"
   ]
  },
  {
   "cell_type": "code",
   "execution_count": 8,
   "metadata": {
    "collapsed": false
   },
   "outputs": [
    {
     "name": "stdout",
     "output_type": "stream",
     "text": [
      "[1, 2, 3, 6, 5, 'a']\n"
     ]
    }
   ],
   "source": [
    "lista.append(5) \n",
    "lista.append('a')  # las listas nativas de python no se establecen para un tipo de dato en concreto\n",
    "print(lista)"
   ]
  },
  {
   "cell_type": "code",
   "execution_count": 9,
   "metadata": {
    "collapsed": false
   },
   "outputs": [
    {
     "name": "stdout",
     "output_type": "stream",
     "text": [
      "[[1, 2], [3, 4], [5, 6]]\n"
     ]
    }
   ],
   "source": [
    "matriz_1 = [[1,2], [3,4], [5,6]]  # una matriz es una lista de listas. Matriz de 3x2\n",
    "print(matriz_1)"
   ]
  },
  {
   "cell_type": "code",
   "execution_count": 10,
   "metadata": {
    "collapsed": false
   },
   "outputs": [
    {
     "name": "stdout",
     "output_type": "stream",
     "text": [
      "4\n"
     ]
    }
   ],
   "source": [
    "# elemento de la fila 1, columna 1:\n",
    "print(matriz_1[1][1])"
   ]
  },
  {
   "cell_type": "markdown",
   "metadata": {},
   "source": [
    "### numpy\n",
    "\n",
    "Librería open-source que dota a Python de manejo de vectores y matrices, junto con un conjunto de librerías para procesarlas, asemejando a python al manejo estilo Matlab.\n",
    "\n",
    "El bloque básico de numpy es el ndarray, un array multidimensional de elementos homogéneos y de tamaño fijo. Estos objetos nunca son creados directamente, sino por un método destinado a tal efecto.\n"
   ]
  },
  {
   "cell_type": "code",
   "execution_count": 11,
   "metadata": {
    "collapsed": false
   },
   "outputs": [
    {
     "name": "stdout",
     "output_type": "stream",
     "text": [
      "[1 2 3 4 5]\n"
     ]
    }
   ],
   "source": [
    "import numpy as np\n",
    "\n",
    "# una forma fácil de crear un array de numpy es hacer una lista estándar de python\n",
    "# y usarla como parámetro para ejecutar np.array sobre ella.\n",
    "array = np.array([1,2,3,4,5])\n",
    "print(array)"
   ]
  },
  {
   "cell_type": "code",
   "execution_count": 12,
   "metadata": {
    "collapsed": false
   },
   "outputs": [
    {
     "name": "stdout",
     "output_type": "stream",
     "text": [
      "<class 'list'> <class 'numpy.ndarray'>\n"
     ]
    }
   ],
   "source": [
    "# cuidado con la diferencia entre una lista \"estándar\" de python y un array de numpy!\n",
    "print(type([1,2,3,4,5]), type(array))"
   ]
  },
  {
   "cell_type": "code",
   "execution_count": 13,
   "metadata": {
    "collapsed": false
   },
   "outputs": [
    {
     "name": "stdout",
     "output_type": "stream",
     "text": [
      "1\n"
     ]
    }
   ],
   "source": [
    "print(array[0])"
   ]
  },
  {
   "cell_type": "code",
   "execution_count": 14,
   "metadata": {
    "collapsed": false
   },
   "outputs": [
    {
     "name": "stdout",
     "output_type": "stream",
     "text": [
      "[[1 2]\n",
      " [3 4]\n",
      " [5 6]\n",
      " [7 8]]\n"
     ]
    }
   ],
   "source": [
    "matriz = np.array([[1,2],[3,4],[5,6],[7,8]]) # para numpy, una matriz también es una lista de listas\n",
    "print(matriz)"
   ]
  },
  {
   "cell_type": "code",
   "execution_count": 15,
   "metadata": {
    "collapsed": false
   },
   "outputs": [
    {
     "name": "stdout",
     "output_type": "stream",
     "text": [
      "[[1 2]\n",
      " [3 4]\n",
      " [5 6]]\n"
     ]
    }
   ],
   "source": [
    "matriz_2 = np.array(matriz_1)\n",
    "print(matriz_2)"
   ]
  },
  {
   "cell_type": "code",
   "execution_count": 16,
   "metadata": {
    "collapsed": false
   },
   "outputs": [
    {
     "name": "stdout",
     "output_type": "stream",
     "text": [
      "<class 'list'> <class 'numpy.ndarray'>\n"
     ]
    }
   ],
   "source": [
    "# similarmente, no confundir la matriz que generamos con la lista de listas de python!!!\n",
    "# son de dos tipos distintos\n",
    "print(type(matriz_1), type(matriz_2))"
   ]
  },
  {
   "cell_type": "code",
   "execution_count": 17,
   "metadata": {
    "collapsed": false
   },
   "outputs": [
    {
     "name": "stdout",
     "output_type": "stream",
     "text": [
      "[[ 3  6]\n",
      " [ 9 12]\n",
      " [15 18]\n",
      " [21 24]]\n"
     ]
    }
   ],
   "source": [
    "# Principal ventaja de numpy: nos permite realizar fácil y eficientemente operaciones a nivel de lista\n",
    "\n",
    "matriz_2 = 3 * matriz # una de las muchas operaciones que podemos hacer con la lista como un todo\n",
    "print(matriz_2)"
   ]
  },
  {
   "cell_type": "code",
   "execution_count": 18,
   "metadata": {
    "collapsed": false
   },
   "outputs": [
    {
     "name": "stdout",
     "output_type": "stream",
     "text": [
      "[[ 1  4]\n",
      " [ 9 16]\n",
      " [25 36]\n",
      " [49 64]]\n"
     ]
    }
   ],
   "source": [
    "matriz_3 = matriz ** 2  # elevamos al cuadrado todos los elementos de matriz\n",
    "print(matriz_3)"
   ]
  },
  {
   "cell_type": "code",
   "execution_count": 19,
   "metadata": {
    "collapsed": false
   },
   "outputs": [
    {
     "name": "stdout",
     "output_type": "stream",
     "text": [
      "4\n"
     ]
    }
   ],
   "source": [
    "print(matriz[1,1])"
   ]
  },
  {
   "cell_type": "code",
   "execution_count": 20,
   "metadata": {
    "collapsed": false
   },
   "outputs": [
    {
     "name": "stdout",
     "output_type": "stream",
     "text": [
      "[3 4]\n"
     ]
    }
   ],
   "source": [
    "print(matriz[1,:]) # pedimos todos los elementos de la segunda fila"
   ]
  },
  {
   "cell_type": "code",
   "execution_count": 21,
   "metadata": {
    "collapsed": false
   },
   "outputs": [
    {
     "name": "stdout",
     "output_type": "stream",
     "text": [
      "[6 8]\n"
     ]
    }
   ],
   "source": [
    "# pedimos los elementos de índice 2 y 3 de la segunda columna\n",
    "# (Notar que 2:4 equivale al intervalo [2,4), es decir que el elemento de índice 4 está excluído)\n",
    "print(matriz[2:4, 1])"
   ]
  },
  {
   "cell_type": "code",
   "execution_count": 22,
   "metadata": {
    "collapsed": false
   },
   "outputs": [
    {
     "name": "stdout",
     "output_type": "stream",
     "text": [
      "(4, 2)\n"
     ]
    }
   ],
   "source": [
    "print(np.shape(matriz)) # función muy útil, nos permite ver el orden de la estructura con la que trabajamos"
   ]
  },
  {
   "cell_type": "code",
   "execution_count": 23,
   "metadata": {
    "collapsed": false
   },
   "outputs": [
    {
     "name": "stdout",
     "output_type": "stream",
     "text": [
      "[1.   1.25 1.5  1.75 2.  ]\n"
     ]
    }
   ],
   "source": [
    "print(np.linspace(1,2,5)) # método muy útil para crear arrays de una dimensión"
   ]
  },
  {
   "cell_type": "code",
   "execution_count": 24,
   "metadata": {
    "collapsed": false,
    "scrolled": true
   },
   "outputs": [
    {
     "name": "stdout",
     "output_type": "stream",
     "text": [
      "Help on built-in function array in module numpy.core.multiarray:\n",
      "\n",
      "array(...)\n",
      "    array(object, dtype=None, copy=True, order='K', subok=False, ndmin=0)\n",
      "    \n",
      "    Create an array.\n",
      "    \n",
      "    Parameters\n",
      "    ----------\n",
      "    object : array_like\n",
      "        An array, any object exposing the array interface, an object whose\n",
      "        __array__ method returns an array, or any (nested) sequence.\n",
      "    dtype : data-type, optional\n",
      "        The desired data-type for the array.  If not given, then the type will\n",
      "        be determined as the minimum type required to hold the objects in the\n",
      "        sequence.  This argument can only be used to 'upcast' the array.  For\n",
      "        downcasting, use the .astype(t) method.\n",
      "    copy : bool, optional\n",
      "        If true (default), then the object is copied.  Otherwise, a copy will\n",
      "        only be made if __array__ returns a copy, if obj is a nested sequence,\n",
      "        or if a copy is needed to satisfy any of the other requirements\n",
      "        (`dtype`, `order`, etc.).\n",
      "    order : {'K', 'A', 'C', 'F'}, optional\n",
      "        Specify the memory layout of the array. If object is not an array, the\n",
      "        newly created array will be in C order (row major) unless 'F' is\n",
      "        specified, in which case it will be in Fortran order (column major).\n",
      "        If object is an array the following holds.\n",
      "    \n",
      "        ===== ========= ===================================================\n",
      "        order  no copy                     copy=True\n",
      "        ===== ========= ===================================================\n",
      "        'K'   unchanged F & C order preserved, otherwise most similar order\n",
      "        'A'   unchanged F order if input is F and not C, otherwise C order\n",
      "        'C'   C order   C order\n",
      "        'F'   F order   F order\n",
      "        ===== ========= ===================================================\n",
      "    \n",
      "        When ``copy=False`` and a copy is made for other reasons, the result is\n",
      "        the same as if ``copy=True``, with some exceptions for `A`, see the\n",
      "        Notes section. The default order is 'K'.\n",
      "    subok : bool, optional\n",
      "        If True, then sub-classes will be passed-through, otherwise\n",
      "        the returned array will be forced to be a base-class array (default).\n",
      "    ndmin : int, optional\n",
      "        Specifies the minimum number of dimensions that the resulting\n",
      "        array should have.  Ones will be pre-pended to the shape as\n",
      "        needed to meet this requirement.\n",
      "    \n",
      "    Returns\n",
      "    -------\n",
      "    out : ndarray\n",
      "        An array object satisfying the specified requirements.\n",
      "    \n",
      "    See Also\n",
      "    --------\n",
      "    empty_like : Return an empty array with shape and type of input.\n",
      "    ones_like : Return an array of ones with shape and type of input.\n",
      "    zeros_like : Return an array of zeros with shape and type of input.\n",
      "    full_like : Return a new array with shape of input filled with value.\n",
      "    empty : Return a new uninitialized array.\n",
      "    ones : Return a new array setting values to one.\n",
      "    zeros : Return a new array setting values to zero.\n",
      "    full : Return a new array of given shape filled with value.\n",
      "    \n",
      "    \n",
      "    Notes\n",
      "    -----\n",
      "    When order is 'A' and `object` is an array in neither 'C' nor 'F' order,\n",
      "    and a copy is forced by a change in dtype, then the order of the result is\n",
      "    not necessarily 'C' as expected. This is likely a bug.\n",
      "    \n",
      "    Examples\n",
      "    --------\n",
      "    >>> np.array([1, 2, 3])\n",
      "    array([1, 2, 3])\n",
      "    \n",
      "    Upcasting:\n",
      "    \n",
      "    >>> np.array([1, 2, 3.0])\n",
      "    array([ 1.,  2.,  3.])\n",
      "    \n",
      "    More than one dimension:\n",
      "    \n",
      "    >>> np.array([[1, 2], [3, 4]])\n",
      "    array([[1, 2],\n",
      "           [3, 4]])\n",
      "    \n",
      "    Minimum dimensions 2:\n",
      "    \n",
      "    >>> np.array([1, 2, 3], ndmin=2)\n",
      "    array([[1, 2, 3]])\n",
      "    \n",
      "    Type provided:\n",
      "    \n",
      "    >>> np.array([1, 2, 3], dtype=complex)\n",
      "    array([ 1.+0.j,  2.+0.j,  3.+0.j])\n",
      "    \n",
      "    Data-type consisting of more than one element:\n",
      "    \n",
      "    >>> x = np.array([(1,2),(3,4)],dtype=[('a','<i4'),('b','<i4')])\n",
      "    >>> x['a']\n",
      "    array([1, 3])\n",
      "    \n",
      "    Creating an array from sub-classes:\n",
      "    \n",
      "    >>> np.array(np.mat('1 2; 3 4'))\n",
      "    array([[1, 2],\n",
      "           [3, 4]])\n",
      "    \n",
      "    >>> np.array(np.mat('1 2; 3 4'), subok=True)\n",
      "    matrix([[1, 2],\n",
      "            [3, 4]])\n",
      "\n"
     ]
    }
   ],
   "source": [
    "# comando muy útil para obtener ayuda sobre paquetes, métodos y demás\n",
    "\n",
    "help(np.array)\n",
    "\n",
    "# También puede utilizarse sin argumentos, lo cual invoca a la ayuda interactiva del sistema"
   ]
  },
  {
   "cell_type": "markdown",
   "metadata": {},
   "source": [
    "### matplotlib\n",
    "\n",
    "matplotlib es la librería estándar para la visualización de datos, algo que resulta fundamental para machine learning. Es muy flexible y simple de usar. Se integra con jupyter, lo cual permite ver gráficos en un notebook.\n",
    "\n",
    "La función principal de la misma es plot(), la cual toma un número variable de argumentos y grafica de forma tan simple como escribiendo plot(x,y)"
   ]
  },
  {
   "cell_type": "code",
   "execution_count": 25,
   "metadata": {
    "collapsed": false
   },
   "outputs": [
    {
     "data": {
      "text/plain": [
       "<Figure size 640x480 with 1 Axes>"
      ]
     },
     "metadata": {},
     "output_type": "display_data"
    }
   ],
   "source": [
    "import matplotlib.pyplot as plt\n",
    "\n",
    "x = np.linspace(0, 10, 100) # x= 0.0, 0.101, 0.202,..., 10.0\n",
    "plt.plot(x, np.sin(x))\n",
    "plt.show()"
   ]
  },
  {
   "cell_type": "code",
   "execution_count": 26,
   "metadata": {
    "collapsed": false
   },
   "outputs": [
    {
     "data": {
      "image/png": "[encoded data removed]",
      "text/plain": [
       "<Figure size 432x288 with 1 Axes>"
      ]
     },
     "metadata": {
      "needs_background": "light"
     },
     "output_type": "display_data"
    }
   ],
   "source": [
    "x = np.random.normal(size=500)\n",
    "y = np.random.normal(size=500)\n",
    "plt.scatter(x, y); # plot de puntos\n",
    "plt.show()"
   ]
  },
  {
   "cell_type": "markdown",
   "metadata": {},
   "source": [
    "### Aplicación de python: Búsqueda en grafos\n",
    "\n",
    "Para adquirir práctica en el lenguaje python, vamos a empezar con una aplicación básica antes de utilizar librerías de alto nivel: implementando un algoritmo de búsqueda en grafos. Parte de esta sección está basada en el curso [Introduction to AI 2017](https://materiaalit.github.io/intro-to-ai-17/), dictado en la Universidad de Helsinki, Finlandia."
   ]
  },
  {
   "cell_type": "markdown",
   "metadata": {},
   "source": [
    "### Repaso:\n",
    "\n",
    "Problema de búsqueda: informalmente, es un problema en donde se parte de un estado inicial (representado por un nodo) y debe encontrarse la forma de llegar a un estado objetivo, dado un espacio de estados posibles y conexiones entre los mismos (representadas por arcos).\n",
    "\n",
    "Se define por:\n",
    "\n",
    "* Un **conjunto de nodos o estados**.\n",
    "* Un **nodo inicial**.\n",
    "* Un conjunto de **nodo objetivo**.\n",
    "* Una **función** que nos indica si un nodo es o no objetivo.\n",
    "* Una **función sucesora**, que mapea un nodo a un conjunto de nuevos nodo."
   ]
  },
  {
   "cell_type": "markdown",
   "metadata": {},
   "source": [
    "Además\n",
    "\n",
    "* Un **camino** es una secuencia de nodos.\n",
    "* Una **solución** es un camino que lleva del estado inicial a un estado final."
   ]
  },
  {
   "cell_type": "markdown",
   "metadata": {},
   "source": [
    "¿Cómo obtener una solución? Repasamos dos algoritmos básicos\n",
    "\n",
    "* Búsqueda en anchura - Breadth First Search (BFS)\n",
    "\n",
    "![Grafo](images/graph_tree_breadth.png)\n",
    "\n",
    "Fuente: https://en.wikipedia.org/wiki/File:Breadth-first-tree.svg"
   ]
  },
  {
   "cell_type": "markdown",
   "metadata": {},
   "source": [
    "* Búsqueda en profundidad - Depth First Search (DFS)\n",
    "\n",
    "\n",
    "![Grafo](images/graph_tree_depth.png)\n",
    "\n",
    "Fuente: https://en.wikipedia.org/wiki/File:Depth-first-tree.svg"
   ]
  },
  {
   "cell_type": "markdown",
   "metadata": {},
   "source": [
    "Pseudocódigo de ejemplo:\n",
    "\n",
    "        función búsqueda_básica(nodo_inicial)\n",
    "            lista_nodos = Lista()\n",
    "            nodos_visitados = Lista()\n",
    "            \n",
    "            # lista_nodos es la lista de nodos pendientes de recorrer\n",
    "            lista_nodos.agregar(nodo_inicial)\n",
    "            \n",
    "            si lista_nodos no está vacía hacer:\n",
    "                nodo = lista_nodos.primer_elemento()  # obtenemos el 1er elemento de la lista\n",
    "                remover nodo de lista_nodos\n",
    "                \n",
    "                si nodo no está en nodos_visitados hacer:\n",
    "                    nodos_visitados.agregar(nodo)\n",
    "                    \n",
    "                    si es_nodo_objetivo(nodo)\n",
    "                        devolver solución     # se alcanzó un estado objetivo\n",
    "                    fin si\n",
    "                    lista_nodos.agregar(obtener_nodos_vecinos(nodo))\n",
    "                fin si\n",
    "            fin si\n",
    "            \n",
    "            devolver []                       # (si ningún estado objetivo pudo ser alcanzado)\n",
    "        \n",
    "        fin función\n"
   ]
  },
  {
   "cell_type": "markdown",
   "metadata": {},
   "source": [
    "Vamos a implementar el ejemplo anterior:\n",
    "\n",
    "![Grafo](images/graph_tree_breadth.png)\n",
    "\n",
    "Primero vamos a declarar algunas variables principales..."
   ]
  },
  {
   "cell_type": "code",
   "execution_count": 27,
   "metadata": {
    "collapsed": true
   },
   "outputs": [],
   "source": [
    "nodos = [1, 2, 3, 4, 5, 6, 7, 8, 9, 10, 11, 12]\n",
    "nodo_de_inicio = 1\n",
    "nodos_objetivo = [11]\n",
    "\n",
    "# estructura de mapeo en python: dict mapea valores a objetos\n",
    "mapeos = {  # la estructura encerrada con llaves '{}' denota que la misma es un diccionario\n",
    "    1: [2, 3, 4], #1 es la clave y [2, 3, 4] son los valores asociados a la misma\n",
    "    2: [1, 5, 6],\n",
    "    3: [1],\n",
    "    4: [1, 7, 8],\n",
    "    5: [2, 9, 10],\n",
    "    6: [2],\n",
    "    7: [4, 11, 12],\n",
    "    8: [4],\n",
    "    9: [5],\n",
    "    10: [5],\n",
    "    11: [7],\n",
    "    12: [7],\n",
    "}\n",
    "\n"
   ]
  },
  {
   "cell_type": "markdown",
   "metadata": {},
   "source": [
    "Considerando las funciones internas de Python, nos restarían de implementar dos funciones antes de pasar al algoritmo principal:\n",
    "\n",
    "        obtener_nodos_vecinos(nodo)\n",
    "        es_nodo_objetivo(nodo)\n",
    "        \n",
    "* Implementar la primera función depende de cómo están implementados los nodos. En nuestro caso vamos a usar listas de números para representarlos.\n",
    "* Para la segunda función, necesitamos haber definido algún criterio para decidir qué hace que un nodo sea objetivo."
   ]
  },
  {
   "cell_type": "code",
   "execution_count": 28,
   "metadata": {
    "collapsed": true
   },
   "outputs": [],
   "source": [
    "# implementamos la primer función pendiente: obtener_nodos_vecinos(nodo)\n",
    "\n",
    "def obtener_nodos_vecinos(nodo):\n",
    "    # mapeos[nodo] va a devolver el objeto asociado a la clave <nodo>, en este caso la lista de nodos\n",
    "    return mapeos[nodo]"
   ]
  },
  {
   "cell_type": "code",
   "execution_count": 29,
   "metadata": {
    "collapsed": true
   },
   "outputs": [],
   "source": [
    "# implementamos la segunda función\n",
    "\n",
    "def es_nodo_objetivo(nodo):\n",
    "    if nodo in nodos_objetivo:\n",
    "        return True\n",
    "    else:\n",
    "        return False"
   ]
  },
  {
   "cell_type": "code",
   "execution_count": 30,
   "metadata": {
    "collapsed": true
   },
   "outputs": [],
   "source": [
    "# Ahora ya podemos implementar el algoritmo básico de búsqueda\n",
    "def busqueda_basica(nodo_inicial):  # def en Python declara una función\n",
    "    lista_nodos = []\n",
    "    nodos_visitados = []\n",
    "\n",
    "    lista_nodos.append(nodo_inicial)  # el método append agrega un elemento a una lista\n",
    "\n",
    "    while lista_nodos is not []:  # verifica si la lista de nodos esta vacía\n",
    "        nodo = lista_nodos[0]  # toma el primer elemento de la lista de nodos\n",
    "        lista_nodos.pop(0)  # pop(<indice>) elimina de la lista el elemento del nodo con índice <indice>\n",
    "\n",
    "        # se comprueba si el nodo no ha sido visitado previamente, para no repetir cálculos\n",
    "        if nodo not in nodos_visitados:\n",
    "\n",
    "            nodos_visitados.append(nodo)  # inserta el nodo en la posición\n",
    "            if es_nodo_objetivo(nodo):  # función que determina si un nodo es objetivo\n",
    "                return nodos_visitados\n",
    "\n",
    "            # obtener_nodos_vecinos: función que, dado un nodo, obtiene los nodos conectados con él\n",
    "            nodos_vecinos = obtener_nodos_vecinos(nodo)\n",
    "\n",
    "            for vecino in nodos_vecinos:\n",
    "                if vecino not in nodos_visitados:\n",
    "                    lista_nodos.append(vecino)\n",
    "\n",
    "    return None"
   ]
  },
  {
   "cell_type": "code",
   "execution_count": 31,
   "metadata": {
    "collapsed": false,
    "scrolled": true
   },
   "outputs": [
    {
     "name": "stdout",
     "output_type": "stream",
     "text": [
      "[1, 2, 3, 4, 5, 6, 7, 8, 9, 10, 11]\n"
     ]
    }
   ],
   "source": [
    "# vamos a probar llamarlo, y compararlo con el grafo:\n",
    "print(busqueda_basica(nodo_de_inicio))"
   ]
  },
  {
   "cell_type": "markdown",
   "metadata": {},
   "source": [
    "¿Qué algoritmo de búsqueda está implementando?"
   ]
  },
  {
   "cell_type": "markdown",
   "metadata": {},
   "source": [
    "![Grafo](images/graph_tree_breadth.png)"
   ]
  },
  {
   "cell_type": "markdown",
   "metadata": {},
   "source": [
    "### Búsqueda Best-First, informada y A*.\n",
    "\n",
    "¿Qué ocurriría si los caminos a recorrer tuvieran un costo? Por ejemplo, ir de un nodo a otro podría insumir una cierta cantidad de tiempo, diferente a la de ir hacia otro nodo vecino.\n",
    "\n",
    "Una opción para tratar este problema es la de utilizar el criterio Best-First para ordenar los nodos.\n",
    "\n",
    "* En tal caso, a nivel de implementación sería conveniente cambiar la estructura de datos en *lista_nodos* de lista a [cola de prioridades](https://es.wikipedia.org/wiki/Cola_de_prioridades), que ordenaríamos con un determinado criterio, por ejemplo la distancia en metros de un nodo a otro.\n",
    "* Esto se conoce como algoritmo de Dijkstra.\n",
    "* Si todos los nodos tuvieran el mismo costo, entonces el algoritmo de Dijkstra equivaldría a BFS."
   ]
  },
  {
   "cell_type": "markdown",
   "metadata": {},
   "source": [
    "Problema con el algoritmo de Dijkstra o BFS: la búsqueda se extiende simétricamente en todas las direcciones, sin tender hacia donde se encuentra el estado objetivo.\n",
    "\n",
    "* ¿Cómo solucionarlo? Un enfoque propuesto involucra emplear una heurística (estrategia para resolver un problema) que nos permita tomar en cuenta información sobre el nodo objetivo, para poder guiar la búsqueda hacia él partiendo desde el nodo en el que estamos.\n",
    "* Al utilizar búsqueda informada con una heurística, estamos utilizando el algoritmo A\\*, donde el mismo ordena la cola de acuerdo a quien minimiza:\n",
    "\n",
    "$$f(nodo) = c(nodo) + h(nodo)$$\n",
    "\n",
    "donde $c(nodo)$ es el costo de llegar desde el nodo inicial hacia un determinado nodo, mientras que $h(nodo)$ es una heurística que estima el costo insumido en ir desde el nodo hacia el estado final.\n"
   ]
  },
  {
   "cell_type": "markdown",
   "metadata": {},
   "source": [
    "### **Trabajo Práctico 2**\n",
    "\n",
    "Para los primeros ejercicios básicos de programación nos vamos a enfocar en empezar a practicar con cuestiones básicas de python y numpy, en particular motivando el manejo de listas y matrices (listas de listas), para adquirir práctica de cara a los próximos TPs. Algunas de las operaciones que aquí se piden ya fueron definidas al presentar la clase, se motiva a que busquen por internet las demás (por ejemplo, cómo implementar un *for* en python).\n",
    "\n",
    "#### Ejercicios básicos\n",
    "\n",
    "1. Considerando el diccionario *mapeos* de nodos y sus mapeos, implementar una matriz de 12 filas y 3 columnas de modo que la fila 0 represente las conexiones del nodo 1, siendo la columna 0 la primera conexión, la columna 1 la segunda conexión, y la columna 2 la tercera conexión. Como consideración, si un nodo tiene menos de tres conexiones, en la fila y columna donde no tenga conexión debe ir un -1. Es decir,\n",
    "$$M = \n",
    " \\begin{pmatrix}\n",
    "  2 & 3 & 4 \\\\\n",
    "  1 & 5 & 6 \\\\\n",
    "  1 & -1 & -1 \\\\\n",
    "  \\vdots  & \\vdots  & \\vdots\n",
    " \\end{pmatrix}\n",
    "$$\n",
    "\n",
    "2. Obtener dos submatrices $M_1$ y $M_2$ a partir de la matriz $M$ del ejercicio anterior: una que considere todas las filas y la columa 0 y 1 además de otra que considere todas las filas y la columna 1 y 2. Es decir,\n",
    "$$M_1 = \n",
    " \\begin{pmatrix}\n",
    "  2 & 3 \\\\\n",
    "  1 & 5 \\\\\n",
    "  1 & -1 \\\\\n",
    "  \\vdots  & \\vdots\n",
    " \\end{pmatrix}\n",
    "M_2 = \n",
    " \\begin{pmatrix}\n",
    "  3 & 4 \\\\\n",
    "  5 & 6 \\\\\n",
    "  -1 & -1 \\\\\n",
    "  \\vdots  & \\vdots\n",
    " \\end{pmatrix}\n",
    "$$\n",
    "\n",
    "A partir de $M_1$ y $M_2$, obtener el producto matricial $R = M_1 \\times (M_2)^T$ e imprimir, como resultado, las filas 5 a 8 (fila 8 inclusive) y todas las columnas de la matriz resultante $R$. Ayuda: para el producto matricial y la transpuesta, buscar los métodos a tal efecto de la librería *numpy*."
   ]
  },
  {
   "cell_type": "markdown",
   "metadata": {},
   "source": [
    "#### Ejercicios complementarios\n",
    "\n",
    "1. Cargar la matriz del ejercicio 1 de forma iterativa o de alguna forma que no involucre especificar manualmente los valores para cada (fila, columna) sino, por ejemplo, usando un *for* para recorrer los elementos del diccionario. Si esto ya está implementado en el ejercicio básico 1.1, ya se considera como resuelto. Ayuda: la forma más sencilla de recorrer un dict es mediante *for key, value in dict.items()*, donde *key*, *value* y *dict* son las variables que representan la clave, su correspondiente valor y el diccionario, respectivamente. Pueden realizarse asunciones como por ejemplo que la cantidad de columnas es 3.\n",
    "2. Modificar la función *busqueda_basica* para que la misma implemente el algoritmo de búsqueda primero en profundidad (DFS). Hacer una prueba de escritorio simple (con un *print* como se hizo para verificar BFS) para determinar si la salida es correcta.\n",
    "\n",
    "\n",
    "#### Ejercicios extras\n",
    "\n",
    "1. Modificar la función *busqueda_basica* para que la misma implemente el algoritmo de búsqueda A\\* de acuerdo a alguna función de costo (no trivial) y heurística a elección que considere al nodo objetivo. Por ejemplo: cantidad de nodos que separan al nodo actual del nodo objetivo. Hacer una prueba de escritorio simple (con un *print* como se hizo para verificar BFS) para determinar si la salida es correcta.\n",
    "\n",
    "**Fecha de entrega: 04/04/2019 23:59hs.**\n",
    "\n",
    "Formato para entregar los ejercicios: los ejercicios deben ser cargados al campus en un archivo comprimido con el código (por ejemplo en un archivo de script de python \\*.py, o en un archivo de jupyter notebook \\*.ipynb). Antes de entregar se recomienda hacer un reinicio completo del ambiente de ejecución y correr nuevamente el código completo (especialmente si el trabajo está hecho en un notebook, tal reinicio puede hacerse desde *Kernel -> Restart Kernel and Run All Cells...*).\n",
    "\n",
    "Recomendación: Para hacer los ejercicios, es conveniente exportar el notebook como archivo \\*.py para así poder hacer un debug paso a paso en un editor como Pycharm. Para ello tienen que abrir el notebook desde el navegador, e ir a *File -> Download as -> Python (.py)* (si están utilizando *jupyter lab*, la exportación se hace desde *File -> Export Notebook As -> Export Notebook to Executable Script*).\n",
    "\n",
    "Nota: la resolución del siguiente TP es **individual**. Está permitida la reutilización del código del notebook (por ejemplo para utilizar el código provisto)."
   ]
  },
  {
   "cell_type": "code",
   "execution_count": null,
   "metadata": {
    "collapsed": true
   },
   "outputs": [],
   "source": []
  }
 ],
 "metadata": {
  "anaconda-cloud": {},
  "kernelspec": {
   "display_name": "Python 3",
   "language": "python",
   "name": "python3"
  },
  "language_info": {
   "codemirror_mode": {
    "name": "ipython",
    "version": 3
   },
   "file_extension": ".py",
   "mimetype": "text/x-python",
   "name": "python",
   "nbconvert_exporter": "python",
   "pygments_lexer": "ipython3",
   "version": "3.7.1"
  }
 },
 "nbformat": 4,
 "nbformat_minor": 2
}
