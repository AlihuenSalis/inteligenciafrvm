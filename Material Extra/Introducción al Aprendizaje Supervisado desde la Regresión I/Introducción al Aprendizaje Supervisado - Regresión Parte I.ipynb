{
 "cells": [
  {
   "cell_type": "markdown",
   "metadata": {},
   "source": [
    "# Introducción al Aprendizaje Supervisado - Regresión (Parte I)\n",
    "* Vista general del Aprendizaje Supervisado\n",
    "* Entrenamiento y Test de un modelo\n",
    "* Regresión Lineal\n",
    "\n",
    "\n",
    "5to año - Ingeniería en Sistemas de Información\n",
    "\n",
    "\n",
    "Facultad Regional Villa María"
   ]
  },
  {
   "cell_type": "markdown",
   "metadata": {},
   "source": [
    "\"We are drowning in information and starving for knowledge.\"\n",
    "\n",
    "                                        –Rutherford D. Roger\n"
   ]
  },
  {
   "cell_type": "markdown",
   "metadata": {},
   "source": [
    "## Aprendizaje Supervisado\n",
    "\n",
    "Vista general:\n",
    "    \n",
    "* Dado un conjunto de datos, existen un conjunto de variables llamado predictores (_**features** / inputs / predictors / independent variables_), los cuales pueden ser medidos.\n",
    "\n",
    "* Los mismos tienen influencia sobre otro conjunto de una o más variables llamadas variables de respuesta (_**response** / outputs / dependent / target variables_).\n",
    "\n",
    "* El **objetivo** de este tipo de aprendizaje es utilizar las entradas para poder **predecir** los valores de las variables de respuesta, de modo que nuestras predicciones $\\hat{Y}$ sean lo más cercana posible a los valores verdaderos de la función $Y$."
   ]
  },
  {
   "cell_type": "markdown",
   "metadata": {},
   "source": [
    "* En el aprendizaje supervisado, contamos con un dataset $D = \\{(X_1,y_1), (X_2,y_2),..., (X_n,y_n)\\}$ compuesto tanto por los features de entrada $X \\in \\mathbb{R}^D$ como por las salidas $y \\in \\mathbb{R}$ o bien $y \\in \\{c_1, c_2, ..., c_n\\}$ dependiendo de si se trata de un problema de **regresión** o de **clasificación**, respectivamente.\n",
    "\n",
    "* Se lo considera como supervisado puesto que el agente que aprende cuenta a priori con ejemplos de comportamiento deseado. Tras **entrenar** con tales ejemplos, el agente aprende a generalizar su conocimiento de tal modo de generar buenas predicciones sobre datos no observados."
   ]
  },
  {
   "cell_type": "markdown",
   "metadata": {},
   "source": [
    "* A partir de $D$, se distinguen el subconjunto de **datos de entrenamiento**, utilizados para adaptar el modelo y el subconjunto de **datos de test**, empleados para validar la capacidad de generalización del modelo para salidas no utilizadas en el entrenamiento."
   ]
  },
  {
   "cell_type": "markdown",
   "metadata": {},
   "source": [
    "![](img/supervised_workflow.svg)"
   ]
  },
  {
   "cell_type": "markdown",
   "metadata": {},
   "source": [
    "Algunos ejemplos:\n",
    "\n",
    "* Predecir el riesgo de una determinada enfermedad.\n",
    "* Identificar una persona en una fotografía.\n",
    "* Predecir si un correo es o no spam.\n",
    "* Predecir el costo de una casa en base a sus características."
   ]
  },
  {
   "cell_type": "markdown",
   "metadata": {},
   "source": [
    "El aprendizaje supervisado se divide en dos categorías: regresión y clasificación.\n",
    "\n",
    "* En problemas de regresión, las salidas son variables continuas y ordenadas. En otras palabras, una predicción $y=14.7$ es mayor que una predicción $y=12.5$ (esto no implica que la primera predicción sea más precisa que la segunda).\n",
    "* En problemas de clasificación, por su parte, las salidas son variables nominales discretas y no ordenadas. Es decir que si las salidas posibles son \"rojo\" y \"naranja\", no es posible asumir un orden entre ellas como \"rojo\" > \"naranja\"."
   ]
  },
  {
   "cell_type": "markdown",
   "metadata": {},
   "source": [
    "Para el aprendizaje supervisado, scikit-learn provee la siguiente interfaz común de métodos\n",
    "\n",
    "  + `model.predict()` : given a trained model, predict the label of a new set of data.\n",
    "    This method accepts one argument, the new data `X_new` (e.g. `model.predict(X_new)`),\n",
    "    and returns the learned label for each object in the array.\n",
    "  + `model.predict_proba()` : For classification problems, some estimators also provide\n",
    "    this method, which returns the probability that a new observation has each categorical label.\n",
    "    In this case, the label with the highest probability is returned by `model.predict()`.\n",
    "  + `model.decision_function()` : For classification problems, some estimators provide an uncertainty estimate that is not a probability. For binary classification, a decision_function >= 0 means the positive class will be predicted, while < 0 means the negative class.\n",
    "  + `model.score()` : for classification or regression problems, most (all?) estimators implement\n",
    "    a score method.  Scores are between 0 and 1, with a larger score indicating a better fit. For classifiers, the `score` method computes the prediction accuracy. For regressors, `score` computes the coefficient of determination (R<sup>2</sup>) of the prediction.\n",
    "  + `model.transform()` : For feature selection algorithms, this will reduce the dataset to the selected features. For some classification and regression models such as some linear models and random forests, this method reduces the dataset to the most informative features. These classification and regression models can therefore also be used as feature selection methods."
   ]
  },
  {
   "cell_type": "markdown",
   "metadata": {},
   "source": [
    "## Regresión Lineal\n",
    "\n",
    "* Uno de los modelos más simples es el método clásico de **regresión lineal**, en donde utilizamos una línea recta que intentará explicar los datos. En base a un vector de entradas\\* $X^T = (X_1, X_2, ..., X_p)$, predecimos una salida $y$ por medio del modelo\n",
    "\n",
    "$$\\hat{Y} = \\hat{\\beta_0} + \\sum_{j=1}^p X_j \\hat{\\beta_j}$$\n",
    "\n",
    "donde los parámetros $\\hat{\\beta_0}, \\hat{\\beta_1}, \\hat{\\beta_2}, ..., \\hat{\\beta_p}$ son estimados con métodos como _Ordinary Least Squares_.\n",
    "\n",
    "* A continuación se muestra un ejemplo donde aplicaremos regresión lineal.\n",
    "\n",
    "\\* Notar que la notación estándar para referirse a los vectores es como *vectores columna*, por eso se utiliza $X^T$ en lugar de $X$. "
   ]
  },
  {
   "cell_type": "code",
   "execution_count": 1,
   "metadata": {
    "collapsed": false
   },
   "outputs": [
    {
     "data": {
      "image/png": "[encoded data removed]",
      "text/plain": [
       "<matplotlib.figure.Figure at 0x7feb041a7ac8>"
      ]
     },
     "metadata": {},
     "output_type": "display_data"
    }
   ],
   "source": [
    "import numpy as np\n",
    "import matplotlib.pyplot as plt\n",
    "% matplotlib inline\n",
    "\n",
    "x = np.linspace(-3, 3, 100)\n",
    "rng = np.random.RandomState(42) \n",
    "# Vamos a generar una función sinusoidal que crece en el tiempo y posee un ruido aleatorio\n",
    "y = np.sin(4 * x) + x + rng.uniform(size=len(x))\n",
    "plt.plot(x, y, 'o'); # La visualización gráfica es muy importante para comprender lo que estamos modelando"
   ]
  },
  {
   "cell_type": "markdown",
   "metadata": {},
   "source": [
    "* scikit-learn nos requiere, para entrenar nuestros modelos de aprendizaje supervisado, que proveamos a $y$ como un array uni-dimensional de numpy, mientras que los ejemplos $X$ deben formar un array bi-dimensional (matriz) de numpy (aún si los mismos consisten solamente en un único feature)."
   ]
  },
  {
   "cell_type": "code",
   "execution_count": 2,
   "metadata": {
    "collapsed": false,
    "scrolled": true
   },
   "outputs": [
    {
     "data": {
      "text/plain": [
       "array([[-3.        ],\n",
       "       [-2.93939394],\n",
       "       [-2.87878788],\n",
       "       [-2.81818182],\n",
       "       [-2.75757576],\n",
       "       [-2.6969697 ],\n",
       "       [-2.63636364],\n",
       "       [-2.57575758],\n",
       "       [-2.51515152],\n",
       "       [-2.45454545],\n",
       "       [-2.39393939],\n",
       "       [-2.33333333],\n",
       "       [-2.27272727],\n",
       "       [-2.21212121],\n",
       "       [-2.15151515],\n",
       "       [-2.09090909],\n",
       "       [-2.03030303],\n",
       "       [-1.96969697],\n",
       "       [-1.90909091],\n",
       "       [-1.84848485],\n",
       "       [-1.78787879],\n",
       "       [-1.72727273],\n",
       "       [-1.66666667],\n",
       "       [-1.60606061],\n",
       "       [-1.54545455],\n",
       "       [-1.48484848],\n",
       "       [-1.42424242],\n",
       "       [-1.36363636],\n",
       "       [-1.3030303 ],\n",
       "       [-1.24242424],\n",
       "       [-1.18181818],\n",
       "       [-1.12121212],\n",
       "       [-1.06060606],\n",
       "       [-1.        ],\n",
       "       [-0.93939394],\n",
       "       [-0.87878788],\n",
       "       [-0.81818182],\n",
       "       [-0.75757576],\n",
       "       [-0.6969697 ],\n",
       "       [-0.63636364],\n",
       "       [-0.57575758],\n",
       "       [-0.51515152],\n",
       "       [-0.45454545],\n",
       "       [-0.39393939],\n",
       "       [-0.33333333],\n",
       "       [-0.27272727],\n",
       "       [-0.21212121],\n",
       "       [-0.15151515],\n",
       "       [-0.09090909],\n",
       "       [-0.03030303],\n",
       "       [ 0.03030303],\n",
       "       [ 0.09090909],\n",
       "       [ 0.15151515],\n",
       "       [ 0.21212121],\n",
       "       [ 0.27272727],\n",
       "       [ 0.33333333],\n",
       "       [ 0.39393939],\n",
       "       [ 0.45454545],\n",
       "       [ 0.51515152],\n",
       "       [ 0.57575758],\n",
       "       [ 0.63636364],\n",
       "       [ 0.6969697 ],\n",
       "       [ 0.75757576],\n",
       "       [ 0.81818182],\n",
       "       [ 0.87878788],\n",
       "       [ 0.93939394],\n",
       "       [ 1.        ],\n",
       "       [ 1.06060606],\n",
       "       [ 1.12121212],\n",
       "       [ 1.18181818],\n",
       "       [ 1.24242424],\n",
       "       [ 1.3030303 ],\n",
       "       [ 1.36363636],\n",
       "       [ 1.42424242],\n",
       "       [ 1.48484848],\n",
       "       [ 1.54545455],\n",
       "       [ 1.60606061],\n",
       "       [ 1.66666667],\n",
       "       [ 1.72727273],\n",
       "       [ 1.78787879],\n",
       "       [ 1.84848485],\n",
       "       [ 1.90909091],\n",
       "       [ 1.96969697],\n",
       "       [ 2.03030303],\n",
       "       [ 2.09090909],\n",
       "       [ 2.15151515],\n",
       "       [ 2.21212121],\n",
       "       [ 2.27272727],\n",
       "       [ 2.33333333],\n",
       "       [ 2.39393939],\n",
       "       [ 2.45454545],\n",
       "       [ 2.51515152],\n",
       "       [ 2.57575758],\n",
       "       [ 2.63636364],\n",
       "       [ 2.6969697 ],\n",
       "       [ 2.75757576],\n",
       "       [ 2.81818182],\n",
       "       [ 2.87878788],\n",
       "       [ 2.93939394],\n",
       "       [ 3.        ]])"
      ]
     },
     "execution_count": 2,
     "metadata": {},
     "output_type": "execute_result"
    }
   ],
   "source": [
    "X = x[:, np.newaxis]\n",
    "X"
   ]
  },
  {
   "cell_type": "code",
   "execution_count": 3,
   "metadata": {
    "collapsed": false
   },
   "outputs": [],
   "source": [
    "# comenzamos por dividir nuestro dataset en subconjuntos de entrenamiento (70%) y test (30%)\n",
    "\n",
    "X_train = X[0:70]\n",
    "X_test = X[70:100]\n",
    "y_train = y[0:70]\n",
    "y_test = y[70:100]"
   ]
  },
  {
   "cell_type": "code",
   "execution_count": 4,
   "metadata": {
    "collapsed": false
   },
   "outputs": [
    {
     "data": {
      "text/plain": [
       "(70, 1)"
      ]
     },
     "execution_count": 4,
     "metadata": {},
     "output_type": "execute_result"
    }
   ],
   "source": [
    "np.shape(X_train)"
   ]
  },
  {
   "cell_type": "markdown",
   "metadata": {},
   "source": [
    "![](img/train_test_split.svg)"
   ]
  },
  {
   "cell_type": "code",
   "execution_count": 5,
   "metadata": {
    "collapsed": false
   },
   "outputs": [
    {
     "data": {
      "text/plain": [
       "LinearRegression(copy_X=True, fit_intercept=True, n_jobs=1, normalize=False)"
      ]
     },
     "execution_count": 5,
     "metadata": {},
     "output_type": "execute_result"
    }
   ],
   "source": [
    "# A continuación, utilizamos el algoritmo de aprendizaje utilizado en LinearRegression para adaptar el modelo\n",
    "# de regresión a los datos de entrenamiento.\n",
    "\n",
    "from sklearn.linear_model import LinearRegression\n",
    "\n",
    "regressor = LinearRegression()\n",
    "regressor.fit(X_train, y_train)"
   ]
  },
  {
   "cell_type": "code",
   "execution_count": 6,
   "metadata": {
    "collapsed": false
   },
   "outputs": [
    {
     "name": "stdout",
     "output_type": "stream",
     "text": [
      "Weight coefficients (beta_1):  [ 0.90686278]\n",
      "y-axis intercept (beta_0):  0.428113169416\n"
     ]
    }
   ],
   "source": [
    "# Tras adaptar el modelo a los datos, acabamos de obtener el siguiente modelo de regresión lineal\n",
    "# con los presentes valores\n",
    "\n",
    "print('Weight coefficients (beta_1): ', regressor.coef_)\n",
    "print('y-axis intercept (beta_0): ', regressor.intercept_)"
   ]
  },
  {
   "cell_type": "markdown",
   "metadata": {},
   "source": [
    "* Dado que nuestro modelo de regresión es linear, la relación entre la variable de respuesta $y$ y la variable de entrada $x$ se define como\n",
    "\n",
    "$$y \\approx weight \\times x + \\text{intercept}$$\n",
    "\n",
    "Teniendo en cuenta los valores mínimos y máximos del dataset, podemos ver gráficamente cómo se ajusta el modelo a nuestros datos de entrenamiento:"
   ]
  },
  {
   "cell_type": "code",
   "execution_count": 13,
   "metadata": {
    "collapsed": false
   },
   "outputs": [
    {
     "data": {
      "text/plain": [
       "[<matplotlib.lines.Line2D at 0x7feae2725358>]"
      ]
     },
     "execution_count": 13,
     "metadata": {},
     "output_type": "execute_result"
    },
    {
     "data": {
      "image/png": "[encoded data removed]",
      "text/plain": [
       "<matplotlib.figure.Figure at 0x7feae2725160>"
      ]
     },
     "metadata": {},
     "output_type": "display_data"
    }
   ],
   "source": [
    "min_pt = X.min() * regressor.coef_[0] + regressor.intercept_\n",
    "max_pt = X.max() * regressor.coef_[0] + regressor.intercept_\n",
    "\n",
    "plt.plot([X.min(), X.max()], [min_pt, max_pt])\n",
    "plt.plot(X_train, y_train, 'o')"
   ]
  },
  {
   "cell_type": "code",
   "execution_count": 8,
   "metadata": {
    "collapsed": false
   },
   "outputs": [
    {
     "data": {
      "text/plain": [
       "<matplotlib.legend.Legend at 0x7fbeb64d8390>"
      ]
     },
     "execution_count": 8,
     "metadata": {},
     "output_type": "execute_result"
    },
    {
     "data": {
      "image/png": "[encoded data removed]",
      "text/plain": [
       "<matplotlib.figure.Figure at 0x7fbeb65a75c0>"
      ]
     },
     "metadata": {},
     "output_type": "display_data"
    }
   ],
   "source": [
    "# Vemos la predicción que realiza sobre el conjunto de datos de entrenamiento; esto muestra las limitaciones del modelo.\n",
    "\n",
    "y_pred_train = regressor.predict(X_train)\n",
    "plt.plot(X_train, y_train, 'o', label=\"datos de entrenamiento\")\n",
    "plt.plot(X_train, y_pred_train, 'o', label=\"predicción\")\n",
    "plt.plot([X.min(), X.max()], [min_pt, max_pt], label='fit')\n",
    "plt.legend(loc='best')"
   ]
  },
  {
   "cell_type": "code",
   "execution_count": 9,
   "metadata": {
    "collapsed": false
   },
   "outputs": [
    {
     "data": {
      "image/png": "[encoded data removed]",
      "text/plain": [
       "<matplotlib.figure.Figure at 0x7fbeb6529908>"
      ]
     },
     "metadata": {},
     "output_type": "display_data"
    }
   ],
   "source": [
    "# Vemos el resultado de esta misma predicción sobre el conjunto de datos de test:\n",
    "\n",
    "y_pred_test = regressor.predict(X_test)\n",
    "plt.plot(X_test, y_test, 'o', label=\"datos de test\")\n",
    "plt.plot(X_test, y_pred_test, 'o', label=\"predicción\")\n",
    "plt.plot([X.min(), X.max()], [min_pt, max_pt], label='fit')\n",
    "plt.legend(loc='best');"
   ]
  },
  {
   "cell_type": "markdown",
   "metadata": {},
   "source": [
    "¿Cómo evaluar cuantitativamente los resultados?\n",
    "\n",
    "* scikit-learn, mediante el método ``score``, permite obtener una medida de cuán buena es la predicción. Para ello, la medida más utilizada es el *Error Cuadrático Medio* (MSE), dado por\n",
    "\n",
    "$$MSE = \\frac{1}{n} \\sum^{n}_{i=1} (\\text{predicted}_i - \\text{true}_i)^2$$\n",
    "\n",
    "* Alternativamente, otra medida utilizada es el *Coeficiente de Determinación*, dado por\n",
    "\n",
    "$$R^2 = 1 - \\frac{u}{v}$$\n",
    "\n",
    "donde $u$ es la suma cuadrática de la regresión, $u=\\sum (y - \\hat{y})^2$, mientras que $v$ es la suma cuadrática residual dada por $v = \\sum (y - \\bar{y})^2$, donde $\\bar{y}$ es el promedio de los $y$ observados. El mejor valor posible para $R^2$ es 1, pudiendo tomar el valor de 0 (por ejemplo, para un modelo que siempre prediga $\\bar{y}$) o incluso valores negativos."
   ]
  },
  {
   "cell_type": "code",
   "execution_count": 15,
   "metadata": {
    "collapsed": false
   },
   "outputs": [
    {
     "data": {
      "text/plain": [
       "0.056555325479235696"
      ]
     },
     "execution_count": 15,
     "metadata": {},
     "output_type": "execute_result"
    }
   ],
   "source": [
    "# Veamos los resultados en R**2:\n",
    "\n",
    "regressor.score(X_test, y_test)"
   ]
  },
  {
   "cell_type": "code",
   "execution_count": 13,
   "metadata": {
    "collapsed": false
   },
   "outputs": [
    {
     "data": {
      "text/plain": [
       "0.55257593394489379"
      ]
     },
     "execution_count": 13,
     "metadata": {},
     "output_type": "execute_result"
    }
   ],
   "source": [
    "# Veamos el error cuadrático medio:\n",
    "\n",
    "from sklearn.metrics import mean_squared_error\n",
    "\n",
    "mean_squared_error(y_test, y_pred_test)"
   ]
  },
  {
   "cell_type": "markdown",
   "metadata": {},
   "source": [
    "## Ejercicios de práctica\n",
    "\n",
    "Teniendo la función\n",
    "\n",
    "$$f(x) = 0.01x + (\\sin(x)^2) \\times (\\sin(4x)^2) \\times (0.5\\phi(x))$$\n",
    "\n",
    "donde $\\phi$ es la función de densidad de probabilidad normal estándar evaluada en $x$.\n",
    "\n",
    "1. Implementar $f(x)$.\n",
    "2. Obtener 500 muestras de la función $f(x)$ en el intervalo de $x=[-3 \\leq x \\leq 3]$.\n",
    "3. Teniendo dichas muestras, graficar $f(x)$ en el intervalo de $x=[-3 \\leq x \\leq 3]$.\n",
    "4. Dividir el conjunto total $(x,f(x))$ en un subconjunto de entrenamiento del 70% de las muestras y un subconjunto de test del 30% de las muestras.\n",
    "5. Usar el subconjunto de entrenamiento para entrenar un modelo de regresión lineal para aproximar $f(x)$ en el mencionado intervalo.\n",
    "6. Mostrar gráficamente la regresión para el conjunto de entrenamiento y para el conjunto de test.\n",
    "7. Imprimir el error cuadrático medio para las predicciones sobre los $X$ de entrenamiento y los $X$ de test.\n",
    "\n",
    "\n",
    "Nota: estos ejercicios se encuentran en el material extra, es decir que están como práctica por fuera de los requerimientos de la materia."
   ]
  },
  {
   "cell_type": "code",
   "execution_count": null,
   "metadata": {
    "collapsed": true
   },
   "outputs": [],
   "source": []
  }
 ],
 "metadata": {
  "anaconda-cloud": {},
  "kernelspec": {
   "display_name": "Python 3",
   "language": "python",
   "name": "python3"
  },
  "language_info": {
   "codemirror_mode": {
    "name": "ipython",
    "version": 3
   },
   "file_extension": ".py",
   "mimetype": "text/x-python",
   "name": "python",
   "nbconvert_exporter": "python",
   "pygments_lexer": "ipython3",
   "version": "3.6.0"
  }
 },
 "nbformat": 4,
 "nbformat_minor": 2
}
